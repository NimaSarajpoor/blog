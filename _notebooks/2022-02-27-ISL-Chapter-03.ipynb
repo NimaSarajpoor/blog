{
 "cells": [
  {
   "cell_type": "code",
   "execution_count": null,
   "id": "b10021ec",
   "metadata": {},
   "outputs": [],
   "source": []
  },
  {
   "cell_type": "code",
   "execution_count": 1,
   "id": "d7b0a767",
   "metadata": {},
   "outputs": [],
   "source": [
    "import numpy as np\n",
    "import pandas as pd\n",
    "import matplotlib.pyplot as plt\n",
    "\n",
    "from sklearn.model_selection import train_test_split\n",
    "from sklearn.linear_model import LinearRegression\n",
    "from sklearn.metrics import r2_score"
   ]
  },
  {
   "cell_type": "markdown",
   "id": "09363236",
   "metadata": {},
   "source": [
    "Probably you have heard regression a lot and you know it is an old(?) topic. It shows it is an important topic and it has helped many users in different areas. It can also help us better understand statistical models (in general) and it can be considered as the fundamental tool for building several more-complicated models."
   ]
  },
  {
   "cell_type": "markdown",
   "id": "974e69a4",
   "metadata": {},
   "source": [
    "**Why are you digging the data?**"
   ]
  },
  {
   "cell_type": "markdown",
   "id": "a622e1c3",
   "metadata": {},
   "source": [
    "It is important to improve our skills to ask questions and then try to find the answers! Recall that advertising data, where the features were the TV/Radio/Newspaper budgets, and the target was sale. Given the data, we are asked to come up with a marketing plan for the next year...ok, what questions should we ask?\n",
    "\n",
    "* Is there any evidence that shows a relationship between media(features) and sale(target, ouput)?\n",
    "* If yes, how much is such relationship strong?\n",
    "* Which media is associated with sale? and how much?\n",
    "* How accurately can we predict sale based on the given data?\n",
    "* Is the relationship between features and target linear? If yes, we can use linear regression. If not, can we transform features and/or response to make such relationship linear?\n",
    "* Is there any interaction between features? For instance instead of allocation 100 dollars to TV, we might better off by allocating 50  to TV and 50 to radio."
   ]
  },
  {
   "cell_type": "markdown",
   "id": "1f6287c8",
   "metadata": {},
   "source": [
    "## Simple Linear regression: Univariate Linear Regression"
   ]
  },
  {
   "cell_type": "markdown",
   "id": "c347aaac",
   "metadata": {},
   "source": [
    "For now, we assume a single feature and we want to model its relationship to y using a linear regression."
   ]
  },
  {
   "cell_type": "markdown",
   "id": "5c73e2a2",
   "metadata": {},
   "source": [
    "$y \\approx \\hat{y}=wx + b $"
   ]
  },
  {
   "cell_type": "markdown",
   "id": "569fce03",
   "metadata": {},
   "source": [
    "And, that's it! we just want to use a (linear) line with slope `w` and y-intercept `b`. The goal is to find `w` and `b` such that it minimizes MSE.\n",
    "\n",
    "In the equation above, we regressed y onto x by a linear regression model. `w` and `b` are model coefficients."
   ]
  },
  {
   "cell_type": "markdown",
   "id": "7ec15b4b",
   "metadata": {},
   "source": [
    "Residual Sum of Squares (RSS): $RSS = \\sum\\limits_{i=1}^{n}{e_{i}^{2}}$, where $e_{i}=y_{i} - \\hat{y}_{i} $"
   ]
  },
  {
   "cell_type": "markdown",
   "id": "d7ac5651",
   "metadata": {},
   "source": [
    "We can analytically minimize RSS. In other words, we can find the optimal `w` and `b` analytically. (If interested in math and how to estimate `w` and `b` , please see [Wikipedia](https://en.wikipedia.org/wiki/Simple_linear_regression)). This gives us the **least square coefficient estimates for linear regression model**."
   ]
  },
  {
   "cell_type": "markdown",
   "id": "cd8e1edf",
   "metadata": {},
   "source": [
    "### example"
   ]
  },
  {
   "cell_type": "code",
   "execution_count": 43,
   "id": "f0ad2c3f",
   "metadata": {},
   "outputs": [
    {
     "data": {
      "text/html": [
       "<div>\n",
       "<style scoped>\n",
       "    .dataframe tbody tr th:only-of-type {\n",
       "        vertical-align: middle;\n",
       "    }\n",
       "\n",
       "    .dataframe tbody tr th {\n",
       "        vertical-align: top;\n",
       "    }\n",
       "\n",
       "    .dataframe thead th {\n",
       "        text-align: right;\n",
       "    }\n",
       "</style>\n",
       "<table border=\"1\" class=\"dataframe\">\n",
       "  <thead>\n",
       "    <tr style=\"text-align: right;\">\n",
       "      <th></th>\n",
       "      <th>TV</th>\n",
       "      <th>Radio</th>\n",
       "      <th>Newspaper</th>\n",
       "      <th>Sales</th>\n",
       "    </tr>\n",
       "  </thead>\n",
       "  <tbody>\n",
       "    <tr>\n",
       "      <th>count</th>\n",
       "      <td>200.000000</td>\n",
       "      <td>200.000000</td>\n",
       "      <td>200.000000</td>\n",
       "      <td>200.000000</td>\n",
       "    </tr>\n",
       "    <tr>\n",
       "      <th>mean</th>\n",
       "      <td>147.042500</td>\n",
       "      <td>23.264000</td>\n",
       "      <td>30.554000</td>\n",
       "      <td>14.022500</td>\n",
       "    </tr>\n",
       "    <tr>\n",
       "      <th>std</th>\n",
       "      <td>85.854236</td>\n",
       "      <td>14.846809</td>\n",
       "      <td>21.778621</td>\n",
       "      <td>5.217457</td>\n",
       "    </tr>\n",
       "    <tr>\n",
       "      <th>min</th>\n",
       "      <td>0.700000</td>\n",
       "      <td>0.000000</td>\n",
       "      <td>0.300000</td>\n",
       "      <td>1.600000</td>\n",
       "    </tr>\n",
       "    <tr>\n",
       "      <th>25%</th>\n",
       "      <td>74.375000</td>\n",
       "      <td>9.975000</td>\n",
       "      <td>12.750000</td>\n",
       "      <td>10.375000</td>\n",
       "    </tr>\n",
       "    <tr>\n",
       "      <th>50%</th>\n",
       "      <td>149.750000</td>\n",
       "      <td>22.900000</td>\n",
       "      <td>25.750000</td>\n",
       "      <td>12.900000</td>\n",
       "    </tr>\n",
       "    <tr>\n",
       "      <th>75%</th>\n",
       "      <td>218.825000</td>\n",
       "      <td>36.525000</td>\n",
       "      <td>45.100000</td>\n",
       "      <td>17.400000</td>\n",
       "    </tr>\n",
       "    <tr>\n",
       "      <th>max</th>\n",
       "      <td>296.400000</td>\n",
       "      <td>49.600000</td>\n",
       "      <td>114.000000</td>\n",
       "      <td>27.000000</td>\n",
       "    </tr>\n",
       "  </tbody>\n",
       "</table>\n",
       "</div>"
      ],
      "text/plain": [
       "               TV       Radio   Newspaper       Sales\n",
       "count  200.000000  200.000000  200.000000  200.000000\n",
       "mean   147.042500   23.264000   30.554000   14.022500\n",
       "std     85.854236   14.846809   21.778621    5.217457\n",
       "min      0.700000    0.000000    0.300000    1.600000\n",
       "25%     74.375000    9.975000   12.750000   10.375000\n",
       "50%    149.750000   22.900000   25.750000   12.900000\n",
       "75%    218.825000   36.525000   45.100000   17.400000\n",
       "max    296.400000   49.600000  114.000000   27.000000"
      ]
     },
     "execution_count": 43,
     "metadata": {},
     "output_type": "execute_result"
    }
   ],
   "source": [
    "df = pd.read_csv(\"./datasets/Advertising.csv\", index_col=0)\n",
    "df.describe() #can give us a quick big picture about our data"
   ]
  },
  {
   "cell_type": "code",
   "execution_count": 44,
   "id": "d79ce086",
   "metadata": {},
   "outputs": [],
   "source": [
    "#for now, let us focus on one feature, TV, and build a univariate linear regression\n",
    "\n",
    "X = df['TV'].to_numpy()\n",
    "X = X.reshape(-1,1)\n",
    "\n",
    "y = df.iloc[:,-1].to_numpy()"
   ]
  },
  {
   "cell_type": "code",
   "execution_count": 45,
   "id": "3d8f311d",
   "metadata": {},
   "outputs": [],
   "source": [
    "X_train, X_test, y_train, y_test = train_test_split(X, y, random_state=0)"
   ]
  },
  {
   "cell_type": "code",
   "execution_count": 46,
   "id": "9f0e79dd",
   "metadata": {},
   "outputs": [],
   "source": [
    "#build and fit model\n",
    "regressor = LinearRegression().fit(X_train, y_train)\n",
    "\n",
    "y_train_pred = regressor.predict(X_train)\n",
    "y_test_pred = regressor.predict(X_test)"
   ]
  },
  {
   "cell_type": "code",
   "execution_count": 47,
   "id": "36abe1ec",
   "metadata": {},
   "outputs": [
    {
     "data": {
      "image/png": "[encoded data removed]",
      "text/plain": [
       "<Figure size 432x288 with 1 Axes>"
      ]
     },
     "metadata": {
      "needs_background": "light"
     },
     "output_type": "display_data"
    }
   ],
   "source": [
    "plt.figure()\n",
    "plt.title('regressing feature TV onto target sale')\n",
    "\n",
    "plt.scatter(X_train.ravel(), y_train, color='r', label='train')\n",
    "plt.scatter(X_test.ravel(), y_test, color='b', label='test')\n",
    "plt.plot(X_train.ravel(), y_train_pred, color='k', linewidth=3, label='linear model')\n",
    "\n",
    "plt.xlabel('TV budget')\n",
    "plt.ylabel('sale')\n",
    "plt.legend()\n",
    "plt.show()"
   ]
  },
  {
   "cell_type": "markdown",
   "id": "7434d7e7",
   "metadata": {},
   "source": [
    "The black line linear-regression model is estimated/fitted based on the train data set. Then, it will be used to predict the y-values of test data set."
   ]
  },
  {
   "cell_type": "code",
   "execution_count": 48,
   "id": "e7504b8e",
   "metadata": {},
   "outputs": [
    {
     "name": "stdout",
     "output_type": "stream",
     "text": [
      "w(slop): 0.04614340753674499, and b(y-intercept): 7.248909283005855\n"
     ]
    }
   ],
   "source": [
    "# see parameters of the fitted linear model:\n",
    "w = regressor.coef_[0] #because we have only one variable\n",
    "b = regressor.intercept_ \n",
    "print(f'w(slop): {w}, and b(y-intercept): {b}')"
   ]
  },
  {
   "cell_type": "markdown",
   "id": "478374db",
   "metadata": {},
   "source": [
    "**Discussion on accuracy:** <br>\n",
    "It is important to note that the estimated parameters `w` and `b` are unbiased, i.e. if we fit a linear model onto different sets of training data, we can get the true value of `w`(`b`) by taking the expected values of `w`(`b`), achieved for different sets of training data. Therefore, a better notation might be $\\hat{w}$ and $\\hat{b}$ as they are the estimation of true values $w$ and $b$. However, we usually avoid using hat. If we get different sets of observations of a system and try to model it with linear regression, the expected value of  $w$ (and $b$) will get closer to the actual value."
   ]
  },
  {
   "cell_type": "markdown",
   "id": "8b524bab",
   "metadata": {},
   "source": [
    "Since the estimated value of a parameter (from one set of observation) has some deviation from the true value, we can calculate Standard Error (SE) of the parameter to show how accuracte the estimate is. Standard deviation (std) is for one set of observations while SE is the standard deviation of a statistical parameter for sets of observation. However, we are able to calculte SE even for one set of observation.\n",
    "\n",
    "For more info, watch this video: [std-vs-SE](https://www.youtube.com/watch?v=A82brFpdr9g)"
   ]
  },
  {
   "cell_type": "markdown",
   "id": "0e2b2afb",
   "metadata": {},
   "source": [
    "#### >>>SIDE NOTES<<<"
   ]
  },
  {
   "cell_type": "markdown",
   "id": "9eaac6dd",
   "metadata": {},
   "source": [
    "Before moving forward, I think it would be nice to review some concepts (we may face them in the future though. However, I think it is important  to better understand SE/confidene interval/...). You may want to watch the following videos (better to follow the order). However, if you can trust your knowledge, skip this part!"
   ]
  },
  {
   "cell_type": "markdown",
   "id": "0bce68fc",
   "metadata": {},
   "source": [
    "**Bootstrapping:** Watch [Bootstrapping main concept](https://www.youtube.com/watch?v=Xz0x-8-cgaQ) <br>\n",
    "**Standard Error:** Watch [Standard Error](https://www.youtube.com/watch?v=XNgt7F6FqDU) <br>\n",
    "**Confidence Interval:** Watch [Confidence Interval](https://www.youtube.com/watch?v=TqOeMYtOc1w&t=1s) <br>"
   ]
  },
  {
   "cell_type": "markdown",
   "id": "c4db56fc",
   "metadata": {},
   "source": [
    "Aslo, we may need to do a small review on p-value <br>\n",
    "**Suggestion:** read [MIT note](https://ocw.mit.edu/courses/mathematics/18-05-introduction-to-probability-and-statistics-spring-2014/readings/MIT18_05S14_Reading17b.pdf)"
   ]
  },
  {
   "cell_type": "markdown",
   "id": "6b02c67a",
   "metadata": {},
   "source": [
    "Now, let us get back to where we left off. We were talking about the estimated values $\\hat{w}$ and $\\hat{b}$. Since they are an estimation of true values, it would be interesting to test if there really is association. So, we want to test the following null hypothosesis: There  is no association with Y and X. So, we can repeat the experimnent with new sets of data (or do bootstrapping) and find different values for the estimation of $w$ and $b$. Let us do that for the data we have:"
   ]
  },
  {
   "cell_type": "code",
   "execution_count": 49,
   "id": "9b04deac",
   "metadata": {},
   "outputs": [],
   "source": [
    "#let us focus on X_train:\n",
    "from sklearn import utils\n",
    "\n",
    "n_bootstrap = 1000\n",
    "\n",
    "w_vec = np.zeros(n_bootstrap)\n",
    "b_vec = np.zeros(n_bootstrap)\n",
    "\n",
    "data_train = np.c_[X_train, y_train]\n",
    "for i in range(n_bootstrap):\n",
    "    data_bootstrap = utils.resample(data_train, random_state=i)\n",
    "    regressor = LinearRegression().fit(data_bootstrap[:,0].reshape(-1,1), data_bootstrap[:,1])\n",
    "    \n",
    "    w_vec[i] = regressor.coef_[0]\n",
    "    b_vec[i] = regressor.intercept_"
   ]
  },
  {
   "cell_type": "code",
   "execution_count": 50,
   "id": "bafae091",
   "metadata": {},
   "outputs": [
    {
     "name": "stdout",
     "output_type": "stream",
     "text": [
      "Standard Error:  0.003279658392741697\n"
     ]
    }
   ],
   "source": [
    "#now, let us plot the distribution of `w` (you can do `b` on your own!)\n",
    "w_mu = np.mean(w_vec)\n",
    "w_std = np.std(w_vec)\n",
    "\n",
    "w_SE = w_std #note that Standard Error of w is basically the standard deviation of different values we got for w   \n",
    "print('Standard Error: ', w_SE)"
   ]
  },
  {
   "cell_type": "markdown",
   "id": "d447ce3a",
   "metadata": {},
   "source": [
    "For linear regression, we already have a formula that can give us the w_SE (see book page 66):"
   ]
  },
  {
   "cell_type": "code",
   "execution_count": 51,
   "id": "efc82ab8",
   "metadata": {},
   "outputs": [
    {
     "name": "stdout",
     "output_type": "stream",
     "text": [
      "w_SE using formula of book:  0.003249284898592108\n"
     ]
    }
   ],
   "source": [
    "#Residual Sum of Squares (RSS)\n",
    "y_diff = y_train - y_train_pred\n",
    "RSS = np.sum(np.square(y_diff))\n",
    "\n",
    "#Residual Standard Error(RSE)\n",
    "RSE = np.sqrt(RSS/(X_train.shape[0]-2))\n",
    "\n",
    "#X_dev = sum((X-Xavg)^2)\n",
    "X_dev = np.sum(np.square(X_train - np.mean(X_train)))\n",
    "\n",
    "w_SE_formula = np.sqrt((RSE**2)/X_dev)\n",
    "print('w_SE using formula of book: ', w_SE_formula)"
   ]
  },
  {
   "cell_type": "markdown",
   "id": "ca099d55",
   "metadata": {},
   "source": [
    "As observed, the value of SE of $w$ calculated by bootstrapping is close to what provided by the formula. We can also plot the distribution of $w$ based on the values collected throughout the bootstrapping process. And, we can get approx. 95\\% confidence interval, by using the interval (mu-2*std,mu+2*std)"
   ]
  },
  {
   "cell_type": "code",
   "execution_count": 52,
   "id": "69985430",
   "metadata": {},
   "outputs": [
    {
     "data": {
      "image/png": "[encoded data removed]",
      "text/plain": [
       "<Figure size 432x288 with 1 Axes>"
      ]
     },
     "metadata": {
      "needs_background": "light"
     },
     "output_type": "display_data"
    }
   ],
   "source": [
    "plt.figure()\n",
    "plt.title('distribution of w')\n",
    "\n",
    "plt.hist(w_vec,color='b',label='distribution', density=True)\n",
    "plt.axvline(w,color='orange',label='estimated w')\n",
    "plt.axvline(w_mu,color='k',label='distribution mu')\n",
    "plt.axvline(w_mu-2*w_std,color='r',linestyle='--',label='2*std from mean')\n",
    "plt.axvline(w_mu+2*w_std,color='r',linestyle='--')\n",
    "\n",
    "plt.legend()\n",
    "plt.show()"
   ]
  },
  {
   "cell_type": "markdown",
   "id": "599e6ae0",
   "metadata": {},
   "source": [
    "Also, you may want to dig more into \"linear regression\" topic by calculating how strong is such linear association. IF there is no association, we expect to see w=0. Right? But, we cannot just use the value of $w$, because its magnitude can be easily changed by scaling data. So, we should take into account its standad deviation. But, how to test whether the w is significantly far from zero? In other words, does the result provide a significant evidence that there is an association. \n",
    "\n",
    "Here is where we should use the hypothesis testing. Our null hypothesis is as follows: There is no association between x and y, i.e. slope $w=0$. We have samples, and with samples, we can just estimate our parameter w ($\\hat{w}$). (note that when we calculate $w$, we assume we are calculating $w$ in y=wx+b) We would like to see $\\hat{w}$ to be close to true value $w=0$ IF NULL HYPOTHESIS IS TRUE. Now, we observed $\\hat{w}$ to be around 0.05. Is it significantly far from 0? Well, with null hypothesis $w=0$ and the standard deviation SE (obtained by having in mind $y=wx+b$. SE in both alternative and null hypothesis are the same in linea regression), we  can normalize the observed value and caluclate t-score as follows:"
   ]
  },
  {
   "cell_type": "code",
   "execution_count": 53,
   "id": "980b4692",
   "metadata": {},
   "outputs": [
    {
     "name": "stdout",
     "output_type": "stream",
     "text": [
      "t is:  14.069577380030264\n"
     ]
    }
   ],
   "source": [
    "t = (w - 0)/w_SE\n",
    "print('t is: ', t) "
   ]
  },
  {
   "cell_type": "markdown",
   "id": "f2db9735",
   "metadata": {},
   "source": [
    "Now, if we use t-distribution table (with degree-of-freedom = function (n_samples)), we will see that the p-value is very small (almost zeros). Now, we know that we can reject our null hypothesis (i.e. there is an association between X and Y). Now, the question is: \"How strong/accurate is the proposed (i.e. linear) model?\" In other words, we know we should reject the non-association hypothesis. But, can we trust our LINEAR model (i.e is that a good fit)?"
   ]
  },
  {
   "cell_type": "code",
   "execution_count": 54,
   "id": "363b38ea",
   "metadata": {},
   "outputs": [
    {
     "name": "stdout",
     "output_type": "stream",
     "text": [
      "r2 score on training set:  0.5767451599400782\n",
      "r2 score on training set:  0.6902574858002379\n"
     ]
    }
   ],
   "source": [
    "regressor = LinearRegression().fit(X_train, y_train)\n",
    "\n",
    "y_train_pred = regressor.predict(X_train)\n",
    "y_test_pred = regressor.predict(X_test)\n",
    "\n",
    "print('r2 score on training set: ', r2_score(y_train, y_train_pred))\n",
    "print('r2 score on training set: ', r2_score(y_test, y_test_pred))"
   ]
  },
  {
   "cell_type": "markdown",
   "id": "226ef7da",
   "metadata": {},
   "source": [
    "we can see that the r2_score (normalized deviation from true y) is low for this model. (a good r2_score is close to 1, see below for more detail)  "
   ]
  },
  {
   "cell_type": "markdown",
   "id": "816049a6",
   "metadata": {},
   "source": [
    "$r2\\_score = 1 - \\frac{RSS}{TSS}$, where: \n",
    "\n",
    "$RSS = \\sum\\limits_{i=1}^{n}(y_{i} - \\hat{y}_{i})^{2}$, and $TSS = \\sum\\limits_{i=1}^{n}(y_{i} - \\bar{y})^{2}$"
   ]
  },
  {
   "cell_type": "markdown",
   "id": "6f9a33cd",
   "metadata": {},
   "source": [
    "We can think of RSS as amount of variation left unexplained after using the model. (note that, initially (before modeling), the variation in Y was TSS). r2_score is between 0(?) and 1, and the closer to one, the better."
   ]
  },
  {
   "cell_type": "markdown",
   "id": "f9d7414f",
   "metadata": {},
   "source": [
    "Another metric is $RSE = \\sqrt{\\frac{RSS}{n-2}}$, however, $RSE$ can change when we re-scale data. So, we should better normalize this by dividing $RSS$ by $\\bar{y}$. There is also F-statistics (it will be covered later)"
   ]
  },
  {
   "cell_type": "markdown",
   "id": "df8d9109",
   "metadata": {},
   "source": [
    "# Multi-variate (Multiple) Linear Regression"
   ]
  },
  {
   "cell_type": "markdown",
   "id": "dab4b9f8",
   "metadata": {},
   "source": [
    "Now that we leanred about the concepts of linear regression, we should see how we can extend it to consider more than one variable. Why not providing simple (univariate) linear regression for  each variable? Because, we cannot know how to estimate the target sale given all three variables together. Also, we are ignoring two variables when using only one variable for predicing sale. We'll see that such consideration can result in misleading result if there is a correlation between two/more (input) variables."
   ]
  },
  {
   "cell_type": "markdown",
   "id": "f1988263",
   "metadata": {},
   "source": [
    "$y \\approx \\hat{y}  = w_{1}x_{1} + w_{2}x_{2} + ... + w_{p}x_{p} + b  = W^{T}X + b$ "
   ]
  },
  {
   "cell_type": "markdown",
   "id": "75494060",
   "metadata": {},
   "source": [
    "As stated earlier, we should avoid using (seperate,) several simple linear regression (one simple linear regression for each individual predictor)."
   ]
  },
  {
   "cell_type": "markdown",
   "id": "1924b773",
   "metadata": {},
   "source": [
    "**practice:** try to find the advertisement data with simple linear regression, and then with multiple linear regression, \n",
    "and discuss the results. Are the coefficienet of simple-vs-mutliple close for each predictor? If not, why? what does that mean? (Hint: you can plot the correlation matrix that shows the correlation between predictors)"
   ]
  },
  {
   "cell_type": "markdown",
   "id": "4716c006",
   "metadata": {},
   "source": [
    "**Let us first implement a multi-linear regression:**"
   ]
  },
  {
   "cell_type": "code",
   "execution_count": 55,
   "id": "b0af82db",
   "metadata": {},
   "outputs": [],
   "source": [
    "X = df.iloc[:,:-1].to_numpy()\n",
    "y = df.iloc[:,-1].to_numpy()\n",
    "\n",
    "X_train, X_test, y_train, y_test = train_test_split(X, y, random_state=0)\n",
    "\n",
    "regressor = LinearRegression().fit(X_train, y_train)\n",
    "\n",
    "y_train_pred = regressor.predict(X_train)\n",
    "y_test_pred = regressor.predict(X_test)"
   ]
  },
  {
   "cell_type": "code",
   "execution_count": 56,
   "id": "f8e5995e",
   "metadata": {},
   "outputs": [
    {
     "name": "stdout",
     "output_type": "stream",
     "text": [
      "the y intercept is:  2.89257005115115\n",
      "the coefficients correspond to three features are:  [0.04416235 0.19900368 0.00116268]\n"
     ]
    }
   ],
   "source": [
    "#check out coefficients...\n",
    "print('the y intercept is: ', regressor.intercept_)\n",
    "print('the coefficients correspond to three features are: ', regressor.coef_)"
   ]
  },
  {
   "cell_type": "markdown",
   "id": "c2922ae3",
   "metadata": {},
   "source": [
    "please note that our results are slightly different than what presented in the book because: (1) the authors may used the whole data; however, we here only used the train data set, and/or (2) even if the authors use train set, they might got other samples in their train set that is different to the one obtained by the function `train_test_split`."
   ]
  },
  {
   "cell_type": "markdown",
   "id": "b5869f4d",
   "metadata": {},
   "source": [
    "now, how can I determine the importance of each feature? Note that the scale of coefficients depends on the scale of values per feature. So, better to standardize them!"
   ]
  },
  {
   "cell_type": "code",
   "execution_count": 57,
   "id": "8aa0815d",
   "metadata": {},
   "outputs": [
    {
     "name": "stdout",
     "output_type": "stream",
     "text": [
      "the y intercept is:  14.351333333333333\n",
      "the coefficients correspond to three features are:  [3.72650688 2.94496827 0.02370631]\n"
     ]
    }
   ],
   "source": [
    "from sklearn.preprocessing import StandardScaler\n",
    "sc = StandardScaler().fit(X_train)\n",
    "X_train = sc.transform(X_train)\n",
    "X_test = sc.transform(X_test)\n",
    "\n",
    "regressor = LinearRegression().fit(X_train, y_train)\n",
    "\n",
    "y_train_pred = regressor.predict(X_train)\n",
    "y_test_pred = regressor.predict(X_test)\n",
    "\n",
    "print('the y intercept is: ', regressor.intercept_)\n",
    "print('the coefficients correspond to three features are: ', regressor.coef_)"
   ]
  },
  {
   "cell_type": "code",
   "execution_count": 58,
   "id": "dddc8b11",
   "metadata": {},
   "outputs": [
    {
     "name": "stdout",
     "output_type": "stream",
     "text": [
      "r2 score on training set:  0.9072183330817297\n",
      "r2 score on training set:  0.8576396745320893\n"
     ]
    }
   ],
   "source": [
    "#let us calculate the  r2_score:\n",
    "print('r2 score on training set: ', r2_score(y_train, y_train_pred))\n",
    "print('r2 score on training set: ', r2_score(y_test, y_test_pred))"
   ]
  },
  {
   "cell_type": "markdown",
   "id": "6e07ff59",
   "metadata": {},
   "source": [
    "This is an interesting result. It shows the model with three predictors can be LINEAR! (We saw before that considering a single predictor cannot result in a good LINEAR model)"
   ]
  },
  {
   "cell_type": "markdown",
   "id": "77f5225b",
   "metadata": {},
   "source": [
    "The results above indicate that there is a considerable relationship between the first two features and the target value. However, the coefficient for the last feature is almost zero, which suggest the last feature (i.e. Newspaper) has no significant impact on the target. \n",
    "\n",
    "It might be a good idea to evaluate p-value for each coefficient by calculate its t-statisitcs. That can give us some idea on how far/close we are to the NULL HYPOTHESIS VALUE of `coef = 0`. Also, it "
   ]
  },
  {
   "cell_type": "markdown",
   "id": "2a1b4c2a",
   "metadata": {},
   "source": [
    "**NOTE:** Please note that bootstrapping on multiple linear regression is complicated. Also, calculating the SE of each coefficient requires you to be familiar with linear algebra. To avoid it (as we want to stay close to the scope of this series of tutorials), we use a python package to that for us (sklearn linear regression does not provide p-value)"
   ]
  },
  {
   "cell_type": "code",
   "execution_count": 59,
   "id": "06c6b37e",
   "metadata": {},
   "outputs": [
    {
     "name": "stdout",
     "output_type": "stream",
     "text": [
      "                            OLS Regression Results                            \n",
      "==============================================================================\n",
      "Dep. Variable:                      y   R-squared:                       0.907\n",
      "Model:                            OLS   Adj. R-squared:                  0.905\n",
      "Method:                 Least Squares   F-statistic:                     475.9\n",
      "Date:                Tue, 22 Feb 2022   Prob (F-statistic):           3.89e-75\n",
      "Time:                        20:11:23   Log-Likelihood:                -279.71\n",
      "No. Observations:                 150   AIC:                             567.4\n",
      "Df Residuals:                     146   BIC:                             579.5\n",
      "Df Model:                           3                                         \n",
      "Covariance Type:            nonrobust                                         \n",
      "==============================================================================\n",
      "                 coef    std err          t      P>|t|      [0.025      0.975]\n",
      "------------------------------------------------------------------------------\n",
      "const         14.3513      0.129    111.038      0.000      14.096      14.607\n",
      "x1             3.7265      0.131     28.543      0.000       3.468       3.985\n",
      "x2             2.9450      0.135     21.750      0.000       2.677       3.213\n",
      "x3             0.0237      0.137      0.174      0.862      -0.246       0.294\n",
      "==============================================================================\n",
      "Omnibus:                       12.292   Durbin-Watson:                   2.055\n",
      "Prob(Omnibus):                  0.002   Jarque-Bera (JB):               13.534\n",
      "Skew:                          -0.736   Prob(JB):                      0.00115\n",
      "Kurtosis:                       3.001   Cond. No.                         1.40\n",
      "==============================================================================\n",
      "\n",
      "Notes:\n",
      "[1] Standard Errors assume that the covariance matrix of the errors is correctly specified.\n"
     ]
    }
   ],
   "source": [
    "import statsmodels.api as sm\n",
    "\n",
    "# here a constant column should be added as new feature, which will act as the y-intercept! \n",
    "# This is how statsmodels works!\n",
    "X_train_sm = sm.add_constant(X_train)\n",
    "\n",
    "regressor = sm.OLS(y_train, X_train_sm)\n",
    "regressor = regressor.fit()\n",
    "print(regressor.summary())"
   ]
  },
  {
   "cell_type": "markdown",
   "id": "928f9aa6",
   "metadata": {},
   "source": [
    "**Now, we can see the p-value of third feature is very large. It indicates that the NULL HYPOTHSIS of \"there is relationship between x3 (i.e. newspaper) and y (i.e. sales)\" cannot be rejected! So, maybe there is no relationship. Let us see if removing that can enhance the r2_score:**"
   ]
  },
  {
   "cell_type": "code",
   "execution_count": 60,
   "id": "8d7aff1f",
   "metadata": {},
   "outputs": [
    {
     "name": "stdout",
     "output_type": "stream",
     "text": [
      "the y intercept is:  14.351333333333333\n",
      "the coefficients correspond to three features are:  [3.72945528 2.95186219]\n",
      "-----\n",
      "r2 score on training set:  0.9071991785449653\n",
      "r2 score on test set:  0.8580883042722334\n"
     ]
    }
   ],
   "source": [
    "# get X and y\n",
    "X = df.iloc[:,:-2].to_numpy() #excluding newspaper!\n",
    "y = df.iloc[:,-1].to_numpy()\n",
    "\n",
    "# train_test split\n",
    "X_train, X_test, y_train, y_test = train_test_split(X, y, random_state=0)\n",
    "\n",
    "# scaling data (so the slopes not be impacted by the scale of data) [Optional!]\n",
    "sc = StandardScaler().fit(X_train)\n",
    "X_train = sc.transform(X_train)\n",
    "X_test = sc.transform(X_test)\n",
    "\n",
    "# fit liner model to data\n",
    "regressor = LinearRegression().fit(X_train, y_train)\n",
    "\n",
    "# pred y of train & test using both train and test sets\n",
    "y_train_pred = regressor.predict(X_train)\n",
    "y_test_pred = regressor.predict(X_test)\n",
    "\n",
    "# get the coef & intercept of fitted linear model\n",
    "print('the y intercept is: ', regressor.intercept_)\n",
    "print('the coefficients correspond to three features are: ', regressor.coef_)\n",
    "print('-----')\n",
    "\n",
    "# calculate the  r2_score:\n",
    "print('r2 score on training set: ', r2_score(y_train, y_train_pred))\n",
    "print('r2 score on test set: ', r2_score(y_test, y_test_pred))"
   ]
  },
  {
   "cell_type": "markdown",
   "id": "127682d2",
   "metadata": {},
   "source": [
    "We may notice some small changes. The correct approach is to do it on different sets of test set (e.g. using cross-validation- will be discussed later!) and get the average & std of r2_score. For now, it seems the r2_score is slightly decreased! It is important to note that increasing number of predictors increase $r2\\_score$ anyway (However, we can see here the change is really small which indicates that the added predictor is not significant! Its inclusion may result in worse performance of model on test set). Since R2 changes, we cannot usually compare two models of same type and of same data that uses different number of predictors. So, we should use `adjusted r2\\_score`. What is it? Google / read sklearn docs.\n",
    "\n",
    "But, why do we get a not-close-to-zero slope for newspaper when it is being used alone as the single predictor in simple (univariate) linear regression? (in that case, we also get low p-value, which means there exist a relationship between y and newspaper. So, what is going on? (**NOTE:** please note that we haven't shown the results of single-predictor newspaper. You are encourage to do it!)\n",
    "\n",
    "Answer: <br>\n",
    "The reason is that there is correlation between newspaper and probably another predictor. So, when we increase newspaper by $\\Delta$ amount, we are increasing the other (hidden) factor by (a fraction of) $\\Delta$ as well. (Why hidden? because we said that we are using single-predictor \"newspaper\". So, the other variable cannot be seen. But, it can have impact on the input when we change some other factor!!\n",
    "(E.g. You can change the weather from winter to summer. This changes the number of people go to beach! and that increases the sale of a person who sells ice cream! So, the actual relationship is between the salesman and the number of peoples in the beach.)"
   ]
  },
  {
   "cell_type": "code",
   "execution_count": 61,
   "id": "0f65853d",
   "metadata": {},
   "outputs": [
    {
     "name": "stdout",
     "output_type": "stream",
     "text": [
      "                 TV     Radio  Newspaper\n",
      "TV         1.000000  0.054809   0.056648\n",
      "Radio      0.054809  1.000000   0.354104\n",
      "Newspaper  0.056648  0.354104   1.000000\n"
     ]
    }
   ],
   "source": [
    "# let us take a look at correlation\n",
    "X = df.iloc[:,:-1] # X is dataframe\n",
    "print(X.corr())"
   ]
  },
  {
   "cell_type": "markdown",
   "id": "1159cea0",
   "metadata": {},
   "source": [
    "Now, we can see the correlation between Radio and Newspaper is not bad! It is actually ~0.35. So, Even if we predict sale with newspaper, a change in newspaper is correlated with change in Radio (so the value of radio changes and so the value of target, i.e. sales!). Therefere we might believe that there is an actual relationship between y and the newspaper. However, we know that is not true (as we saw before when we used all of them for predicting target)"
   ]
  },
  {
   "cell_type": "markdown",
   "id": "c073dfdb",
   "metadata": {},
   "source": [
    "**NOTE:**<br>\n",
    "Although p-value is an interesting topic, it might be difficult to calculate it and then make a decision about whether keep or remove a particular predictor. Alternatively, we can do `feature-selection`. It is a process that helps us choose better predictors. Feel free to dig into the sklearn and find different ways to select features... (see API: [feature_selection](https://scikit-learn.org/stable/modules/feature_selection.html#))."
   ]
  },
  {
   "cell_type": "code",
   "execution_count": 62,
   "id": "aeb619c8",
   "metadata": {},
   "outputs": [
    {
     "data": {
      "text/plain": [
       "array([0.67383545, 0.47087372, 0.        ])"
      ]
     },
     "execution_count": 62,
     "metadata": {},
     "output_type": "execute_result"
    }
   ],
   "source": [
    "#example (think about it and read the document if you are not familiar with something!)\n",
    "from sklearn.feature_selection import mutual_info_regression\n",
    "mutual_info_regression(X, y)"
   ]
  },
  {
   "cell_type": "markdown",
   "id": "529bea2d",
   "metadata": {},
   "source": [
    "**some interesting questions:**\n",
    "* Is at least one of predictors useful for predicting the response? --> use F-statistics: come back later!\n",
    "* If yes, then which subset of  predictors help to explain Y? Is it all of them? --> Forward/Backward/mix selection\n",
    "* Goodness-of-fit score?\n",
    "* Given a new test point X, what/how to predict its response (corresponding target y value), and how accurate is that?"
   ]
  },
  {
   "cell_type": "markdown",
   "id": "713fef3c",
   "metadata": {},
   "source": [
    "**> Q1: Is at least one of predictors useful for predicting the response?**\n",
    "\n",
    "Similar to p-value calculated for each predictor in multi-variate linear regression, we can calculate a single F-statistic value as follows:\n",
    "\n",
    "$F-statistics = {\\frac{p}{n-p-1}}{\\frac{TSS - RSS}{RSS}}$\n",
    "\n",
    "(note that: $R^{2} = \\frac{TSS - RSS}{TSS}$, so do not get confused!)\n",
    "\n",
    "Recall that:<br>\n",
    "$TSS = {\\sum\\limits_{i=1}^{n}(y_{i} - \\bar{y})^{2}}$, and $RSS = {\\sum\\limits_{i=1}^{n}(y_{i} - \\hat{y}_{i})^{2}}$."
   ]
  },
  {
   "cell_type": "code",
   "execution_count": 63,
   "id": "747b094c",
   "metadata": {},
   "outputs": [],
   "source": [
    "#let us calculate F-statistics\n",
    "def f_statistics(y_true, y_pred, p):\n",
    "    \"\"\"\n",
    "    This function calculates the F-statistics of a fitted linear regression model.\n",
    "    \n",
    "    Parameters\n",
    "    ----------\n",
    "    y_true: ground truth values of target y\n",
    "    y_pred: predicted values of target y (using fitted linear regression model)\n",
    "    \n",
    "    output\n",
    "    ---------\n",
    "    f_statistics_value: scalar\n",
    "    shows the value of F-statistics.\n",
    "    \"\"\"\n",
    "    RSS_by_TSS = 1 - r2_score(y_true, y_train_pred)\n",
    "    \n",
    "    n = len(y_true)\n",
    "    \n",
    "    return ((n-p-1) / p) * (1/RSS_by_TSS - 1)"
   ]
  },
  {
   "cell_type": "code",
   "execution_count": 64,
   "id": "03dc7f32",
   "metadata": {},
   "outputs": [
    {
     "name": "stdout",
     "output_type": "stream",
     "text": [
      "f_statistics value is:  475.7539785778091\n"
     ]
    }
   ],
   "source": [
    "f_statistics_val  = f_statistics(y_train, y_train_pred, p = 3)\n",
    "print('f_statistics value is: ', f_statistics_val)"
   ]
  },
  {
   "cell_type": "markdown",
   "id": "20166843",
   "metadata": {},
   "source": [
    "So, what does this value tell us?"
   ]
  },
  {
   "cell_type": "markdown",
   "id": "4871f179",
   "metadata": {},
   "source": [
    "F-statistics is a measure that helps us to reject OR not reject the NULL HYPOTHESIS: \"there is no relationship between y and any other features\" (H alternative is: \"there is at least one feature that is related to target y\")\n",
    "\n",
    "If f-statistics is close to one, that means we canNOT reject null hypothesis (i.e. there might be no relationship between y and features). However, if it gets greater than one, we should reject null hypothsis. How much greater? Well, if the number of samples are many, a F-statistics that are higher than 1 should be enough for rejecting null hypothesis. However, if n_samples is small, we should get a very large value for f-statisitcs.\n",
    "\n",
    "Why are we comparing f-statistics with one? Well, for that you need to go deeper, and I recommend you go through this part and understand its formula for linear regression as it can help you understand the reason behind \"one\"."
   ]
  },
  {
   "cell_type": "markdown",
   "id": "f9d2067b",
   "metadata": {},
   "source": [
    "**Should I do hypothesis testing everytime?** Well, in my experience (whether practicing on my own or reading blogs), I realized you can simply try different preprocessing (feature selection / feature engineering) and build ML model in an iterative  process to get better models. Therefore, I think null hypothesis may be too much details for Machine Learing, particularly when things get heavy, how can one apply these methods? I believe you should have a very good grasp on such concept to be able to apply it in different (more difficult/complicated) context. Therefore, I decide to stop discussing this matter further. I will do the same in other chapters. (I might discuss things if I feel something is really important or necessary. That is just my personal view and you should all feel free to have your opinion or get into further details if you feel so."
   ]
  },
  {
   "cell_type": "markdown",
   "id": "50964523",
   "metadata": {},
   "source": [
    "**> which subset of predictors help to explain Y?** <br>\n",
    "This is variable selection (a.k.a feature selection / feature extraction). The goal is to find a subset of predictors that are associated with response variable and dump the unncessary features.Three classicial approaches are: F-selection, B-selection, and mixed-selection. To reject/choose a feature is based on p-value. (Or is it? please go through the sklearn document and see if the selection procedure is based on p-value/r2_score/or any other score that can be defined by user."
   ]
  },
  {
   "cell_type": "markdown",
   "id": "0c5761fb",
   "metadata": {},
   "source": [
    "**> Goodness-of-fit score?** <br>\n",
    "Two of most common goodness-of-fit measures are: $R^{2}$, and $RSE$. Below, we review their formula: <br>\n",
    "\n",
    "$y \\approx \\hat{y}=wx + b $\n",
    "\n",
    "$r2\\_score = 1 - \\frac{RSS}{TSS}$, with  $RSS = \\sum\\limits_{i=1}^{n}(y_{i} - \\hat{y}_{i})^{2}$, and $TSS = \\sum\\limits_{i=1}^{n}(y_{i} - \\bar{y})^{2}$; (**side note:** $MSE  = \\frac{RSS}{n}$)\n",
    "\n",
    "\n",
    "$RSE = \\sqrt{\\frac{RSS}{n-2}}$. Note that this is for univariate linear regression. For multi-variate linear regression (with $p>1$ predictors), the formula is as follows:\n",
    "\n",
    "$RSE = \\sqrt{\\frac{RSS}{n-p-1}}$, why n-p-1? (well, you should go deeper in statisitics. It can be shown that RSS has the following distribution: <br>\n",
    "\n",
    "$RSS:  {\\sigma^{2}}.{ChiSq(dof = n-p-1)}$, where  \\sigma is the unexplained (inevitable/irreducible) part of error.\n",
    "\n",
    "It can be shown that $E(RSS)=\\sigma^{2}(n−p-1)$. That means the RSS gets bigger by increasing the number of samples. To get an unbiased estimator, we can define $err = \\frac{RSS}{n-p-1}$ to make sure the expected error is independent of size of samples. "
   ]
  },
  {
   "cell_type": "markdown",
   "id": "5b4c3b64",
   "metadata": {},
   "source": [
    "**NOTE:** If $r2\\_score$ is close to 1, that means the model explains a large portion of the variance in the response variable (because high value of $r2\\_score$ means lower $RSS$, which basically means the `predicted y` is close to `true y`. In other words, the variance in response value is explained more by the model when `r2_score` is higher."
   ]
  },
  {
   "cell_type": "code",
   "execution_count": 65,
   "id": "e5955582",
   "metadata": {},
   "outputs": [
    {
     "data": {
      "text/plain": [
       "array([10.05850143,  7.43463468,  6.9661994 , 24.15243914, 11.98916444,\n",
       "        6.53178763, 13.04950021, 14.97882008, 10.96419972, 16.29194785,\n",
       "       22.97702398,  9.11866768, 10.35083976, 15.41998146, 11.61343299,\n",
       "       12.13304052, 18.63911396, 10.84085527, 16.06625596, 17.24957539,\n",
       "       24.1992535 ,  9.4907953 , 15.13793325, 12.40194589,  5.67441768,\n",
       "       15.25325562, 12.22468988, 20.96744356, 13.28984304,  9.1466426 ,\n",
       "       13.20808468, 21.55555909, 18.08972886, 21.17325034,  6.66589347,\n",
       "        6.15099434,  7.93871645, 13.05606428, 14.81041234,  6.21002077,\n",
       "       12.24132755,  9.21008876, 15.0711734 , 16.28374757, 17.13850043,\n",
       "       13.3542833 ,  3.70990642, 12.3746764 , 15.82694849,  8.67093635])"
      ]
     },
     "execution_count": 65,
     "metadata": {},
     "output_type": "execute_result"
    }
   ],
   "source": [
    "#now let us plot the regression with two predictors \"TV\" and \"Radio\"\n",
    "\n",
    "#STEP1: Fitting model to train data\n",
    "# get X and y\n",
    "X = df.iloc[:,:-2].to_numpy() #excluding newspaper!\n",
    "y = df.iloc[:,-1].to_numpy()\n",
    "\n",
    "# train_test split\n",
    "X_train, X_test, y_train, y_test = train_test_split(X, y, random_state=0)\n",
    "\n",
    "# scaling data (so the slopes not be impacted by the scale of data) [Optional!]\n",
    "sc = StandardScaler().fit(X_train)\n",
    "X_train = sc.transform(X_train)\n",
    "X_test = sc.transform(X_test)\n",
    "\n",
    "# fit liner model to data\n",
    "regressor = LinearRegression().fit(X_train, y_train)\n",
    "\n",
    "# pred y of train & test using both train and test sets\n",
    "y_train_pred = regressor.predict(X_train)\n",
    "y_test_pred = regressor.predict(X_test)\n",
    "\n",
    "y_test_pred"
   ]
  },
  {
   "cell_type": "code",
   "execution_count": 66,
   "id": "fa994fed",
   "metadata": {},
   "outputs": [
    {
     "data": {
      "image/png": "[encoded data removed]",
      "text/plain": [
       "<Figure size 2160x720 with 1 Axes>"
      ]
     },
     "metadata": {
      "needs_background": "light"
     },
     "output_type": "display_data"
    }
   ],
   "source": [
    "#STEP2: Plotting the  3d graph and hyperplane\n",
    "min_feature, max_feature = -3, 3\n",
    "\n",
    "feature_0, feature_1 = np.meshgrid(np.arange(min_feature,max_feature,0.1),\n",
    "                                   np.arange(min_feature,max_feature,0.1))\n",
    "\n",
    "X_mesh = np.c_[feature_0.ravel(), feature_1.ravel()]\n",
    "y_mesh = regressor.predict(X_mesh)\n",
    "\n",
    "fig = plt.figure(figsize=(30,10))\n",
    "#plot the fitted hyperplane that contains point (x,y,z) \n",
    "#... where the z is the prediction of response variable for predictors x,y\n",
    "ax = fig.add_subplot(111, projection='3d')\n",
    "\n",
    "ax.scatter(X_mesh[:,0],X_mesh[:,1],y_mesh, c='b', alpha=0.1)\n",
    "ax.scatter(X_train[:,0], X_train[:,1], y_train, c='r')\n",
    "\n",
    "ax.set_xlabel('feature TV')\n",
    "ax.set_ylabel('feature Radio')\n",
    "ax.set_zlabel('target: Sale')\n",
    "    \n",
    "ax.view_init(elev=3, azim=110)\n",
    "plt.show()"
   ]
  },
  {
   "cell_type": "markdown",
   "id": "4cd37318",
   "metadata": {},
   "source": [
    "We can see that some of the points are above it and some others below it."
   ]
  },
  {
   "cell_type": "markdown",
   "id": "4f0ec7a5",
   "metadata": {},
   "source": [
    "**> Three types of errors associated with (mutiple) linear regression:**<br>\n",
    "* The paramters W and b are just estimation of true W and b. We can use the concept of confidence interval to show how close $\\hat{Y}$ is to $Y$ (different estimation of parameters-e.g. via bootstrapping- leads to different parameters...and thus different $\\hat{Y}$ on the test set.\n",
    "\n",
    "* Bias Error: Because we assumed that the model is linear (which is usually not the reality!). So, our model has some bias error. For now, we ignore this and we think our model is true.\n",
    "\n",
    "* Even if we have true estimator, our prediction still has the  irreducible error(with distribution $N(0, \\sigma)$. We use Prediction Interval to show how close $\\hat{Y}$ is to $Y$. For instance, let's say I want to focus on a subsample of data and fit a linear model onto it. I can say my model is closer to the actual model for this subsample. However, since n of samplesa are smaller, we are dealing with higher uncertainty, and there for prediction interval becomes longer/"
   ]
  },
  {
   "cell_type": "markdown",
   "id": "7c333628",
   "metadata": {},
   "source": [
    "**Get deeper: Confidence Interval vs Prediction Interval** <br>\n",
    "Later :)"
   ]
  },
  {
   "cell_type": "markdown",
   "id": "c6b2c318",
   "metadata": {},
   "source": [
    "**Some extra consideration:** \n",
    "<br>\n",
    "(1) Qualitative Predictors: fancy word for categorical features :).. sometimes the  predictors are not numerical, so we should transform (encode) the categorical features into numerical ones. \n",
    "<br>\n",
    "\n",
    "(2) Some times the qualitative predicor contains two group only: (e.g. it is day or night).. in this case we can create a dummy variable and show  the labels day/night with the help of binary value 0/1. In machine learning, we call it one-hot-encoding which can be used for  a categorical feature with more than two labels as well)\n",
    "(**note:** We may want to take a look at the p-value of the dummy variable. If it is big, it means it doesn't affect $Y$ significantly. We should be able to see such fact with help of $r2\\_score$ as well.)\n",
    "<br>"
   ]
  },
  {
   "cell_type": "markdown",
   "id": "eccc07d5",
   "metadata": {},
   "source": [
    "**Note:** <br>\n",
    "As depcited in the figure above, when both features have high values, the model underestimate the target value. That can mean that the two features have some synergy that in practice, they boost each other.\n",
    "\n",
    "To model this, we define a new variable `X = TV * Radio` and add it to the previous ones (better to keep both `TV` and `Radio`as well). Let us see the result:"
   ]
  },
  {
   "cell_type": "code",
   "execution_count": 67,
   "id": "c7d8ef51",
   "metadata": {},
   "outputs": [
    {
     "name": "stdout",
     "output_type": "stream",
     "text": [
      "the y intercept is:  14.351333333333335\n",
      "the coefficients correspond to three features are:  [1.57858188 0.49099955 3.60921627]\n",
      "-----\n",
      "r2 score on training set:  0.9739792008933047\n",
      "r2 score on test set:  0.9481495211786501\n"
     ]
    }
   ],
   "source": [
    "# get X and y\n",
    "X = df.iloc[:,:-2].to_numpy() #excluding newspaper!\n",
    "y = df.iloc[:,-1].to_numpy()\n",
    "\n",
    "X = np.c_[X, X[:,0]*X[:,1]] #add TV * radio\n",
    "\n",
    "# train_test split\n",
    "X_train, X_test, y_train, y_test = train_test_split(X, y, random_state=0)\n",
    "\n",
    "# scaling data (so the slopes not be impacted by the scale of data) [Optional!]\n",
    "sc = StandardScaler().fit(X_train)\n",
    "X_train = sc.transform(X_train)\n",
    "X_test = sc.transform(X_test)\n",
    "\n",
    "# fit liner model to data\n",
    "regressor = LinearRegression().fit(X_train, y_train)\n",
    "\n",
    "# pred y of train & test using both train and test sets\n",
    "y_train_pred = regressor.predict(X_train)\n",
    "y_test_pred = regressor.predict(X_test)\n",
    "\n",
    "# get the coef & intercept of fitted linear model\n",
    "print('the y intercept is: ', regressor.intercept_)\n",
    "print('the coefficients correspond to three features are: ', regressor.coef_)\n",
    "print('-----')\n",
    "\n",
    "# calculate the  r2_score:\n",
    "print('r2 score on training set: ', r2_score(y_train, y_train_pred))\n",
    "print('r2 score on test set: ', r2_score(y_test, y_test_pred))"
   ]
  },
  {
   "cell_type": "markdown",
   "id": "523a3fcc",
   "metadata": {},
   "source": [
    "What we did can be considered as feature engineering. We tried to engineer a feature to help model!"
   ]
  },
  {
   "cell_type": "markdown",
   "id": "8b15c352",
   "metadata": {},
   "source": [
    "**TIP:** Think about the problem and results and get some insight can result to a good feature engineering! We can even combine a categorical and numerical features. For instance, if X1 is categorical (with tags 0 an 1) and X2 is numerical, and the impact of X2 on response might be different for different tags of X1, we can create an additional feature $X3 = X2 \\times X1$."
   ]
  },
  {
   "cell_type": "markdown",
   "id": "dcff9a20",
   "metadata": {},
   "source": [
    "**#practice:**<br>\n",
    "credit data, predicting balance using income and student features"
   ]
  },
  {
   "cell_type": "markdown",
   "id": "99fa9584",
   "metadata": {},
   "source": [
    "**TIP:** If data shows non-linear relationship, we can use the concept of \"polynomial feature\", so, in addition to X1, we may consider $X1^{2}$, $X1^{3}$, and so on. (However, we may overfit the data at some point and we should be careful about it.)"
   ]
  },
  {
   "cell_type": "markdown",
   "id": "d3123433",
   "metadata": {},
   "source": [
    "**Potential problems when using linear regression:** <br>\n",
    "(1) Non-linearity of response-predictor relationship... let us see it with an example "
   ]
  },
  {
   "cell_type": "code",
   "execution_count": 68,
   "id": "f18eca30",
   "metadata": {},
   "outputs": [
    {
     "data": {
      "text/html": [
       "<div>\n",
       "<style scoped>\n",
       "    .dataframe tbody tr th:only-of-type {\n",
       "        vertical-align: middle;\n",
       "    }\n",
       "\n",
       "    .dataframe tbody tr th {\n",
       "        vertical-align: top;\n",
       "    }\n",
       "\n",
       "    .dataframe thead th {\n",
       "        text-align: right;\n",
       "    }\n",
       "</style>\n",
       "<table border=\"1\" class=\"dataframe\">\n",
       "  <thead>\n",
       "    <tr style=\"text-align: right;\">\n",
       "      <th></th>\n",
       "      <th>Unnamed: 0</th>\n",
       "      <th>mpg</th>\n",
       "      <th>cylinders</th>\n",
       "      <th>displacement</th>\n",
       "      <th>horsepower</th>\n",
       "      <th>weight</th>\n",
       "      <th>acceleration</th>\n",
       "      <th>year</th>\n",
       "      <th>origin</th>\n",
       "      <th>name</th>\n",
       "    </tr>\n",
       "  </thead>\n",
       "  <tbody>\n",
       "    <tr>\n",
       "      <th>0</th>\n",
       "      <td>1</td>\n",
       "      <td>18.0</td>\n",
       "      <td>8</td>\n",
       "      <td>307.0</td>\n",
       "      <td>130</td>\n",
       "      <td>3504</td>\n",
       "      <td>12.0</td>\n",
       "      <td>70</td>\n",
       "      <td>1</td>\n",
       "      <td>chevrolet chevelle malibu</td>\n",
       "    </tr>\n",
       "    <tr>\n",
       "      <th>1</th>\n",
       "      <td>2</td>\n",
       "      <td>15.0</td>\n",
       "      <td>8</td>\n",
       "      <td>350.0</td>\n",
       "      <td>165</td>\n",
       "      <td>3693</td>\n",
       "      <td>11.5</td>\n",
       "      <td>70</td>\n",
       "      <td>1</td>\n",
       "      <td>buick skylark 320</td>\n",
       "    </tr>\n",
       "    <tr>\n",
       "      <th>2</th>\n",
       "      <td>3</td>\n",
       "      <td>18.0</td>\n",
       "      <td>8</td>\n",
       "      <td>318.0</td>\n",
       "      <td>150</td>\n",
       "      <td>3436</td>\n",
       "      <td>11.0</td>\n",
       "      <td>70</td>\n",
       "      <td>1</td>\n",
       "      <td>plymouth satellite</td>\n",
       "    </tr>\n",
       "  </tbody>\n",
       "</table>\n",
       "</div>"
      ],
      "text/plain": [
       "   Unnamed: 0   mpg  cylinders  displacement  horsepower  weight  \\\n",
       "0           1  18.0          8         307.0         130    3504   \n",
       "1           2  15.0          8         350.0         165    3693   \n",
       "2           3  18.0          8         318.0         150    3436   \n",
       "\n",
       "   acceleration  year  origin                       name  \n",
       "0          12.0    70       1  chevrolet chevelle malibu  \n",
       "1          11.5    70       1          buick skylark 320  \n",
       "2          11.0    70       1         plymouth satellite  "
      ]
     },
     "execution_count": 68,
     "metadata": {},
     "output_type": "execute_result"
    }
   ],
   "source": [
    "df = pd.read_csv(\"./datasets/Auto_2.csv\") #there two auto data sets. We are using auto_2.\n",
    "df.head(3)"
   ]
  },
  {
   "cell_type": "code",
   "execution_count": 69,
   "id": "8a960aee",
   "metadata": {},
   "outputs": [
    {
     "data": {
      "image/png": "[encoded data removed]",
      "text/plain": [
       "<Figure size 1440x360 with 1 Axes>"
      ]
     },
     "metadata": {
      "needs_background": "light"
     },
     "output_type": "display_data"
    }
   ],
   "source": [
    "#let use consider horsepower as feature and mpg as response\n",
    "X = df['horsepower'].to_numpy()\n",
    "y = df['mpg'].to_numpy()\n",
    "\n",
    "#let us take a quick look at the graph\n",
    "plt.figure(figsize=(20,5))\n",
    "plt.scatter(X, y, color='b')\n",
    "plt.xlabel('horsepower')\n",
    "plt.ylabel('milage per gasoline')\n",
    "plt.show()"
   ]
  },
  {
   "cell_type": "code",
   "execution_count": 70,
   "id": "c8dc35f4",
   "metadata": {},
   "outputs": [],
   "source": [
    "#we can see the relationship is not linear exactly, so what if we use polynomical feature?\n",
    "from sklearn.preprocessing import PolynomialFeatures\n",
    "poly = PolynomialFeatures(degree=2)\n",
    "poly.fit(X.reshape(-1,1))\n",
    "\n",
    "X_poly = poly.transform(X.reshape(-1,1))\n",
    "\n",
    "X_poly_train, X_poly_test, y_train, y_test = train_test_split(X_poly, y)"
   ]
  },
  {
   "cell_type": "code",
   "execution_count": 71,
   "id": "56fd507e",
   "metadata": {},
   "outputs": [
    {
     "name": "stdout",
     "output_type": "stream",
     "text": [
      "r2 score with poly feature:  0.6931299744458256\n",
      "r2 score with poly feature:  0.6536014625161689\n"
     ]
    }
   ],
   "source": [
    "regressor_poly = LinearRegression().fit(X_poly_train, y_train)\n",
    "y_train_pred_poly  = regressor_poly.predict(X_poly_train)\n",
    "y_test_pred_poly  = regressor_poly.predict(X_poly_test)\n",
    "\n",
    "print('r2 score with poly feature: ', r2_score(y_train, y_train_pred_poly))\n",
    "print('r2 score with poly feature: ', r2_score(y_test, y_test_pred_poly))"
   ]
  },
  {
   "cell_type": "code",
   "execution_count": 72,
   "id": "50478455",
   "metadata": {},
   "outputs": [
    {
     "name": "stdout",
     "output_type": "stream",
     "text": [
      "r2 score with poly feature:  0.6023258126651525\n",
      "r2 score with poly feature:  0.6000253194680438\n"
     ]
    }
   ],
   "source": [
    "regressor = LinearRegression().fit(X_poly_train[:,:2], y_train) #excluding degree2 (just simple linear regression)\n",
    "y_train_pred  = regressor.predict(X_poly_train[:,:2])\n",
    "y_test_pred  = regressor.predict(X_poly_test[:,:2])\n",
    "\n",
    "print('r2 score with poly feature: ', r2_score(y_train, y_train_pred))\n",
    "print('r2 score with poly feature: ', r2_score(y_test, y_test_pred))"
   ]
  },
  {
   "cell_type": "code",
   "execution_count": null,
   "id": "c79774b7",
   "metadata": {},
   "outputs": [],
   "source": []
  },
  {
   "cell_type": "code",
   "execution_count": 73,
   "id": "9fe9ddec",
   "metadata": {},
   "outputs": [
    {
     "ename": "ValueError",
     "evalue": "x and y must have same first dimension, but have shapes (3600, 2) and (7200,)",
     "output_type": "error",
     "traceback": [
      "\u001b[1;31m---------------------------------------------------------------------------\u001b[0m",
      "\u001b[1;31mValueError\u001b[0m                                Traceback (most recent call last)",
      "\u001b[1;32m~\\AppData\\Local\\Temp/ipykernel_15848/327711124.py\u001b[0m in \u001b[0;36m<module>\u001b[1;34m\u001b[0m\n\u001b[0;32m      5\u001b[0m \u001b[0mplt\u001b[0m\u001b[1;33m.\u001b[0m\u001b[0mscatter\u001b[0m\u001b[1;33m(\u001b[0m\u001b[0mX\u001b[0m\u001b[1;33m,\u001b[0m \u001b[0my\u001b[0m\u001b[1;33m,\u001b[0m \u001b[0mcolor\u001b[0m\u001b[1;33m=\u001b[0m\u001b[1;34m'b'\u001b[0m\u001b[1;33m)\u001b[0m\u001b[1;33m\u001b[0m\u001b[1;33m\u001b[0m\u001b[0m\n\u001b[0;32m      6\u001b[0m \u001b[1;33m\u001b[0m\u001b[0m\n\u001b[1;32m----> 7\u001b[1;33m \u001b[0mplt\u001b[0m\u001b[1;33m.\u001b[0m\u001b[0mplot\u001b[0m\u001b[1;33m(\u001b[0m\u001b[0mX_mesh\u001b[0m\u001b[1;33m,\u001b[0m \u001b[0mregressor\u001b[0m\u001b[1;33m.\u001b[0m\u001b[0mpredict\u001b[0m\u001b[1;33m(\u001b[0m\u001b[0mX_mesh_poly\u001b[0m\u001b[1;33m[\u001b[0m\u001b[1;33m:\u001b[0m\u001b[1;33m,\u001b[0m\u001b[1;33m:\u001b[0m\u001b[1;36m2\u001b[0m\u001b[1;33m]\u001b[0m\u001b[1;33m)\u001b[0m\u001b[1;33m,\u001b[0m \u001b[0mcolor\u001b[0m\u001b[1;33m=\u001b[0m\u001b[1;34m'r'\u001b[0m\u001b[1;33m,\u001b[0m \u001b[0mlinewidth\u001b[0m\u001b[1;33m=\u001b[0m\u001b[1;36m3\u001b[0m\u001b[1;33m,\u001b[0m \u001b[0mlabel\u001b[0m\u001b[1;33m=\u001b[0m\u001b[1;34m'simple feature'\u001b[0m\u001b[1;33m)\u001b[0m\u001b[1;33m\u001b[0m\u001b[1;33m\u001b[0m\u001b[0m\n\u001b[0m\u001b[0;32m      8\u001b[0m \u001b[0mplt\u001b[0m\u001b[1;33m.\u001b[0m\u001b[0mplot\u001b[0m\u001b[1;33m(\u001b[0m\u001b[0mX_mesh\u001b[0m\u001b[1;33m,\u001b[0m \u001b[0mregressor_poly\u001b[0m\u001b[1;33m.\u001b[0m\u001b[0mpredict\u001b[0m\u001b[1;33m(\u001b[0m\u001b[0mX_mesh_poly\u001b[0m\u001b[1;33m)\u001b[0m\u001b[1;33m,\u001b[0m \u001b[0mcolor\u001b[0m\u001b[1;33m=\u001b[0m\u001b[1;34m'orange'\u001b[0m\u001b[1;33m,\u001b[0m  \u001b[0mlinewidth\u001b[0m\u001b[1;33m=\u001b[0m\u001b[1;36m3\u001b[0m\u001b[1;33m,\u001b[0m \u001b[0mlabel\u001b[0m\u001b[1;33m=\u001b[0m\u001b[1;34m'poly feature (deg=2)'\u001b[0m\u001b[1;33m)\u001b[0m\u001b[1;33m\u001b[0m\u001b[1;33m\u001b[0m\u001b[0m\n\u001b[0;32m      9\u001b[0m \u001b[1;33m\u001b[0m\u001b[0m\n",
      "\u001b[1;32m~\\anaconda3\\lib\\site-packages\\matplotlib\\pyplot.py\u001b[0m in \u001b[0;36mplot\u001b[1;34m(scalex, scaley, data, *args, **kwargs)\u001b[0m\n\u001b[0;32m   2755\u001b[0m \u001b[1;33m@\u001b[0m\u001b[0m_copy_docstring_and_deprecators\u001b[0m\u001b[1;33m(\u001b[0m\u001b[0mAxes\u001b[0m\u001b[1;33m.\u001b[0m\u001b[0mplot\u001b[0m\u001b[1;33m)\u001b[0m\u001b[1;33m\u001b[0m\u001b[1;33m\u001b[0m\u001b[0m\n\u001b[0;32m   2756\u001b[0m \u001b[1;32mdef\u001b[0m \u001b[0mplot\u001b[0m\u001b[1;33m(\u001b[0m\u001b[1;33m*\u001b[0m\u001b[0margs\u001b[0m\u001b[1;33m,\u001b[0m \u001b[0mscalex\u001b[0m\u001b[1;33m=\u001b[0m\u001b[1;32mTrue\u001b[0m\u001b[1;33m,\u001b[0m \u001b[0mscaley\u001b[0m\u001b[1;33m=\u001b[0m\u001b[1;32mTrue\u001b[0m\u001b[1;33m,\u001b[0m \u001b[0mdata\u001b[0m\u001b[1;33m=\u001b[0m\u001b[1;32mNone\u001b[0m\u001b[1;33m,\u001b[0m \u001b[1;33m**\u001b[0m\u001b[0mkwargs\u001b[0m\u001b[1;33m)\u001b[0m\u001b[1;33m:\u001b[0m\u001b[1;33m\u001b[0m\u001b[1;33m\u001b[0m\u001b[0m\n\u001b[1;32m-> 2757\u001b[1;33m     return gca().plot(\n\u001b[0m\u001b[0;32m   2758\u001b[0m         \u001b[1;33m*\u001b[0m\u001b[0margs\u001b[0m\u001b[1;33m,\u001b[0m \u001b[0mscalex\u001b[0m\u001b[1;33m=\u001b[0m\u001b[0mscalex\u001b[0m\u001b[1;33m,\u001b[0m \u001b[0mscaley\u001b[0m\u001b[1;33m=\u001b[0m\u001b[0mscaley\u001b[0m\u001b[1;33m,\u001b[0m\u001b[1;33m\u001b[0m\u001b[1;33m\u001b[0m\u001b[0m\n\u001b[0;32m   2759\u001b[0m         **({\"data\": data} if data is not None else {}), **kwargs)\n",
      "\u001b[1;32m~\\anaconda3\\lib\\site-packages\\matplotlib\\axes\\_axes.py\u001b[0m in \u001b[0;36mplot\u001b[1;34m(self, scalex, scaley, data, *args, **kwargs)\u001b[0m\n\u001b[0;32m   1630\u001b[0m         \"\"\"\n\u001b[0;32m   1631\u001b[0m         \u001b[0mkwargs\u001b[0m \u001b[1;33m=\u001b[0m \u001b[0mcbook\u001b[0m\u001b[1;33m.\u001b[0m\u001b[0mnormalize_kwargs\u001b[0m\u001b[1;33m(\u001b[0m\u001b[0mkwargs\u001b[0m\u001b[1;33m,\u001b[0m \u001b[0mmlines\u001b[0m\u001b[1;33m.\u001b[0m\u001b[0mLine2D\u001b[0m\u001b[1;33m)\u001b[0m\u001b[1;33m\u001b[0m\u001b[1;33m\u001b[0m\u001b[0m\n\u001b[1;32m-> 1632\u001b[1;33m         \u001b[0mlines\u001b[0m \u001b[1;33m=\u001b[0m \u001b[1;33m[\u001b[0m\u001b[1;33m*\u001b[0m\u001b[0mself\u001b[0m\u001b[1;33m.\u001b[0m\u001b[0m_get_lines\u001b[0m\u001b[1;33m(\u001b[0m\u001b[1;33m*\u001b[0m\u001b[0margs\u001b[0m\u001b[1;33m,\u001b[0m \u001b[0mdata\u001b[0m\u001b[1;33m=\u001b[0m\u001b[0mdata\u001b[0m\u001b[1;33m,\u001b[0m \u001b[1;33m**\u001b[0m\u001b[0mkwargs\u001b[0m\u001b[1;33m)\u001b[0m\u001b[1;33m]\u001b[0m\u001b[1;33m\u001b[0m\u001b[1;33m\u001b[0m\u001b[0m\n\u001b[0m\u001b[0;32m   1633\u001b[0m         \u001b[1;32mfor\u001b[0m \u001b[0mline\u001b[0m \u001b[1;32min\u001b[0m \u001b[0mlines\u001b[0m\u001b[1;33m:\u001b[0m\u001b[1;33m\u001b[0m\u001b[1;33m\u001b[0m\u001b[0m\n\u001b[0;32m   1634\u001b[0m             \u001b[0mself\u001b[0m\u001b[1;33m.\u001b[0m\u001b[0madd_line\u001b[0m\u001b[1;33m(\u001b[0m\u001b[0mline\u001b[0m\u001b[1;33m)\u001b[0m\u001b[1;33m\u001b[0m\u001b[1;33m\u001b[0m\u001b[0m\n",
      "\u001b[1;32m~\\anaconda3\\lib\\site-packages\\matplotlib\\axes\\_base.py\u001b[0m in \u001b[0;36m__call__\u001b[1;34m(self, data, *args, **kwargs)\u001b[0m\n\u001b[0;32m    310\u001b[0m                 \u001b[0mthis\u001b[0m \u001b[1;33m+=\u001b[0m \u001b[0margs\u001b[0m\u001b[1;33m[\u001b[0m\u001b[1;36m0\u001b[0m\u001b[1;33m]\u001b[0m\u001b[1;33m,\u001b[0m\u001b[1;33m\u001b[0m\u001b[1;33m\u001b[0m\u001b[0m\n\u001b[0;32m    311\u001b[0m                 \u001b[0margs\u001b[0m \u001b[1;33m=\u001b[0m \u001b[0margs\u001b[0m\u001b[1;33m[\u001b[0m\u001b[1;36m1\u001b[0m\u001b[1;33m:\u001b[0m\u001b[1;33m]\u001b[0m\u001b[1;33m\u001b[0m\u001b[1;33m\u001b[0m\u001b[0m\n\u001b[1;32m--> 312\u001b[1;33m             \u001b[1;32myield\u001b[0m \u001b[1;32mfrom\u001b[0m \u001b[0mself\u001b[0m\u001b[1;33m.\u001b[0m\u001b[0m_plot_args\u001b[0m\u001b[1;33m(\u001b[0m\u001b[0mthis\u001b[0m\u001b[1;33m,\u001b[0m \u001b[0mkwargs\u001b[0m\u001b[1;33m)\u001b[0m\u001b[1;33m\u001b[0m\u001b[1;33m\u001b[0m\u001b[0m\n\u001b[0m\u001b[0;32m    313\u001b[0m \u001b[1;33m\u001b[0m\u001b[0m\n\u001b[0;32m    314\u001b[0m     \u001b[1;32mdef\u001b[0m \u001b[0mget_next_color\u001b[0m\u001b[1;33m(\u001b[0m\u001b[0mself\u001b[0m\u001b[1;33m)\u001b[0m\u001b[1;33m:\u001b[0m\u001b[1;33m\u001b[0m\u001b[1;33m\u001b[0m\u001b[0m\n",
      "\u001b[1;32m~\\anaconda3\\lib\\site-packages\\matplotlib\\axes\\_base.py\u001b[0m in \u001b[0;36m_plot_args\u001b[1;34m(self, tup, kwargs, return_kwargs)\u001b[0m\n\u001b[0;32m    496\u001b[0m \u001b[1;33m\u001b[0m\u001b[0m\n\u001b[0;32m    497\u001b[0m         \u001b[1;32mif\u001b[0m \u001b[0mx\u001b[0m\u001b[1;33m.\u001b[0m\u001b[0mshape\u001b[0m\u001b[1;33m[\u001b[0m\u001b[1;36m0\u001b[0m\u001b[1;33m]\u001b[0m \u001b[1;33m!=\u001b[0m \u001b[0my\u001b[0m\u001b[1;33m.\u001b[0m\u001b[0mshape\u001b[0m\u001b[1;33m[\u001b[0m\u001b[1;36m0\u001b[0m\u001b[1;33m]\u001b[0m\u001b[1;33m:\u001b[0m\u001b[1;33m\u001b[0m\u001b[1;33m\u001b[0m\u001b[0m\n\u001b[1;32m--> 498\u001b[1;33m             raise ValueError(f\"x and y must have same first dimension, but \"\n\u001b[0m\u001b[0;32m    499\u001b[0m                              f\"have shapes {x.shape} and {y.shape}\")\n\u001b[0;32m    500\u001b[0m         \u001b[1;32mif\u001b[0m \u001b[0mx\u001b[0m\u001b[1;33m.\u001b[0m\u001b[0mndim\u001b[0m \u001b[1;33m>\u001b[0m \u001b[1;36m2\u001b[0m \u001b[1;32mor\u001b[0m \u001b[0my\u001b[0m\u001b[1;33m.\u001b[0m\u001b[0mndim\u001b[0m \u001b[1;33m>\u001b[0m \u001b[1;36m2\u001b[0m\u001b[1;33m:\u001b[0m\u001b[1;33m\u001b[0m\u001b[1;33m\u001b[0m\u001b[0m\n",
      "\u001b[1;31mValueError\u001b[0m: x and y must have same first dimension, but have shapes (3600, 2) and (7200,)"
     ]
    },
    {
     "data": {
      "image/png": "[encoded data removed]",
      "text/plain": [
       "<Figure size 1440x360 with 1 Axes>"
      ]
     },
     "metadata": {
      "needs_background": "light"
     },
     "output_type": "display_data"
    }
   ],
   "source": [
    "#let us plot both of them:\n",
    "X_mesh_poly = PolynomialFeatures().fit_transform(X_mesh.reshape(-1,1))\n",
    "\n",
    "plt.figure(figsize=(20,5))\n",
    "plt.scatter(X, y, color='b')\n",
    "\n",
    "plt.plot(X_mesh, regressor.predict(X_mesh_poly[:,:2]), color='r', linewidth=3, label='simple feature')\n",
    "plt.plot(X_mesh, regressor_poly.predict(X_mesh_poly), color='orange',  linewidth=3, label='poly feature (deg=2)')\n",
    "\n",
    "plt.xlabel('horsepower')\n",
    "plt.ylabel('milage per gasoline')\n",
    "\n",
    "plt.legend()\n",
    "plt.show()"
   ]
  },
  {
   "cell_type": "code",
   "execution_count": 74,
   "id": "9e7b5173",
   "metadata": {},
   "outputs": [
    {
     "data": {
      "image/png": "[encoded data removed]",
      "text/plain": [
       "<Figure size 1080x216 with 2 Axes>"
      ]
     },
     "metadata": {
      "needs_background": "light"
     },
     "output_type": "display_data"
    },
    {
     "name": "stdout",
     "output_type": "stream",
     "text": [
      "-----------------------------------------------------------------\n"
     ]
    },
    {
     "data": {
      "image/png": "[encoded data removed]",
      "text/plain": [
       "<Figure size 1080x216 with 2 Axes>"
      ]
     },
     "metadata": {
      "needs_background": "light"
     },
     "output_type": "display_data"
    }
   ],
   "source": [
    "#let us see the residuals:\n",
    "residual_ytest_poly = y_test_pred_poly - y_test\n",
    "residual_ytest = y_test_pred - y_test\n",
    "\n",
    "fig, axs = plt.subplots(nrows=1, ncols=2, figsize=(15,3))\n",
    "axs[0].scatter(y_test, residual_ytest_poly)\n",
    "axs[1].scatter(y_test, residual_ytest)\n",
    "\n",
    "axs[0].set_title('residual w.r.t y (on test set, with poly feature)')\n",
    "axs[1].set_title('residual w.r.t y (on test set, without poly feature)')\n",
    "\n",
    "\n",
    "axs[0].set_xlabel('y_test')\n",
    "axs[1].set_xlabel('y_test')\n",
    "\n",
    "axs[0].set_ylabel('residual')\n",
    "axs[1].set_ylabel('residual')\n",
    "plt.show()\n",
    "\n",
    "print('-----------------------------------------------------------------')\n",
    "\n",
    "fig, axs = plt.subplots(nrows=1, ncols=2, figsize=(15,3))\n",
    "axs[0].hist(residual_ytest_poly, label=f'mu={np.mean(residual_ytest_poly)}, std={np.std(residual_ytest_poly)}')\n",
    "axs[1].hist(residual_ytest, label=f'mu={np.mean(residual_ytest)}, std={np.std(residual_ytest)}')\n",
    "\n",
    "axs[0].set_title('hist of residual on test set, with poly feature')\n",
    "axs[1].set_title('hist of residual on test set, without poly feature')\n",
    "\n",
    "axs[0].legend()\n",
    "axs[1].legend()\n",
    "plt.show()\n",
    "\n"
   ]
  },
  {
   "cell_type": "code",
   "execution_count": 75,
   "id": "9698dc2b",
   "metadata": {},
   "outputs": [],
   "source": [
    "#but to measure how close these two plots are to normal distribution, we can plot QQ-plot:\n"
   ]
  },
  {
   "cell_type": "code",
   "execution_count": 76,
   "id": "70eee625",
   "metadata": {},
   "outputs": [
    {
     "data": {
      "image/png": "[encoded data removed]",
      "text/plain": [
       "<Figure size 720x360 with 2 Axes>"
      ]
     },
     "metadata": {
      "needs_background": "light"
     },
     "output_type": "display_data"
    }
   ],
   "source": [
    "from scipy import stats\n",
    "fig, axs = plt.subplots(nrows=1,ncols=2, figsize=(10,5))\n",
    "stats.probplot(residual_ytest_poly, plot=axs[0])\n",
    "stats.probplot(residual_ytest, plot=axs[1])\n",
    "\n",
    "axs[0].set_title('QQplot (with poly features)')\n",
    "axs[1].set_title('QQplot (without poly features)')\n",
    "plt.show()"
   ]
  },
  {
   "cell_type": "markdown",
   "id": "2a6868cd",
   "metadata": {},
   "source": [
    "It is hard to judge which one is closer to normal distribution..."
   ]
  },
  {
   "cell_type": "markdown",
   "id": "625f6e4c",
   "metadata": {},
   "source": [
    "(2) Correlation of Error Terms"
   ]
  },
  {
   "cell_type": "markdown",
   "id": "5a7a0f30",
   "metadata": {},
   "source": [
    "We are assuming that the errors `residual` are uncorrelated. However, if there is a correlation, our sense of confidence interval is not correct. In time series, such assumption is often not met. In other words, the residual error at `t+1` has positive correlation to the one at `t`. We can even see such correlation in the histogram above (right figure). For y-test beyond 20, we can see there is a clear trend in the residual values. (Solution?)"
   ]
  },
  {
   "cell_type": "markdown",
   "id": "0c1c6c81",
   "metadata": {},
   "source": [
    "(3) non-constant varianc of error terms (a.k.a heteroscedasticity): when the error is wider at some response values. For instance, if variance of errors get larger at highr value of y, one solution might be using `log()` or `\\sqrt(x)` functions to shrink larger valus of y. "
   ]
  },
  {
   "cell_type": "markdown",
   "id": "4116d2bc",
   "metadata": {},
   "source": [
    "(4) one/more(a few) outliers (**here, we mean the point with high response value**) may not have that much effect on the slope/y-intercept of the linear model. However, it can drastically change the value of RSE/ r2_score. Therefore, it might be a good idea to remove outliers to get better sense on the performance of the model as the valus of RSE / r2_score can be more \"true\"!!! How to detect them? one way is to plot studentized residuals which is: $\\frac{e_{i} - 0}{SE_{e}}$. In other words, we want to know how far $e_{i}$ is from distribtution with average of 0 and normal distribution of SE_{e}, which is standard deviation of e. If it goes beyond +/- 3, then the point can be considered as an outlier. (Note: the standard error of residual is in fact RSE(?) ). It is important to note that the outlier might be detected just because our model was not good enough to capture it. So, be careful."
   ]
  },
  {
   "cell_type": "markdown",
   "id": "010f4887",
   "metadata": {},
   "source": [
    "(5) High Leveraging points: these are the points with extreme values in features. These can highly impact the (fitted) model and therefore it is important to detect and handle them. How to detect it? It is important to note that searching outlier in each individual dimension is meaningless as we should consider all points together (see Fig 3.13). So, we may have a point where its value of X1 feature and X2 feature is usual, but together, in 2d-space, they may be far from others. So, one way is to calculate pair-wise distances and choose the one that has the largest distance to its NN. or, we may (somehow) find the values of k (number of clusters) and then remove a group of data points. Another way is to calculate a statistical value (see 3.37). "
   ]
  },
  {
   "cell_type": "markdown",
   "id": "d37ed262",
   "metadata": {},
   "source": [
    "(6) Colinearity"
   ]
  },
  {
   "cell_type": "code",
   "execution_count": 77,
   "id": "0286399f",
   "metadata": {},
   "outputs": [
    {
     "data": {
      "text/html": [
       "<div>\n",
       "<style scoped>\n",
       "    .dataframe tbody tr th:only-of-type {\n",
       "        vertical-align: middle;\n",
       "    }\n",
       "\n",
       "    .dataframe tbody tr th {\n",
       "        vertical-align: top;\n",
       "    }\n",
       "\n",
       "    .dataframe thead th {\n",
       "        text-align: right;\n",
       "    }\n",
       "</style>\n",
       "<table border=\"1\" class=\"dataframe\">\n",
       "  <thead>\n",
       "    <tr style=\"text-align: right;\">\n",
       "      <th></th>\n",
       "      <th>Income</th>\n",
       "      <th>Limit</th>\n",
       "      <th>Rating</th>\n",
       "      <th>Cards</th>\n",
       "      <th>Age</th>\n",
       "      <th>Education</th>\n",
       "      <th>Gender</th>\n",
       "      <th>Student</th>\n",
       "      <th>Married</th>\n",
       "      <th>Ethnicity</th>\n",
       "      <th>Balance</th>\n",
       "    </tr>\n",
       "  </thead>\n",
       "  <tbody>\n",
       "    <tr>\n",
       "      <th>1</th>\n",
       "      <td>14.891</td>\n",
       "      <td>3606</td>\n",
       "      <td>283</td>\n",
       "      <td>2</td>\n",
       "      <td>34</td>\n",
       "      <td>11</td>\n",
       "      <td>Male</td>\n",
       "      <td>No</td>\n",
       "      <td>Yes</td>\n",
       "      <td>Caucasian</td>\n",
       "      <td>333</td>\n",
       "    </tr>\n",
       "    <tr>\n",
       "      <th>2</th>\n",
       "      <td>106.025</td>\n",
       "      <td>6645</td>\n",
       "      <td>483</td>\n",
       "      <td>3</td>\n",
       "      <td>82</td>\n",
       "      <td>15</td>\n",
       "      <td>Female</td>\n",
       "      <td>Yes</td>\n",
       "      <td>Yes</td>\n",
       "      <td>Asian</td>\n",
       "      <td>903</td>\n",
       "    </tr>\n",
       "    <tr>\n",
       "      <th>3</th>\n",
       "      <td>104.593</td>\n",
       "      <td>7075</td>\n",
       "      <td>514</td>\n",
       "      <td>4</td>\n",
       "      <td>71</td>\n",
       "      <td>11</td>\n",
       "      <td>Male</td>\n",
       "      <td>No</td>\n",
       "      <td>No</td>\n",
       "      <td>Asian</td>\n",
       "      <td>580</td>\n",
       "    </tr>\n",
       "  </tbody>\n",
       "</table>\n",
       "</div>"
      ],
      "text/plain": [
       "    Income  Limit  Rating  Cards  Age  Education  Gender Student Married  \\\n",
       "1   14.891   3606     283      2   34         11    Male      No     Yes   \n",
       "2  106.025   6645     483      3   82         15  Female     Yes     Yes   \n",
       "3  104.593   7075     514      4   71         11    Male      No      No   \n",
       "\n",
       "   Ethnicity  Balance  \n",
       "1  Caucasian      333  \n",
       "2      Asian      903  \n",
       "3      Asian      580  "
      ]
     },
     "execution_count": 77,
     "metadata": {},
     "output_type": "execute_result"
    }
   ],
   "source": [
    "#let us see it with an example:\n",
    "df = pd.read_csv(\"./datasets/Credit.csv\", index_col=0)\n",
    "df.head(3)"
   ]
  },
  {
   "cell_type": "code",
   "execution_count": 78,
   "id": "30a2daa0",
   "metadata": {},
   "outputs": [
    {
     "data": {
      "image/png": "[encoded data removed]",
      "text/plain": [
       "<Figure size 720x360 with 2 Axes>"
      ]
     },
     "metadata": {
      "needs_background": "light"
     },
     "output_type": "display_data"
    }
   ],
   "source": [
    "# now, let us see X_limit-vs-X_rating, and X_limit-vs-X_age:\n",
    "\n",
    "fig, axs = plt.subplots(nrows=1, ncols=2, figsize=(10,5))\n",
    "axs[0].scatter(df['Limit'], df['Rating'])\n",
    "axs[1].scatter(df['Limit'], df['Age'])\n",
    "\n",
    "axs[0].set_xlabel('Limit')\n",
    "axs[1].set_xlabel('Limit')\n",
    "\n",
    "axs[0].set_ylabel('Rating')\n",
    "axs[1].set_ylabel('Age')\n",
    "\n",
    "plt.show()"
   ]
  },
  {
   "cell_type": "markdown",
   "id": "af72ac0d",
   "metadata": {},
   "source": [
    "We can see a clear linear relationship between Limit and Rating (they are colinear).Since both of them tends to increase/decrease together, their impact on response is not easily seperable. Therefore, their uncertainty (in estimation of linear model parameters) increases. Therefore, we should better detect and remove colinear feature. <br>\n",
    "\n",
    "* we may use correlation matrix.\n",
    "* a better way (which works for multi-colinearity as well) is to measure VIF (variance inflation vector) as follows: <br>\n",
    "\n",
    "$VIF = \\frac{1}{1 - r2\\_score(X_{j}|X_{-j})}$ <br>\n",
    "\n",
    "$r2\\_score(X_{j}|X_{-j})$ is the r2_score from a regression of $X_{j}$ onto $X_{-j}$ (all predictors other than $X_{j}$). So, if a particular predictor can be easily predicter by other predictors (i.e. high r2_score and thus high VIF), that means we do not need that particular predictor as it can be obtained from others! (rule of thumb: if VIF exceeds 5 or 10, indicates a high level of colinearity) <br>\n",
    "\n",
    "Solution: Drop one of variable with high VIF, OR combine them (e.g. standardize and take their avg? but what if their correlation is negative, their summation may become zero. No??)"
   ]
  },
  {
   "cell_type": "markdown",
   "id": "e1ff952d",
   "metadata": {},
   "source": [
    "**Linear Regression-vs-KNN**<br>\n",
    "If relationship is linear, linear regression is better (and even better than KNN with large k). However, if the relationship between x and y becomes non-linear, then KNN (with lower k) can perform better. **HOWEVER,** one should note that this is not always the case! In fact, in high dimension, when the relationship between x and y is non-linear, KNN usually perform worse! So, in short, parametric models (like linear regression) outperforms non-parametric ones when the number of samples is low and the dimension is high!"
   ]
  },
  {
   "cell_type": "markdown",
   "id": "1cfd4446",
   "metadata": {},
   "source": [
    "## Summary [on (linear) regression]"
   ]
  },
  {
   "cell_type": "markdown",
   "id": "8bfc7244",
   "metadata": {},
   "source": [
    "* **Quesetions to ask about our data:** Let us assume we have a data where `predictors X` are TV ad budget / radio ad budget/ newspaper ad budget, and the `response variable y` is sale. What kind of questions can we ask here? Below are some examples:\n",
    "    * Is there relationship between X and y? If yes, how much is that relationship strong?\n",
    "    * What predictor(s) are associate with y and how much?\n",
    "    * Is relationship between X and y linear? If yes, then do linear regression. If not, can we transform data such that the linear regression model becomes applicable?\n",
    "    * Is there any interaction (synergy) between predictors? (i.e. two predictors may have some impat together different their simple summation)\n",
    "    \n",
    "\n",
    "* **Linear model:** $y = w^{T}X + b + \\epsilon$ --> and we want to estimate it... so: $\\hat{y} = \\hat{w}^{T}X + \\hat{b}$\n",
    "\n",
    "\n",
    "* **Side Note: see summary of data:** df.describe()\n",
    "\n",
    "\n",
    "* **What are the optimal values for $\\hat{w}$ and $\\hat{b}$?** optimal values of $\\hat{w}$ and $\\hat{b}$ should result it minimum MSE (on train set). <br> **Reminder:** our ultimate goal is to get low MSE on test set using the model fitted on train set.\n",
    "\n",
    "\n",
    "* **MSE --> RSS (!)** Let us assume the number of samples in  train set is n. Then, we know that $MSE = \\frac{1}{n}\\sum\\limits_{i=1}^{n}{(y_{i} - \\hat{y}_{i})^{2}}$ (Note that $y_{i}$ is the true value of y for  i-th sample, and $\\hat{y}_{i}$ is the predicted value for y of that sample.). Now, if we just focus on the sum (and not the average), we have RSS (Residual Sum of Squares) and that's it! --> so, we have: $RSS = \\sum\\limits_{i=1}^{n}{(y_{i} - \\hat{y}_{i})^{2}}$ and the optimization problem is to minimize RSS over the train set samples (we can as well minimis MSE, there is no difference!)\n",
    "\n",
    "\n",
    "* **Discussion on the estimated values $\\hat{w}$ and $\\hat{b}$:** Please note that the estimated values $\\hat{w}$ and $\\hat{b}$ are obtained based on the current train set. So, if we change the train set or splitted data into train/test in a different way, we may get different values for $\\hat{w}$ and $\\hat{b}$. All of these values are just estimation and no the true-but-unknown $w$ and $b$. **So, what can we do?** We can plot the distribution of each parameter and see how certain we are about our estimation. **But, how to get that distribution?** we can do bootstrapping on the given train set (e.g. create 1000 new train sets) and then find $\\hat{w}$ and $\\hat{b}$ for 1000 times. Now, we can create the histrogram of the obtained values. Let us focus on parameter $\\hat{w}$ (same concept/discussion is true for $\\hat{b}$.). The distribution shows the liklihood of getting different values for $\\hat{w}$. The standard deviation of this distribution is `the standard deviation of the estimated value $\\hat{w}$` and we call it Standard Error (SE) of $\\hat{w}$. (For simple linear regression with one predictor, there is a closed-form formula that can be used to get the value of SE.) So, what? Well, now we can see how far we are from zero. If we are significantly far from 0, it means that y is related to the predictor X. So, we want to use SE to normalize our estimated value. Well, we are almost correct here, but not completely correct :) In fact, the real approach is to do null-hypothesis testing here!!! We assume there is no relationhip between y and X. So, $y = b + \\epsilon$ (In other words, we assume $w=0$ and that is our null hypothesis). It can be shown that the SE of $\\hat{w}$ in this case is the same as the one obtained by considering non-zero $w$ (explained earlier). Now, if $\\hat{w}$ is close to 0, we can say \"we cannot reject our null-hypothesis\" (in other words, there might be really no relationship between X and y). Here is when p-value comes into the picture! We want to calculate the probability of getting the value of $\\hat{w}$ or more extreme (i.e. higher magnitude whether positive or negative). So, we need to normalize $\\hat{w}$ as follows: $t = \\frac{\\hat{w} - 0}{\\hat{SE}_{\\hat{w}}}$, and we want to use t-distribution with degree of freedom $n-1$ to find p-value. So, if p-value becomes small(less than a threshold, say 0.05), then we can reject our null hypothesis --> i.e. there is a relationship between y and x. (e.g. in a VERY extreme scenario, imagine p-value becomes almost zero, e.g. 0.00001). That means our t is at the end of tail VERY far from the center $\\mu=0$. So, we cannot say it was just by chance from the distribution of  null-hypothesis.) --> please note that low p-value does not mean the  model should be linear. In other words, low p-value just says there is a relationship between y and x. Now, we should see if a \"linear model\" can be suitabe here or not!\n",
    "\n",
    "\n",
    "* **Measuring goodness-of-fit of Regression:** As discussed before, we can just use MSE. However, MSE can get bigger when the values of y are larger and therefore, we need to way to normalize it. So, we use $r2\\_score$ as follows: $r2\\_score = 1 - \\frac{RSS}{TSS}$, where RSS (TSS) is Residual (Total) Sum of squares: $RSS = \\sum\\limits_{i=1}^{n}{(y_{i} - \\hat{y}_{i})^{2}}$ and $TSS = \\sum\\limits_{i=1}^{n}{(y_{i} - y_{avg})^{2}}$. The closer $r2\\_score$ to one, the better! (we can see `r2_score` as the ratio of variance explained by the model)\n",
    "\n",
    "\n",
    "\n",
    "* **Scaling data in Linear Regression** --> Although scaling data in linear regression does not change its accuracy, it can provide better insight on coefficients. If features X are not scaled to $\\mu = 0$ and $\\sigma = 1$, the coefficient of a feature can be impacted by the magnitude of its values. Therefore, it is more difficult to compare coefficient of features with each other. However, if we standardize each feature, the estimated value for the parameters correspond to features can be compared with each other!\n",
    "\n",
    "\n",
    "* **F-statistics in Linear Regression** --> In multi-variate linear regression, we can get p-value for parameters, each correspond to a single feature. We can also calculate a single score called F-statistics score that can help us determine whether there is no relationship between X and y (null hypothesis), or not. To see the F-statistics and p-values of parameters, we can use **statsmodels** as follows:\n",
    "```\n",
    "import statsmodels.api as sm\n",
    "#####\n",
    "X_train_sm = sm.add_constant(X_train)\n",
    "regressor = sm.OLS(y_train, X_train_sm) #OLS: Ordinary Least Squares\n",
    "regressor = regressor.fit()\n",
    "#####\n",
    "print(regressor.summary())\n",
    "```\n",
    "\n",
    "\n",
    "* **Side Note: p-value and F-statistics:** please note that the p-value and F-statistics score can be calculated for parametric method. Also, getting low p-value cannot guarantee our model is good as we need to measure its goodness-of-fit. Calculating p-value and  F-statistics can help us to better undertstand some aspects of relationship between X and y. They are good if the goal is inference and understanding what is happening. Even in that case, one should find a package to find these values or use manual calcuation. Therefore, we may avoid using p-value and F-statistics for the rest of this summary in this chapter.\n",
    "\n",
    "\n",
    "\n",
    "* **RSE:** We can get RSE as follows: $RSE = \\sqrt{\\frac{RSS}{n-p-1}}$, where $p$ is the number of features. `RSE` can be interpreted as the standard deviation of the unexplained variance, and has the useful property of being in the same units as the response variable.\n",
    "\n",
    "\n",
    "\n",
    "* **Should I use all predictors?** --> no...because sometimes a predictor may have a very insignificant impact and can unnecessarily make the model difficult in terms of interpretability. Furthermore, it is possible that two highly-correlated features may cuase trouble in linear regression. Because, it is not clear which of those should have higher coefficient and how each contribute to the prediction of response variable. To select feature, we should do `feature-selection-process`. Three common types of feature selection are: (1) Forward-selection (2) Backward-selection, and (3) Mix-selection. We can use p-value as a measure to help us decide whether we should keep a feature or not (read more on this later! Also, take a look at scikit-learn)\n",
    "\n",
    "\n",
    "\n",
    "* **Side Note: Confidence Interval-vs-Prediction Interval** --> Confidence Interval (CI) is related to the estimated values of parameter and it is a way to help us understand how close $\\hat{f}(x)$ is to $f(x)$. However, we have irreducible error $\\epsilon$. To measure how close our $\\hat{y}=\\hat{f}(x)$ to true $y = f(x) + \\epsilon$, we use Prediciton Interval (PI). Therefore, PI is longer (see ... for further detail).\n",
    "\n",
    "\n",
    "* **Interaction (synergy) between predictors** --> visualizing the fitted model and the data can be a good way to see how the model behave in different cases. For instance, in the `adversiting` data set, after using multi-linear-regression to model the data, we can see that the model underestimate y when the values of predictors `TV ad budget` and `radio ad budget` are both high. So, they have some interaction impact. We can create a new variable $X_{TV}.X_{radio}$. We can see that using this new feature in addition to the two features TV and radio, can greatly increase `r2_score`.\n",
    "\n",
    "\n",
    "\n",
    "* **Final Notes:** At the end, I would like to cover some notes <br> (1) If data shows quadaratic behavior: use polynomial features (and then apply linea regression); We can plot the residual against the y value. We would like to see the residual values around around the horizontal line `residual=0`. We can also create QQplot with `scipy.stats.probplot(residual_values, plot=plt)`. This can gives us an idea on how much the resiudal values are close to normal distribution. <br>\n",
    "(2) If there is correlation between $\\epsilon$ values: Our assumption was that all errors are independent from each other. However, there might be correlation (i.e. $\\epsilon(X)$ may give some information about the $\\epsilon(X+1)$). In this case, we need some way to handle it. (feel free to search online, or wait and we may cover it later!) <br>\n",
    "(3) heteroscedasticity (the variance of $\\epsilon$ changes): If we notice the errors are getting wider around the horizontal line `residual=0`, that means the errors do not have consistent $\\sigma$. We can use $log(..)$ or $\\sqrt(..)$ transformation on y to resolve this issue. <br>\n",
    "(4) Outlier -and- High Leveraging point: Here, when talk about outlier, we mean its y value is not in the usual range as others. Although this may not impact the parameters of the model, it can have a drastic impact on `r2_score` or other indices and therefore may mislead the user. `High Leveraging point` is when the features of an observation have suprising value. It is important to note that we should consider all features together to detect `High Leveraging point` (a.k.a outliers in feature space); because it is possible that each single feature has a normal-in-range value but the data point (i.e. considering all features of an observation together) might be far from others. This can have an impact on parameters of model and thus, it is important to handle them. But, how to find them? One way is to use pairwise-distances and find the point that is far from other. So we can find NearestNeighbor of each point and select the one that has the largest distance to its NN. Please note that the discovered point \"might\" be an outlier (because, for any set of samples, I can always find a point that has largest distance to its NN. But, that does not mean the point is `High Leveraging point`. Another way is to cluster data points (if possible) and then remove the a group that has largest distance to its closest group! (but what if that group is just a bunch of observations with some particular values for their features. If my group has 1000 members, should I consider them as `High Leveraging point` ??? <br>\n",
    "(5) (multi) colinearity: is when two (or more) features are highly correlated with each other. Therefore, they can confuse the model as it is not create how much actual impact they each have on the prediction. A solution is to keep only one feature from a set of features that are highly correlated with each other. A better approach that checks multi colienarity as well is to calculate `VIF` score as follows: $VIF = \\frac{1}{1 - r2\\_score(X_{j}|X_{-j})}$, where $r2\\_score(X_{j}|X_{-j})$ means the `r2_score` from regressing $X_{j}$ (considering the `j-th` feature as response variable) on $X_{-j}$ (all features excluding the `j-th` feature). Therefore, if we can get high VIF, that means the r2_score in the denominator is high, which means the $X_{j}$ can be predicted pretty well by other features. So, it provides redundant information. (rule of thumb: drop a feature if its VIF gets above 5 or 10.)\n",
    "\n",
    "\n",
    "\n",
    "\n",
    "* **Final Note: Linear Regression-vs-KNN** --> If relationship is linear, linear regression is better (and even better than KNN with large k. Recall that larger k make KNN closer to linear model). However, if the relationship between x and y becomes non-linear, then KNN (with lower k) can perform better. **HOWEVER,** one should note that this is not always true! In fact, in high dimension, when the relationship between x and y is non-linear, KNN usually perform worse! So, in short, parametric models (like linear regression) outperforms non-parametric ones when the number of samples is low and the dimension is high!"
   ]
  },
  {
   "cell_type": "markdown",
   "id": "f8c12411",
   "metadata": {},
   "source": [
    "## Lab "
   ]
  },
  {
   "cell_type": "code",
   "execution_count": 111,
   "id": "25965ff5",
   "metadata": {},
   "outputs": [
    {
     "data": {
      "text/html": [
       "<div>\n",
       "<style scoped>\n",
       "    .dataframe tbody tr th:only-of-type {\n",
       "        vertical-align: middle;\n",
       "    }\n",
       "\n",
       "    .dataframe tbody tr th {\n",
       "        vertical-align: top;\n",
       "    }\n",
       "\n",
       "    .dataframe thead th {\n",
       "        text-align: right;\n",
       "    }\n",
       "</style>\n",
       "<table border=\"1\" class=\"dataframe\">\n",
       "  <thead>\n",
       "    <tr style=\"text-align: right;\">\n",
       "      <th></th>\n",
       "      <th>crim</th>\n",
       "      <th>zn</th>\n",
       "      <th>indus</th>\n",
       "      <th>chas</th>\n",
       "      <th>nox</th>\n",
       "      <th>rm</th>\n",
       "      <th>age</th>\n",
       "      <th>dis</th>\n",
       "      <th>rad</th>\n",
       "      <th>tax</th>\n",
       "      <th>ptratio</th>\n",
       "      <th>black</th>\n",
       "      <th>lstat</th>\n",
       "      <th>medv</th>\n",
       "    </tr>\n",
       "  </thead>\n",
       "  <tbody>\n",
       "    <tr>\n",
       "      <th>1</th>\n",
       "      <td>0.00632</td>\n",
       "      <td>18.0</td>\n",
       "      <td>2.31</td>\n",
       "      <td>0</td>\n",
       "      <td>0.538</td>\n",
       "      <td>6.575</td>\n",
       "      <td>65.2</td>\n",
       "      <td>4.0900</td>\n",
       "      <td>1</td>\n",
       "      <td>296</td>\n",
       "      <td>15.3</td>\n",
       "      <td>396.90</td>\n",
       "      <td>4.98</td>\n",
       "      <td>24.0</td>\n",
       "    </tr>\n",
       "    <tr>\n",
       "      <th>2</th>\n",
       "      <td>0.02731</td>\n",
       "      <td>0.0</td>\n",
       "      <td>7.07</td>\n",
       "      <td>0</td>\n",
       "      <td>0.469</td>\n",
       "      <td>6.421</td>\n",
       "      <td>78.9</td>\n",
       "      <td>4.9671</td>\n",
       "      <td>2</td>\n",
       "      <td>242</td>\n",
       "      <td>17.8</td>\n",
       "      <td>396.90</td>\n",
       "      <td>9.14</td>\n",
       "      <td>21.6</td>\n",
       "    </tr>\n",
       "    <tr>\n",
       "      <th>3</th>\n",
       "      <td>0.02729</td>\n",
       "      <td>0.0</td>\n",
       "      <td>7.07</td>\n",
       "      <td>0</td>\n",
       "      <td>0.469</td>\n",
       "      <td>7.185</td>\n",
       "      <td>61.1</td>\n",
       "      <td>4.9671</td>\n",
       "      <td>2</td>\n",
       "      <td>242</td>\n",
       "      <td>17.8</td>\n",
       "      <td>392.83</td>\n",
       "      <td>4.03</td>\n",
       "      <td>34.7</td>\n",
       "    </tr>\n",
       "  </tbody>\n",
       "</table>\n",
       "</div>"
      ],
      "text/plain": [
       "      crim    zn  indus  chas    nox     rm   age     dis  rad  tax  ptratio  \\\n",
       "1  0.00632  18.0   2.31     0  0.538  6.575  65.2  4.0900    1  296     15.3   \n",
       "2  0.02731   0.0   7.07     0  0.469  6.421  78.9  4.9671    2  242     17.8   \n",
       "3  0.02729   0.0   7.07     0  0.469  7.185  61.1  4.9671    2  242     17.8   \n",
       "\n",
       "    black  lstat  medv  \n",
       "1  396.90   4.98  24.0  \n",
       "2  396.90   9.14  21.6  \n",
       "3  392.83   4.03  34.7  "
      ]
     },
     "execution_count": 111,
     "metadata": {},
     "output_type": "execute_result"
    }
   ],
   "source": [
    "#use boston data\n",
    "df = pd.read_csv(\"./datasets/Boston.csv\", index_col=0)\n",
    "df.head(3)"
   ]
  },
  {
   "cell_type": "code",
   "execution_count": 112,
   "id": "feade1f5",
   "metadata": {},
   "outputs": [
    {
     "data": {
      "text/html": [
       "<div>\n",
       "<style scoped>\n",
       "    .dataframe tbody tr th:only-of-type {\n",
       "        vertical-align: middle;\n",
       "    }\n",
       "\n",
       "    .dataframe tbody tr th {\n",
       "        vertical-align: top;\n",
       "    }\n",
       "\n",
       "    .dataframe thead th {\n",
       "        text-align: right;\n",
       "    }\n",
       "</style>\n",
       "<table border=\"1\" class=\"dataframe\">\n",
       "  <thead>\n",
       "    <tr style=\"text-align: right;\">\n",
       "      <th></th>\n",
       "      <th>crim</th>\n",
       "      <th>zn</th>\n",
       "      <th>indus</th>\n",
       "      <th>chas</th>\n",
       "      <th>nox</th>\n",
       "      <th>rm</th>\n",
       "      <th>age</th>\n",
       "      <th>dis</th>\n",
       "      <th>rad</th>\n",
       "      <th>tax</th>\n",
       "      <th>ptratio</th>\n",
       "      <th>lstat</th>\n",
       "      <th>medv</th>\n",
       "    </tr>\n",
       "  </thead>\n",
       "  <tbody>\n",
       "    <tr>\n",
       "      <th>count</th>\n",
       "      <td>506.000000</td>\n",
       "      <td>506.000000</td>\n",
       "      <td>506.000000</td>\n",
       "      <td>506.000000</td>\n",
       "      <td>506.000000</td>\n",
       "      <td>506.000000</td>\n",
       "      <td>506.000000</td>\n",
       "      <td>506.000000</td>\n",
       "      <td>506.000000</td>\n",
       "      <td>506.000000</td>\n",
       "      <td>506.000000</td>\n",
       "      <td>506.000000</td>\n",
       "      <td>506.000000</td>\n",
       "    </tr>\n",
       "    <tr>\n",
       "      <th>mean</th>\n",
       "      <td>3.613524</td>\n",
       "      <td>11.363636</td>\n",
       "      <td>11.136779</td>\n",
       "      <td>0.069170</td>\n",
       "      <td>0.554695</td>\n",
       "      <td>6.284634</td>\n",
       "      <td>68.574901</td>\n",
       "      <td>3.795043</td>\n",
       "      <td>9.549407</td>\n",
       "      <td>408.237154</td>\n",
       "      <td>18.455534</td>\n",
       "      <td>12.653063</td>\n",
       "      <td>22.532806</td>\n",
       "    </tr>\n",
       "    <tr>\n",
       "      <th>std</th>\n",
       "      <td>8.601545</td>\n",
       "      <td>23.322453</td>\n",
       "      <td>6.860353</td>\n",
       "      <td>0.253994</td>\n",
       "      <td>0.115878</td>\n",
       "      <td>0.702617</td>\n",
       "      <td>28.148861</td>\n",
       "      <td>2.105710</td>\n",
       "      <td>8.707259</td>\n",
       "      <td>168.537116</td>\n",
       "      <td>2.164946</td>\n",
       "      <td>7.141062</td>\n",
       "      <td>9.197104</td>\n",
       "    </tr>\n",
       "    <tr>\n",
       "      <th>min</th>\n",
       "      <td>0.006320</td>\n",
       "      <td>0.000000</td>\n",
       "      <td>0.460000</td>\n",
       "      <td>0.000000</td>\n",
       "      <td>0.385000</td>\n",
       "      <td>3.561000</td>\n",
       "      <td>2.900000</td>\n",
       "      <td>1.129600</td>\n",
       "      <td>1.000000</td>\n",
       "      <td>187.000000</td>\n",
       "      <td>12.600000</td>\n",
       "      <td>1.730000</td>\n",
       "      <td>5.000000</td>\n",
       "    </tr>\n",
       "    <tr>\n",
       "      <th>25%</th>\n",
       "      <td>0.082045</td>\n",
       "      <td>0.000000</td>\n",
       "      <td>5.190000</td>\n",
       "      <td>0.000000</td>\n",
       "      <td>0.449000</td>\n",
       "      <td>5.885500</td>\n",
       "      <td>45.025000</td>\n",
       "      <td>2.100175</td>\n",
       "      <td>4.000000</td>\n",
       "      <td>279.000000</td>\n",
       "      <td>17.400000</td>\n",
       "      <td>6.950000</td>\n",
       "      <td>17.025000</td>\n",
       "    </tr>\n",
       "    <tr>\n",
       "      <th>50%</th>\n",
       "      <td>0.256510</td>\n",
       "      <td>0.000000</td>\n",
       "      <td>9.690000</td>\n",
       "      <td>0.000000</td>\n",
       "      <td>0.538000</td>\n",
       "      <td>6.208500</td>\n",
       "      <td>77.500000</td>\n",
       "      <td>3.207450</td>\n",
       "      <td>5.000000</td>\n",
       "      <td>330.000000</td>\n",
       "      <td>19.050000</td>\n",
       "      <td>11.360000</td>\n",
       "      <td>21.200000</td>\n",
       "    </tr>\n",
       "    <tr>\n",
       "      <th>75%</th>\n",
       "      <td>3.677083</td>\n",
       "      <td>12.500000</td>\n",
       "      <td>18.100000</td>\n",
       "      <td>0.000000</td>\n",
       "      <td>0.624000</td>\n",
       "      <td>6.623500</td>\n",
       "      <td>94.075000</td>\n",
       "      <td>5.188425</td>\n",
       "      <td>24.000000</td>\n",
       "      <td>666.000000</td>\n",
       "      <td>20.200000</td>\n",
       "      <td>16.955000</td>\n",
       "      <td>25.000000</td>\n",
       "    </tr>\n",
       "    <tr>\n",
       "      <th>max</th>\n",
       "      <td>88.976200</td>\n",
       "      <td>100.000000</td>\n",
       "      <td>27.740000</td>\n",
       "      <td>1.000000</td>\n",
       "      <td>0.871000</td>\n",
       "      <td>8.780000</td>\n",
       "      <td>100.000000</td>\n",
       "      <td>12.126500</td>\n",
       "      <td>24.000000</td>\n",
       "      <td>711.000000</td>\n",
       "      <td>22.000000</td>\n",
       "      <td>37.970000</td>\n",
       "      <td>50.000000</td>\n",
       "    </tr>\n",
       "  </tbody>\n",
       "</table>\n",
       "</div>"
      ],
      "text/plain": [
       "             crim          zn       indus        chas         nox          rm  \\\n",
       "count  506.000000  506.000000  506.000000  506.000000  506.000000  506.000000   \n",
       "mean     3.613524   11.363636   11.136779    0.069170    0.554695    6.284634   \n",
       "std      8.601545   23.322453    6.860353    0.253994    0.115878    0.702617   \n",
       "min      0.006320    0.000000    0.460000    0.000000    0.385000    3.561000   \n",
       "25%      0.082045    0.000000    5.190000    0.000000    0.449000    5.885500   \n",
       "50%      0.256510    0.000000    9.690000    0.000000    0.538000    6.208500   \n",
       "75%      3.677083   12.500000   18.100000    0.000000    0.624000    6.623500   \n",
       "max     88.976200  100.000000   27.740000    1.000000    0.871000    8.780000   \n",
       "\n",
       "              age         dis         rad         tax     ptratio       lstat  \\\n",
       "count  506.000000  506.000000  506.000000  506.000000  506.000000  506.000000   \n",
       "mean    68.574901    3.795043    9.549407  408.237154   18.455534   12.653063   \n",
       "std     28.148861    2.105710    8.707259  168.537116    2.164946    7.141062   \n",
       "min      2.900000    1.129600    1.000000  187.000000   12.600000    1.730000   \n",
       "25%     45.025000    2.100175    4.000000  279.000000   17.400000    6.950000   \n",
       "50%     77.500000    3.207450    5.000000  330.000000   19.050000   11.360000   \n",
       "75%     94.075000    5.188425   24.000000  666.000000   20.200000   16.955000   \n",
       "max    100.000000   12.126500   24.000000  711.000000   22.000000   37.970000   \n",
       "\n",
       "             medv  \n",
       "count  506.000000  \n",
       "mean    22.532806  \n",
       "std      9.197104  \n",
       "min      5.000000  \n",
       "25%     17.025000  \n",
       "50%     21.200000  \n",
       "75%     25.000000  \n",
       "max     50.000000  "
      ]
     },
     "execution_count": 112,
     "metadata": {},
     "output_type": "execute_result"
    }
   ],
   "source": [
    "#note that the data table shown in the book doesn't have black and we are going to drop it!\n",
    "df = df.drop('black' ,axis='columns')\n",
    "df.describe(include='all')"
   ]
  },
  {
   "cell_type": "code",
   "execution_count": 113,
   "id": "5055d22f",
   "metadata": {},
   "outputs": [
    {
     "data": {
      "text/plain": [
       "array([[<AxesSubplot:title={'center':'crim'}>,\n",
       "        <AxesSubplot:title={'center':'zn'}>,\n",
       "        <AxesSubplot:title={'center':'indus'}>,\n",
       "        <AxesSubplot:title={'center':'chas'}>],\n",
       "       [<AxesSubplot:title={'center':'nox'}>,\n",
       "        <AxesSubplot:title={'center':'rm'}>,\n",
       "        <AxesSubplot:title={'center':'age'}>,\n",
       "        <AxesSubplot:title={'center':'dis'}>],\n",
       "       [<AxesSubplot:title={'center':'rad'}>,\n",
       "        <AxesSubplot:title={'center':'tax'}>,\n",
       "        <AxesSubplot:title={'center':'ptratio'}>,\n",
       "        <AxesSubplot:title={'center':'lstat'}>],\n",
       "       [<AxesSubplot:title={'center':'medv'}>, <AxesSubplot:>,\n",
       "        <AxesSubplot:>, <AxesSubplot:>]], dtype=object)"
      ]
     },
     "execution_count": 113,
     "metadata": {},
     "output_type": "execute_result"
    },
    {
     "data": {
      "image/png": "[encoded data removed]",
      "text/plain": [
       "<Figure size 1728x1080 with 16 Axes>"
      ]
     },
     "metadata": {
      "needs_background": "light"
     },
     "output_type": "display_data"
    }
   ],
   "source": [
    "#now let us take a quick look at distributions:\n",
    "df.hist(figsize=(24,15))"
   ]
  },
  {
   "cell_type": "markdown",
   "id": "4c6014f4",
   "metadata": {},
   "source": [
    "### simple linear regression"
   ]
  },
  {
   "cell_type": "code",
   "execution_count": 114,
   "id": "7da1efd3",
   "metadata": {},
   "outputs": [
    {
     "name": "stdout",
     "output_type": "stream",
     "text": [
      "shape of X:  (506, 1)\n",
      "shape of y:  (506,)\n"
     ]
    }
   ],
   "source": [
    "# we want to predict medv usig lstat.... #so let us seperate X and y:\n",
    "X = df['lstat'].to_numpy()\n",
    "y = df.iloc[:,-1].to_numpy()\n",
    "\n",
    "X = X.reshape(-1,1) \n",
    "\n",
    "print('shape of X: ', X.shape)\n",
    "print('shape of y: ', y.shape)"
   ]
  },
  {
   "cell_type": "code",
   "execution_count": 115,
   "id": "56dc6836",
   "metadata": {},
   "outputs": [
    {
     "name": "stdout",
     "output_type": "stream",
     "text": [
      "                            OLS Regression Results                            \n",
      "==============================================================================\n",
      "Dep. Variable:                      y   R-squared:                       0.544\n",
      "Model:                            OLS   Adj. R-squared:                  0.543\n",
      "Method:                 Least Squares   F-statistic:                     601.6\n",
      "Date:                Tue, 22 Feb 2022   Prob (F-statistic):           5.08e-88\n",
      "Time:                        21:57:46   Log-Likelihood:                -1641.5\n",
      "No. Observations:                 506   AIC:                             3287.\n",
      "Df Residuals:                     504   BIC:                             3295.\n",
      "Df Model:                           1                                         \n",
      "Covariance Type:            nonrobust                                         \n",
      "==============================================================================\n",
      "                 coef    std err          t      P>|t|      [0.025      0.975]\n",
      "------------------------------------------------------------------------------\n",
      "const         34.5538      0.563     61.415      0.000      33.448      35.659\n",
      "x1            -0.9500      0.039    -24.528      0.000      -1.026      -0.874\n",
      "==============================================================================\n",
      "Omnibus:                      137.043   Durbin-Watson:                   0.892\n",
      "Prob(Omnibus):                  0.000   Jarque-Bera (JB):              291.373\n",
      "Skew:                           1.453   Prob(JB):                     5.36e-64\n",
      "Kurtosis:                       5.319   Cond. No.                         29.7\n",
      "==============================================================================\n",
      "\n",
      "Notes:\n",
      "[1] Standard Errors assume that the covariance matrix of the errors is correctly specified.\n"
     ]
    }
   ],
   "source": [
    "# now, let's use simple linear regression by regressing `medv` on `lstat`...\n",
    "# if we want to get some statistical information, we should use  `statsmodels`\n",
    "\n",
    "import statsmodels.api as sm\n",
    "X_sm = sm.add_constant(X)\n",
    "regressor = sm.OLS(y, X_sm) \n",
    "regressor = regressor.fit()\n",
    "print(regressor.summary())"
   ]
  },
  {
   "cell_type": "markdown",
   "id": "6021e9c6",
   "metadata": {},
   "source": [
    "**remarks:** <br>\n",
    "(1) we can quickly see that  the p-value is (almost) 0. This suggest that there is a relationship between response variable and the predictor `lstat` (we can get the same conclusion by looking at the F-statistics score). Note that low `p-value` does not mean our model is good. If we look at the `R-squared`, we can see that the score is close to `0.5`, and this shows the linear model with single predictor cannot appropriately explain the variance in the target value. \n",
    "\n",
    "(2) we have Standard Error (SE) of parameters, and thus we can approximatly say the Confidence Interval (CI) is between $\\mu - 2 \\sigma$ and $\\mu + 2\\sigma$ (note that $\\sigma$ is `SE`). So, for coeficient of x1, we can see the CI is `[-0.9500 - 2*0.039, -0.9500 + 2*0.039]`.\n",
    "\n",
    "(3) How to find CI and PI for the response variable y ?!?\n",
    "\n",
    "(4) let us plot x-y (see below)"
   ]
  },
  {
   "cell_type": "code",
   "execution_count": 116,
   "id": "ebe34ff8",
   "metadata": {},
   "outputs": [
    {
     "data": {
      "image/png": "[encoded data removed]",
      "text/plain": [
       "<Figure size 432x288 with 1 Axes>"
      ]
     },
     "metadata": {
      "needs_background": "light"
     },
     "output_type": "display_data"
    }
   ],
   "source": [
    "plt.scatter(X.ravel(), y, color = 'b')\n",
    "plt.plot(X.ravel(), regressor.predict(X_sm), color = 'r')\n",
    "\n",
    "plt.title('data and fitted simple linear model')\n",
    "plt.xlabel('single feature: lstat')\n",
    "plt.ylabel('response variable: medv')\n",
    "plt.show()\n"
   ]
  },
  {
   "cell_type": "markdown",
   "id": "402058af",
   "metadata": {},
   "source": [
    "side note: it can be seen that there is a quadratic behavior in the data... so, using polynomial features might help."
   ]
  },
  {
   "cell_type": "markdown",
   "id": "d744f344",
   "metadata": {},
   "source": [
    "(5-I) let us plot residual-y"
   ]
  },
  {
   "cell_type": "code",
   "execution_count": 117,
   "id": "df82dc63",
   "metadata": {},
   "outputs": [
    {
     "data": {
      "image/png": "[encoded data removed]",
      "text/plain": [
       "<Figure size 432x288 with 1 Axes>"
      ]
     },
     "metadata": {
      "needs_background": "light"
     },
     "output_type": "display_data"
    },
    {
     "data": {
      "image/png": "[encoded data removed]",
      "text/plain": [
       "<Figure size 432x288 with 1 Axes>"
      ]
     },
     "metadata": {
      "needs_background": "light"
     },
     "output_type": "display_data"
    },
    {
     "data": {
      "image/png": "[encoded data removed]",
      "text/plain": [
       "<Figure size 432x288 with 1 Axes>"
      ]
     },
     "metadata": {
      "needs_background": "light"
     },
     "output_type": "display_data"
    }
   ],
   "source": [
    "y_residual = regressor.predict(X_sm) - y\n",
    "\n",
    "plt.scatter(y, y_residual, color='b')\n",
    "plt.xlabel('y value')\n",
    "plt.ylabel('y_residual')\n",
    "plt.axhline(y=0, color='r')\n",
    "plt.show()\n",
    "\n",
    "\n",
    "plt.hist(y_residual)\n",
    "plt.title('histogram of y_residual')\n",
    "plt.show()\n",
    "\n",
    "stats.probplot(y_residual, plot=plt)\n",
    "plt.title('QQplot for y_residual')\n",
    "plt.show()"
   ]
  },
  {
   "cell_type": "markdown",
   "id": "52d81e84",
   "metadata": {},
   "source": [
    "we can see that the QQplot is deviated from straight line. Therefore, the residual values are not following a normal distribution. The scatter plot residual-vs-y shows that there is a correlation in highr values of y. In fact, we can see that residuals are following a trend for y>30."
   ]
  },
  {
   "cell_type": "markdown",
   "id": "c37c6ade",
   "metadata": {},
   "source": [
    "(6-II) let us plot studentized residual-y (?!) --> LATER!"
   ]
  },
  {
   "cell_type": "markdown",
   "id": "6123aa99",
   "metadata": {},
   "source": [
    "(7) Find outliers and high leverage point (How??) <br> \n",
    "Recall that outliers are in y-space and high leverage point is outlier in feature space."
   ]
  },
  {
   "cell_type": "code",
   "execution_count": 118,
   "id": "2487ea36",
   "metadata": {},
   "outputs": [
    {
     "data": {
      "text/plain": [
       "180"
      ]
     },
     "execution_count": 118,
     "metadata": {},
     "output_type": "execute_result"
    }
   ],
   "source": [
    "#possible solution\n",
    "from sklearn.metrics import pairwise_distances\n",
    "D_y = pairwise_distances(y.reshape(-1,1))\n",
    "np.fill_diagonal(D_y, np.inf) #Because of np.min(...) in next line\n",
    "dist_to_nn = np.min(D_y, axis=1)\n",
    "outlier_idx = np.argmax(dist_to_nn)\n",
    "outlier_idx"
   ]
  },
  {
   "cell_type": "code",
   "execution_count": 119,
   "id": "89c6d05c",
   "metadata": {},
   "outputs": [
    {
     "data": {
      "text/plain": [
       "387"
      ]
     },
     "execution_count": 119,
     "metadata": {},
     "output_type": "execute_result"
    }
   ],
   "source": [
    "#high leverage point:\n",
    "D_x = pairwise_distances(X.reshape(-1,1))\n",
    "np.fill_diagonal(D_x, np.inf) #Because of np.min(...) in next line\n",
    "dist_to_nn = np.min(D_x, axis=1)\n",
    "leverage_idx = np.argmax(dist_to_nn)\n",
    "leverage_idx"
   ]
  },
  {
   "cell_type": "code",
   "execution_count": 120,
   "id": "e85f07a1",
   "metadata": {},
   "outputs": [
    {
     "data": {
      "image/png": "[encoded data removed]",
      "text/plain": [
       "<Figure size 432x288 with 1 Axes>"
      ]
     },
     "metadata": {
      "needs_background": "light"
     },
     "output_type": "display_data"
    }
   ],
   "source": [
    "plt.scatter(X.ravel(), y, color = 'b', label='data')\n",
    "plt.plot(X.ravel(), regressor.predict(X_sm), color = 'r', label='fitted model')\n",
    "\n",
    "plt.scatter(X[outlier_idx], y[outlier_idx], color='orange', label='outlier')\n",
    "plt.scatter(X[leverage_idx], y[leverage_idx], color='black', label='leverage')\n",
    "\n",
    "plt.title('data and fitted simple linear model')\n",
    "plt.xlabel('single feature: lstat')\n",
    "plt.ylabel('response variable: medv')\n",
    "\n",
    "plt.legend()\n",
    "plt.show()"
   ]
  },
  {
   "cell_type": "markdown",
   "id": "1d3349b5",
   "metadata": {},
   "source": [
    "(8) Let us use all predictors"
   ]
  },
  {
   "cell_type": "code",
   "execution_count": 121,
   "id": "b7c1bb9e",
   "metadata": {},
   "outputs": [
    {
     "name": "stdout",
     "output_type": "stream",
     "text": [
      "                            OLS Regression Results                            \n",
      "==============================================================================\n",
      "Dep. Variable:                      y   R-squared:                       0.734\n",
      "Model:                            OLS   Adj. R-squared:                  0.728\n",
      "Method:                 Least Squares   F-statistic:                     113.5\n",
      "Date:                Tue, 22 Feb 2022   Prob (F-statistic):          2.23e-133\n",
      "Time:                        21:57:54   Log-Likelihood:                -1504.9\n",
      "No. Observations:                 506   AIC:                             3036.\n",
      "Df Residuals:                     493   BIC:                             3091.\n",
      "Df Model:                          12                                         \n",
      "Covariance Type:            nonrobust                                         \n",
      "==============================================================================\n",
      "                 coef    std err          t      P>|t|      [0.025      0.975]\n",
      "------------------------------------------------------------------------------\n",
      "const         41.6173      4.936      8.431      0.000      31.919      51.316\n",
      "x1            -0.1214      0.033     -3.678      0.000      -0.186      -0.057\n",
      "x2             0.0470      0.014      3.384      0.001       0.020       0.074\n",
      "x3             0.0135      0.062      0.217      0.829      -0.109       0.136\n",
      "x4             2.8400      0.870      3.264      0.001       1.131       4.549\n",
      "x5           -18.7580      3.851     -4.870      0.000     -26.325     -11.191\n",
      "x6             3.6581      0.420      8.705      0.000       2.832       4.484\n",
      "x7             0.0036      0.013      0.271      0.787      -0.023       0.030\n",
      "x8            -1.4908      0.202     -7.394      0.000      -1.887      -1.095\n",
      "x9             0.2894      0.067      4.325      0.000       0.158       0.421\n",
      "x10           -0.0127      0.004     -3.337      0.001      -0.020      -0.005\n",
      "x11           -0.9375      0.132     -7.091      0.000      -1.197      -0.678\n",
      "x12           -0.5520      0.051    -10.897      0.000      -0.652      -0.452\n",
      "==============================================================================\n",
      "Omnibus:                      171.096   Durbin-Watson:                   1.077\n",
      "Prob(Omnibus):                  0.000   Jarque-Bera (JB):              709.937\n",
      "Skew:                           1.477   Prob(JB):                    6.90e-155\n",
      "Kurtosis:                       7.995   Cond. No.                     1.17e+04\n",
      "==============================================================================\n",
      "\n",
      "Notes:\n",
      "[1] Standard Errors assume that the covariance matrix of the errors is correctly specified.\n",
      "[2] The condition number is large, 1.17e+04. This might indicate that there are\n",
      "strong multicollinearity or other numerical problems.\n"
     ]
    }
   ],
   "source": [
    "X = df.iloc[:,:-1].to_numpy()\n",
    "y = df.iloc[:,-1].to_numpy()\n",
    "\n",
    "X_sm = sm.add_constant(X)\n",
    "\n",
    "regressor = sm.OLS(y, X_sm) \n",
    "regressor = regressor.fit()\n",
    "\n",
    "print(regressor.summary())"
   ]
  },
  {
   "cell_type": "markdown",
   "id": "80be77bf",
   "metadata": {},
   "source": [
    "**remarks:**\n",
    "* F-statistics is large, which shows there is relationship between features and y\n",
    "* p-value for x3 and x7 is large, which means there is little relationship between response variable y and these two features.\n",
    "* How to know if there is (multi-) colinearity? let us calculate VIF as follows"
   ]
  },
  {
   "cell_type": "code",
   "execution_count": 203,
   "id": "5352cb8c",
   "metadata": {},
   "outputs": [],
   "source": [
    "def _get_VIF(X):\n",
    "    \"\"\"\n",
    "    This parameters calculate VIF for features and return them\n",
    "    \n",
    "    Parameters\n",
    "    ----------\n",
    "    X: numpy.ndarray\n",
    "        feature matrix of shape (n,p) where n is number of observations and p is number of features\n",
    "    \n",
    "    \n",
    "    Returns\n",
    "    ---------\n",
    "    a vector of size p that contains the VIF of each feature \n",
    "    \"\"\"\n",
    "    if X.shape[1] <= 1:\n",
    "        raise  ValueError ('the second dimension of X must be at least 2')\n",
    "    \n",
    "    p = X.shape[1]\n",
    "    \n",
    "    VIF_scores = np.full(p, -1, dtype=np.float64)\n",
    "    \n",
    "    for i in range(p):\n",
    "        predictors = np.delete(X, i, axis=1)\n",
    "        target = X[:,i].reshape(-1,1)\n",
    "        \n",
    "        regressor = LinearRegression().fit(predictors, target)\n",
    "        r_squared_score = r2_score(target, regressor.predict(predictors))\n",
    "        \n",
    "        VIF_scores[i] = 1 / (1 - (r_squared_score**2 - 1e-6))\n",
    "    \n",
    "    return VIF_scores"
   ]
  },
  {
   "cell_type": "code",
   "execution_count": 124,
   "id": "8b2104fe",
   "metadata": {},
   "outputs": [
    {
     "data": {
      "text/plain": [
       "array([1.76748592, 2.29845891, 3.98718063, 1.07116777, 4.36909262,\n",
       "       1.91253244, 3.08823204, 3.95403664, 7.44530076, 9.00215766,\n",
       "       1.79705959, 2.8707765 ])"
      ]
     },
     "execution_count": 124,
     "metadata": {},
     "output_type": "execute_result"
    }
   ],
   "source": [
    "X = df.iloc[:,:-1].to_numpy()\n",
    "y = df.iloc[:,-1].to_numpy()\n",
    "\n",
    "VIF_scores = _get_VIF(X)\n",
    "VIF_scores"
   ]
  },
  {
   "cell_type": "markdown",
   "id": "718bf750",
   "metadata": {},
   "source": [
    "**remarks:** <br>\n",
    "VIF score is high for feature no. 8 and 9 (in numpy indexing). This shows that these two variables can be obtained from others. Although we see two features with high VIF, it is possible that one of them is highly affected by the other! In other words, removing both of them may cause loss of informtion. Let us take a look at correlation matrix:"
   ]
  },
  {
   "cell_type": "code",
   "execution_count": 126,
   "id": "83ec021d",
   "metadata": {},
   "outputs": [
    {
     "data": {
      "text/html": [
       "<style type=\"text/css\">\n",
       "#T_56b5a_row0_col0, #T_56b5a_row1_col1, #T_56b5a_row2_col2, #T_56b5a_row3_col3, #T_56b5a_row4_col4, #T_56b5a_row5_col5, #T_56b5a_row6_col6, #T_56b5a_row7_col7, #T_56b5a_row8_col8, #T_56b5a_row9_col9, #T_56b5a_row10_col10, #T_56b5a_row11_col11 {\n",
       "  background-color: #b40426;\n",
       "  color: #f1f1f1;\n",
       "}\n",
       "#T_56b5a_row0_col1, #T_56b5a_row3_col0 {\n",
       "  background-color: #88abfd;\n",
       "  color: #000000;\n",
       "}\n",
       "#T_56b5a_row0_col2 {\n",
       "  background-color: #f7bca1;\n",
       "  color: #000000;\n",
       "}\n",
       "#T_56b5a_row0_col3 {\n",
       "  background-color: #4b64d5;\n",
       "  color: #f1f1f1;\n",
       "}\n",
       "#T_56b5a_row0_col4 {\n",
       "  background-color: #f7b599;\n",
       "  color: #000000;\n",
       "}\n",
       "#T_56b5a_row0_col5 {\n",
       "  background-color: #8badfd;\n",
       "  color: #000000;\n",
       "}\n",
       "#T_56b5a_row0_col6 {\n",
       "  background-color: #f5c2aa;\n",
       "  color: #000000;\n",
       "}\n",
       "#T_56b5a_row0_col7 {\n",
       "  background-color: #82a6fb;\n",
       "  color: #f1f1f1;\n",
       "}\n",
       "#T_56b5a_row0_col8, #T_56b5a_row4_col11 {\n",
       "  background-color: #f49a7b;\n",
       "  color: #000000;\n",
       "}\n",
       "#T_56b5a_row0_col9, #T_56b5a_row2_col8, #T_56b5a_row8_col0 {\n",
       "  background-color: #f6a283;\n",
       "  color: #000000;\n",
       "}\n",
       "#T_56b5a_row0_col10 {\n",
       "  background-color: #dadce0;\n",
       "  color: #000000;\n",
       "}\n",
       "#T_56b5a_row0_col11 {\n",
       "  background-color: #f7b99e;\n",
       "  color: #000000;\n",
       "}\n",
       "#T_56b5a_row1_col0, #T_56b5a_row9_col7 {\n",
       "  background-color: #6384eb;\n",
       "  color: #f1f1f1;\n",
       "}\n",
       "#T_56b5a_row1_col2, #T_56b5a_row1_col6, #T_56b5a_row8_col3 {\n",
       "  background-color: #5a78e4;\n",
       "  color: #f1f1f1;\n",
       "}\n",
       "#T_56b5a_row1_col3 {\n",
       "  background-color: #4f69d9;\n",
       "  color: #f1f1f1;\n",
       "}\n",
       "#T_56b5a_row1_col4, #T_56b5a_row1_col9 {\n",
       "  background-color: #6788ee;\n",
       "  color: #f1f1f1;\n",
       "}\n",
       "#T_56b5a_row1_col5 {\n",
       "  background-color: #edd1c2;\n",
       "  color: #000000;\n",
       "}\n",
       "#T_56b5a_row1_col7, #T_56b5a_row9_col4 {\n",
       "  background-color: #ec7f63;\n",
       "  color: #f1f1f1;\n",
       "}\n",
       "#T_56b5a_row1_col8, #T_56b5a_row1_col11 {\n",
       "  background-color: #6180e9;\n",
       "  color: #f1f1f1;\n",
       "}\n",
       "#T_56b5a_row1_col10, #T_56b5a_row4_col7, #T_56b5a_row5_col11, #T_56b5a_row6_col1, #T_56b5a_row7_col0, #T_56b5a_row7_col2, #T_56b5a_row7_col4, #T_56b5a_row7_col6, #T_56b5a_row7_col8, #T_56b5a_row7_col9, #T_56b5a_row10_col3, #T_56b5a_row11_col5 {\n",
       "  background-color: #3b4cc0;\n",
       "  color: #f1f1f1;\n",
       "}\n",
       "#T_56b5a_row2_col0 {\n",
       "  background-color: #edd2c3;\n",
       "  color: #000000;\n",
       "}\n",
       "#T_56b5a_row2_col1, #T_56b5a_row7_col3 {\n",
       "  background-color: #4055c8;\n",
       "  color: #f1f1f1;\n",
       "}\n",
       "#T_56b5a_row2_col3, #T_56b5a_row8_col1 {\n",
       "  background-color: #6f92f3;\n",
       "  color: #f1f1f1;\n",
       "}\n",
       "#T_56b5a_row2_col4 {\n",
       "  background-color: #e0654f;\n",
       "  color: #f1f1f1;\n",
       "}\n",
       "#T_56b5a_row2_col5 {\n",
       "  background-color: #6687ed;\n",
       "  color: #f1f1f1;\n",
       "}\n",
       "#T_56b5a_row2_col6 {\n",
       "  background-color: #ee8669;\n",
       "  color: #f1f1f1;\n",
       "}\n",
       "#T_56b5a_row2_col7, #T_56b5a_row4_col1 {\n",
       "  background-color: #445acc;\n",
       "  color: #f1f1f1;\n",
       "}\n",
       "#T_56b5a_row2_col9 {\n",
       "  background-color: #ea7b60;\n",
       "  color: #f1f1f1;\n",
       "}\n",
       "#T_56b5a_row2_col10 {\n",
       "  background-color: #ead4c8;\n",
       "  color: #000000;\n",
       "}\n",
       "#T_56b5a_row2_col11 {\n",
       "  background-color: #f39778;\n",
       "  color: #000000;\n",
       "}\n",
       "#T_56b5a_row3_col1 {\n",
       "  background-color: #aac7fd;\n",
       "  color: #000000;\n",
       "}\n",
       "#T_56b5a_row3_col2 {\n",
       "  background-color: #cfdaea;\n",
       "  color: #000000;\n",
       "}\n",
       "#T_56b5a_row3_col4, #T_56b5a_row10_col0 {\n",
       "  background-color: #d9dce1;\n",
       "  color: #000000;\n",
       "}\n",
       "#T_56b5a_row3_col5 {\n",
       "  background-color: #cbd8ee;\n",
       "  color: #000000;\n",
       "}\n",
       "#T_56b5a_row3_col6 {\n",
       "  background-color: #d7dce3;\n",
       "  color: #000000;\n",
       "}\n",
       "#T_56b5a_row3_col7 {\n",
       "  background-color: #b9d0f9;\n",
       "  color: #000000;\n",
       "}\n",
       "#T_56b5a_row3_col8, #T_56b5a_row3_col9 {\n",
       "  background-color: #a7c5fe;\n",
       "  color: #000000;\n",
       "}\n",
       "#T_56b5a_row3_col10, #T_56b5a_row4_col5 {\n",
       "  background-color: #799cf8;\n",
       "  color: #f1f1f1;\n",
       "}\n",
       "#T_56b5a_row3_col11 {\n",
       "  background-color: #aec9fc;\n",
       "  color: #000000;\n",
       "}\n",
       "#T_56b5a_row4_col0 {\n",
       "  background-color: #efcfbf;\n",
       "  color: #000000;\n",
       "}\n",
       "#T_56b5a_row4_col2 {\n",
       "  background-color: #e16751;\n",
       "  color: #f1f1f1;\n",
       "}\n",
       "#T_56b5a_row4_col3, #T_56b5a_row5_col3, #T_56b5a_row5_col8 {\n",
       "  background-color: #779af7;\n",
       "  color: #f1f1f1;\n",
       "}\n",
       "#T_56b5a_row4_col6 {\n",
       "  background-color: #e46e56;\n",
       "  color: #f1f1f1;\n",
       "}\n",
       "#T_56b5a_row4_col8 {\n",
       "  background-color: #f59d7e;\n",
       "  color: #000000;\n",
       "}\n",
       "#T_56b5a_row4_col9 {\n",
       "  background-color: #f08b6e;\n",
       "  color: #f1f1f1;\n",
       "}\n",
       "#T_56b5a_row4_col10 {\n",
       "  background-color: #c5d6f2;\n",
       "  color: #000000;\n",
       "}\n",
       "#T_56b5a_row5_col0, #T_56b5a_row7_col10, #T_56b5a_row10_col1 {\n",
       "  background-color: #5e7de7;\n",
       "  color: #f1f1f1;\n",
       "}\n",
       "#T_56b5a_row5_col1 {\n",
       "  background-color: #ebd3c6;\n",
       "  color: #000000;\n",
       "}\n",
       "#T_56b5a_row5_col2, #T_56b5a_row6_col3 {\n",
       "  background-color: #7699f6;\n",
       "  color: #f1f1f1;\n",
       "}\n",
       "#T_56b5a_row5_col4 {\n",
       "  background-color: #92b4fe;\n",
       "  color: #000000;\n",
       "}\n",
       "#T_56b5a_row5_col6 {\n",
       "  background-color: #9bbcff;\n",
       "  color: #000000;\n",
       "}\n",
       "#T_56b5a_row5_col7 {\n",
       "  background-color: #ead5c9;\n",
       "  color: #000000;\n",
       "}\n",
       "#T_56b5a_row5_col9, #T_56b5a_row10_col5 {\n",
       "  background-color: #6c8ff1;\n",
       "  color: #f1f1f1;\n",
       "}\n",
       "#T_56b5a_row5_col10 {\n",
       "  background-color: #4257c9;\n",
       "  color: #f1f1f1;\n",
       "}\n",
       "#T_56b5a_row6_col0 {\n",
       "  background-color: #e4d9d2;\n",
       "  color: #000000;\n",
       "}\n",
       "#T_56b5a_row6_col2 {\n",
       "  background-color: #ef886b;\n",
       "  color: #f1f1f1;\n",
       "}\n",
       "#T_56b5a_row6_col4 {\n",
       "  background-color: #e36c55;\n",
       "  color: #f1f1f1;\n",
       "}\n",
       "#T_56b5a_row6_col5 {\n",
       "  background-color: #86a9fc;\n",
       "  color: #f1f1f1;\n",
       "}\n",
       "#T_56b5a_row6_col7 {\n",
       "  background-color: #3e51c5;\n",
       "  color: #f1f1f1;\n",
       "}\n",
       "#T_56b5a_row6_col8 {\n",
       "  background-color: #f5c1a9;\n",
       "  color: #000000;\n",
       "}\n",
       "#T_56b5a_row6_col9 {\n",
       "  background-color: #f7b497;\n",
       "  color: #000000;\n",
       "}\n",
       "#T_56b5a_row6_col10 {\n",
       "  background-color: #d5dbe5;\n",
       "  color: #000000;\n",
       "}\n",
       "#T_56b5a_row6_col11 {\n",
       "  background-color: #f4987a;\n",
       "  color: #000000;\n",
       "}\n",
       "#T_56b5a_row7_col1 {\n",
       "  background-color: #f08a6c;\n",
       "  color: #f1f1f1;\n",
       "}\n",
       "#T_56b5a_row7_col5 {\n",
       "  background-color: #dedcdb;\n",
       "  color: #000000;\n",
       "}\n",
       "#T_56b5a_row7_col11 {\n",
       "  background-color: #506bda;\n",
       "  color: #f1f1f1;\n",
       "}\n",
       "#T_56b5a_row8_col2 {\n",
       "  background-color: #f39475;\n",
       "  color: #000000;\n",
       "}\n",
       "#T_56b5a_row8_col4 {\n",
       "  background-color: #f18d6f;\n",
       "  color: #f1f1f1;\n",
       "}\n",
       "#T_56b5a_row8_col5 {\n",
       "  background-color: #8db0fe;\n",
       "  color: #000000;\n",
       "}\n",
       "#T_56b5a_row8_col6 {\n",
       "  background-color: #f7b093;\n",
       "  color: #000000;\n",
       "}\n",
       "#T_56b5a_row8_col7, #T_56b5a_row11_col7 {\n",
       "  background-color: #6b8df0;\n",
       "  color: #f1f1f1;\n",
       "}\n",
       "#T_56b5a_row8_col9 {\n",
       "  background-color: #c83836;\n",
       "  color: #f1f1f1;\n",
       "}\n",
       "#T_56b5a_row8_col10 {\n",
       "  background-color: #f3c7b1;\n",
       "  color: #000000;\n",
       "}\n",
       "#T_56b5a_row8_col11 {\n",
       "  background-color: #f7b396;\n",
       "  color: #000000;\n",
       "}\n",
       "#T_56b5a_row9_col0 {\n",
       "  background-color: #f7ad90;\n",
       "  color: #000000;\n",
       "}\n",
       "#T_56b5a_row9_col1 {\n",
       "  background-color: #6e90f2;\n",
       "  color: #f1f1f1;\n",
       "}\n",
       "#T_56b5a_row9_col2 {\n",
       "  background-color: #e67259;\n",
       "  color: #f1f1f1;\n",
       "}\n",
       "#T_56b5a_row9_col3 {\n",
       "  background-color: #516ddb;\n",
       "  color: #f1f1f1;\n",
       "}\n",
       "#T_56b5a_row9_col5 {\n",
       "  background-color: #7b9ff9;\n",
       "  color: #f1f1f1;\n",
       "}\n",
       "#T_56b5a_row9_col6, #T_56b5a_row9_col11 {\n",
       "  background-color: #f7a688;\n",
       "  color: #000000;\n",
       "}\n",
       "#T_56b5a_row9_col8 {\n",
       "  background-color: #ca3b37;\n",
       "  color: #f1f1f1;\n",
       "}\n",
       "#T_56b5a_row9_col10, #T_56b5a_row10_col11 {\n",
       "  background-color: #f3c8b2;\n",
       "  color: #000000;\n",
       "}\n",
       "#T_56b5a_row10_col2 {\n",
       "  background-color: #f5c0a7;\n",
       "  color: #000000;\n",
       "}\n",
       "#T_56b5a_row10_col4 {\n",
       "  background-color: #e7d7ce;\n",
       "  color: #000000;\n",
       "}\n",
       "#T_56b5a_row10_col6 {\n",
       "  background-color: #eed0c0;\n",
       "  color: #000000;\n",
       "}\n",
       "#T_56b5a_row10_col7 {\n",
       "  background-color: #9fbfff;\n",
       "  color: #000000;\n",
       "}\n",
       "#T_56b5a_row10_col8 {\n",
       "  background-color: #f6bfa6;\n",
       "  color: #000000;\n",
       "}\n",
       "#T_56b5a_row10_col9 {\n",
       "  background-color: #f6bda2;\n",
       "  color: #000000;\n",
       "}\n",
       "#T_56b5a_row11_col0 {\n",
       "  background-color: #f2cab5;\n",
       "  color: #000000;\n",
       "}\n",
       "#T_56b5a_row11_col1 {\n",
       "  background-color: #5977e3;\n",
       "  color: #f1f1f1;\n",
       "}\n",
       "#T_56b5a_row11_col2, #T_56b5a_row11_col4 {\n",
       "  background-color: #f29274;\n",
       "  color: #f1f1f1;\n",
       "}\n",
       "#T_56b5a_row11_col3 {\n",
       "  background-color: #4c66d6;\n",
       "  color: #f1f1f1;\n",
       "}\n",
       "#T_56b5a_row11_col6 {\n",
       "  background-color: #f29072;\n",
       "  color: #f1f1f1;\n",
       "}\n",
       "#T_56b5a_row11_col8 {\n",
       "  background-color: #f7ba9f;\n",
       "  color: #000000;\n",
       "}\n",
       "#T_56b5a_row11_col9 {\n",
       "  background-color: #f7ac8e;\n",
       "  color: #000000;\n",
       "}\n",
       "#T_56b5a_row11_col10 {\n",
       "  background-color: #e9d5cb;\n",
       "  color: #000000;\n",
       "}\n",
       "</style>\n",
       "<table id=\"T_56b5a_\">\n",
       "  <thead>\n",
       "    <tr>\n",
       "      <th class=\"blank level0\" >&nbsp;</th>\n",
       "      <th class=\"col_heading level0 col0\" >0</th>\n",
       "      <th class=\"col_heading level0 col1\" >1</th>\n",
       "      <th class=\"col_heading level0 col2\" >2</th>\n",
       "      <th class=\"col_heading level0 col3\" >3</th>\n",
       "      <th class=\"col_heading level0 col4\" >4</th>\n",
       "      <th class=\"col_heading level0 col5\" >5</th>\n",
       "      <th class=\"col_heading level0 col6\" >6</th>\n",
       "      <th class=\"col_heading level0 col7\" >7</th>\n",
       "      <th class=\"col_heading level0 col8\" >8</th>\n",
       "      <th class=\"col_heading level0 col9\" >9</th>\n",
       "      <th class=\"col_heading level0 col10\" >10</th>\n",
       "      <th class=\"col_heading level0 col11\" >11</th>\n",
       "    </tr>\n",
       "  </thead>\n",
       "  <tbody>\n",
       "    <tr>\n",
       "      <th id=\"T_56b5a_level0_row0\" class=\"row_heading level0 row0\" >0</th>\n",
       "      <td id=\"T_56b5a_row0_col0\" class=\"data row0 col0\" >1.000000</td>\n",
       "      <td id=\"T_56b5a_row0_col1\" class=\"data row0 col1\" >-0.200469</td>\n",
       "      <td id=\"T_56b5a_row0_col2\" class=\"data row0 col2\" >0.406583</td>\n",
       "      <td id=\"T_56b5a_row0_col3\" class=\"data row0 col3\" >-0.055892</td>\n",
       "      <td id=\"T_56b5a_row0_col4\" class=\"data row0 col4\" >0.420972</td>\n",
       "      <td id=\"T_56b5a_row0_col5\" class=\"data row0 col5\" >-0.219247</td>\n",
       "      <td id=\"T_56b5a_row0_col6\" class=\"data row0 col6\" >0.352734</td>\n",
       "      <td id=\"T_56b5a_row0_col7\" class=\"data row0 col7\" >-0.379670</td>\n",
       "      <td id=\"T_56b5a_row0_col8\" class=\"data row0 col8\" >0.625505</td>\n",
       "      <td id=\"T_56b5a_row0_col9\" class=\"data row0 col9\" >0.582764</td>\n",
       "      <td id=\"T_56b5a_row0_col10\" class=\"data row0 col10\" >0.289946</td>\n",
       "      <td id=\"T_56b5a_row0_col11\" class=\"data row0 col11\" >0.455621</td>\n",
       "    </tr>\n",
       "    <tr>\n",
       "      <th id=\"T_56b5a_level0_row1\" class=\"row_heading level0 row1\" >1</th>\n",
       "      <td id=\"T_56b5a_row1_col0\" class=\"data row1 col0\" >-0.200469</td>\n",
       "      <td id=\"T_56b5a_row1_col1\" class=\"data row1 col1\" >1.000000</td>\n",
       "      <td id=\"T_56b5a_row1_col2\" class=\"data row1 col2\" >-0.533828</td>\n",
       "      <td id=\"T_56b5a_row1_col3\" class=\"data row1 col3\" >-0.042697</td>\n",
       "      <td id=\"T_56b5a_row1_col4\" class=\"data row1 col4\" >-0.516604</td>\n",
       "      <td id=\"T_56b5a_row1_col5\" class=\"data row1 col5\" >0.311991</td>\n",
       "      <td id=\"T_56b5a_row1_col6\" class=\"data row1 col6\" >-0.569537</td>\n",
       "      <td id=\"T_56b5a_row1_col7\" class=\"data row1 col7\" >0.664408</td>\n",
       "      <td id=\"T_56b5a_row1_col8\" class=\"data row1 col8\" >-0.311948</td>\n",
       "      <td id=\"T_56b5a_row1_col9\" class=\"data row1 col9\" >-0.314563</td>\n",
       "      <td id=\"T_56b5a_row1_col10\" class=\"data row1 col10\" >-0.391679</td>\n",
       "      <td id=\"T_56b5a_row1_col11\" class=\"data row1 col11\" >-0.412995</td>\n",
       "    </tr>\n",
       "    <tr>\n",
       "      <th id=\"T_56b5a_level0_row2\" class=\"row_heading level0 row2\" >2</th>\n",
       "      <td id=\"T_56b5a_row2_col0\" class=\"data row2 col0\" >0.406583</td>\n",
       "      <td id=\"T_56b5a_row2_col1\" class=\"data row2 col1\" >-0.533828</td>\n",
       "      <td id=\"T_56b5a_row2_col2\" class=\"data row2 col2\" >1.000000</td>\n",
       "      <td id=\"T_56b5a_row2_col3\" class=\"data row2 col3\" >0.062938</td>\n",
       "      <td id=\"T_56b5a_row2_col4\" class=\"data row2 col4\" >0.763651</td>\n",
       "      <td id=\"T_56b5a_row2_col5\" class=\"data row2 col5\" >-0.391676</td>\n",
       "      <td id=\"T_56b5a_row2_col6\" class=\"data row2 col6\" >0.644779</td>\n",
       "      <td id=\"T_56b5a_row2_col7\" class=\"data row2 col7\" >-0.708027</td>\n",
       "      <td id=\"T_56b5a_row2_col8\" class=\"data row2 col8\" >0.595129</td>\n",
       "      <td id=\"T_56b5a_row2_col9\" class=\"data row2 col9\" >0.720760</td>\n",
       "      <td id=\"T_56b5a_row2_col10\" class=\"data row2 col10\" >0.383248</td>\n",
       "      <td id=\"T_56b5a_row2_col11\" class=\"data row2 col11\" >0.603800</td>\n",
       "    </tr>\n",
       "    <tr>\n",
       "      <th id=\"T_56b5a_level0_row3\" class=\"row_heading level0 row3\" >3</th>\n",
       "      <td id=\"T_56b5a_row3_col0\" class=\"data row3 col0\" >-0.055892</td>\n",
       "      <td id=\"T_56b5a_row3_col1\" class=\"data row3 col1\" >-0.042697</td>\n",
       "      <td id=\"T_56b5a_row3_col2\" class=\"data row3 col2\" >0.062938</td>\n",
       "      <td id=\"T_56b5a_row3_col3\" class=\"data row3 col3\" >1.000000</td>\n",
       "      <td id=\"T_56b5a_row3_col4\" class=\"data row3 col4\" >0.091203</td>\n",
       "      <td id=\"T_56b5a_row3_col5\" class=\"data row3 col5\" >0.091251</td>\n",
       "      <td id=\"T_56b5a_row3_col6\" class=\"data row3 col6\" >0.086518</td>\n",
       "      <td id=\"T_56b5a_row3_col7\" class=\"data row3 col7\" >-0.099176</td>\n",
       "      <td id=\"T_56b5a_row3_col8\" class=\"data row3 col8\" >-0.007368</td>\n",
       "      <td id=\"T_56b5a_row3_col9\" class=\"data row3 col9\" >-0.035587</td>\n",
       "      <td id=\"T_56b5a_row3_col10\" class=\"data row3 col10\" >-0.121515</td>\n",
       "      <td id=\"T_56b5a_row3_col11\" class=\"data row3 col11\" >-0.053929</td>\n",
       "    </tr>\n",
       "    <tr>\n",
       "      <th id=\"T_56b5a_level0_row4\" class=\"row_heading level0 row4\" >4</th>\n",
       "      <td id=\"T_56b5a_row4_col0\" class=\"data row4 col0\" >0.420972</td>\n",
       "      <td id=\"T_56b5a_row4_col1\" class=\"data row4 col1\" >-0.516604</td>\n",
       "      <td id=\"T_56b5a_row4_col2\" class=\"data row4 col2\" >0.763651</td>\n",
       "      <td id=\"T_56b5a_row4_col3\" class=\"data row4 col3\" >0.091203</td>\n",
       "      <td id=\"T_56b5a_row4_col4\" class=\"data row4 col4\" >1.000000</td>\n",
       "      <td id=\"T_56b5a_row4_col5\" class=\"data row4 col5\" >-0.302188</td>\n",
       "      <td id=\"T_56b5a_row4_col6\" class=\"data row4 col6\" >0.731470</td>\n",
       "      <td id=\"T_56b5a_row4_col7\" class=\"data row4 col7\" >-0.769230</td>\n",
       "      <td id=\"T_56b5a_row4_col8\" class=\"data row4 col8\" >0.611441</td>\n",
       "      <td id=\"T_56b5a_row4_col9\" class=\"data row4 col9\" >0.668023</td>\n",
       "      <td id=\"T_56b5a_row4_col10\" class=\"data row4 col10\" >0.188933</td>\n",
       "      <td id=\"T_56b5a_row4_col11\" class=\"data row4 col11\" >0.590879</td>\n",
       "    </tr>\n",
       "    <tr>\n",
       "      <th id=\"T_56b5a_level0_row5\" class=\"row_heading level0 row5\" >5</th>\n",
       "      <td id=\"T_56b5a_row5_col0\" class=\"data row5 col0\" >-0.219247</td>\n",
       "      <td id=\"T_56b5a_row5_col1\" class=\"data row5 col1\" >0.311991</td>\n",
       "      <td id=\"T_56b5a_row5_col2\" class=\"data row5 col2\" >-0.391676</td>\n",
       "      <td id=\"T_56b5a_row5_col3\" class=\"data row5 col3\" >0.091251</td>\n",
       "      <td id=\"T_56b5a_row5_col4\" class=\"data row5 col4\" >-0.302188</td>\n",
       "      <td id=\"T_56b5a_row5_col5\" class=\"data row5 col5\" >1.000000</td>\n",
       "      <td id=\"T_56b5a_row5_col6\" class=\"data row5 col6\" >-0.240265</td>\n",
       "      <td id=\"T_56b5a_row5_col7\" class=\"data row5 col7\" >0.205246</td>\n",
       "      <td id=\"T_56b5a_row5_col8\" class=\"data row5 col8\" >-0.209847</td>\n",
       "      <td id=\"T_56b5a_row5_col9\" class=\"data row5 col9\" >-0.292048</td>\n",
       "      <td id=\"T_56b5a_row5_col10\" class=\"data row5 col10\" >-0.355501</td>\n",
       "      <td id=\"T_56b5a_row5_col11\" class=\"data row5 col11\" >-0.613808</td>\n",
       "    </tr>\n",
       "    <tr>\n",
       "      <th id=\"T_56b5a_level0_row6\" class=\"row_heading level0 row6\" >6</th>\n",
       "      <td id=\"T_56b5a_row6_col0\" class=\"data row6 col0\" >0.352734</td>\n",
       "      <td id=\"T_56b5a_row6_col1\" class=\"data row6 col1\" >-0.569537</td>\n",
       "      <td id=\"T_56b5a_row6_col2\" class=\"data row6 col2\" >0.644779</td>\n",
       "      <td id=\"T_56b5a_row6_col3\" class=\"data row6 col3\" >0.086518</td>\n",
       "      <td id=\"T_56b5a_row6_col4\" class=\"data row6 col4\" >0.731470</td>\n",
       "      <td id=\"T_56b5a_row6_col5\" class=\"data row6 col5\" >-0.240265</td>\n",
       "      <td id=\"T_56b5a_row6_col6\" class=\"data row6 col6\" >1.000000</td>\n",
       "      <td id=\"T_56b5a_row6_col7\" class=\"data row6 col7\" >-0.747881</td>\n",
       "      <td id=\"T_56b5a_row6_col8\" class=\"data row6 col8\" >0.456022</td>\n",
       "      <td id=\"T_56b5a_row6_col9\" class=\"data row6 col9\" >0.506456</td>\n",
       "      <td id=\"T_56b5a_row6_col10\" class=\"data row6 col10\" >0.261515</td>\n",
       "      <td id=\"T_56b5a_row6_col11\" class=\"data row6 col11\" >0.602339</td>\n",
       "    </tr>\n",
       "    <tr>\n",
       "      <th id=\"T_56b5a_level0_row7\" class=\"row_heading level0 row7\" >7</th>\n",
       "      <td id=\"T_56b5a_row7_col0\" class=\"data row7 col0\" >-0.379670</td>\n",
       "      <td id=\"T_56b5a_row7_col1\" class=\"data row7 col1\" >0.664408</td>\n",
       "      <td id=\"T_56b5a_row7_col2\" class=\"data row7 col2\" >-0.708027</td>\n",
       "      <td id=\"T_56b5a_row7_col3\" class=\"data row7 col3\" >-0.099176</td>\n",
       "      <td id=\"T_56b5a_row7_col4\" class=\"data row7 col4\" >-0.769230</td>\n",
       "      <td id=\"T_56b5a_row7_col5\" class=\"data row7 col5\" >0.205246</td>\n",
       "      <td id=\"T_56b5a_row7_col6\" class=\"data row7 col6\" >-0.747881</td>\n",
       "      <td id=\"T_56b5a_row7_col7\" class=\"data row7 col7\" >1.000000</td>\n",
       "      <td id=\"T_56b5a_row7_col8\" class=\"data row7 col8\" >-0.494588</td>\n",
       "      <td id=\"T_56b5a_row7_col9\" class=\"data row7 col9\" >-0.534432</td>\n",
       "      <td id=\"T_56b5a_row7_col10\" class=\"data row7 col10\" >-0.232471</td>\n",
       "      <td id=\"T_56b5a_row7_col11\" class=\"data row7 col11\" >-0.496996</td>\n",
       "    </tr>\n",
       "    <tr>\n",
       "      <th id=\"T_56b5a_level0_row8\" class=\"row_heading level0 row8\" >8</th>\n",
       "      <td id=\"T_56b5a_row8_col0\" class=\"data row8 col0\" >0.625505</td>\n",
       "      <td id=\"T_56b5a_row8_col1\" class=\"data row8 col1\" >-0.311948</td>\n",
       "      <td id=\"T_56b5a_row8_col2\" class=\"data row8 col2\" >0.595129</td>\n",
       "      <td id=\"T_56b5a_row8_col3\" class=\"data row8 col3\" >-0.007368</td>\n",
       "      <td id=\"T_56b5a_row8_col4\" class=\"data row8 col4\" >0.611441</td>\n",
       "      <td id=\"T_56b5a_row8_col5\" class=\"data row8 col5\" >-0.209847</td>\n",
       "      <td id=\"T_56b5a_row8_col6\" class=\"data row8 col6\" >0.456022</td>\n",
       "      <td id=\"T_56b5a_row8_col7\" class=\"data row8 col7\" >-0.494588</td>\n",
       "      <td id=\"T_56b5a_row8_col8\" class=\"data row8 col8\" >1.000000</td>\n",
       "      <td id=\"T_56b5a_row8_col9\" class=\"data row8 col9\" >0.910228</td>\n",
       "      <td id=\"T_56b5a_row8_col10\" class=\"data row8 col10\" >0.464741</td>\n",
       "      <td id=\"T_56b5a_row8_col11\" class=\"data row8 col11\" >0.488676</td>\n",
       "    </tr>\n",
       "    <tr>\n",
       "      <th id=\"T_56b5a_level0_row9\" class=\"row_heading level0 row9\" >9</th>\n",
       "      <td id=\"T_56b5a_row9_col0\" class=\"data row9 col0\" >0.582764</td>\n",
       "      <td id=\"T_56b5a_row9_col1\" class=\"data row9 col1\" >-0.314563</td>\n",
       "      <td id=\"T_56b5a_row9_col2\" class=\"data row9 col2\" >0.720760</td>\n",
       "      <td id=\"T_56b5a_row9_col3\" class=\"data row9 col3\" >-0.035587</td>\n",
       "      <td id=\"T_56b5a_row9_col4\" class=\"data row9 col4\" >0.668023</td>\n",
       "      <td id=\"T_56b5a_row9_col5\" class=\"data row9 col5\" >-0.292048</td>\n",
       "      <td id=\"T_56b5a_row9_col6\" class=\"data row9 col6\" >0.506456</td>\n",
       "      <td id=\"T_56b5a_row9_col7\" class=\"data row9 col7\" >-0.534432</td>\n",
       "      <td id=\"T_56b5a_row9_col8\" class=\"data row9 col8\" >0.910228</td>\n",
       "      <td id=\"T_56b5a_row9_col9\" class=\"data row9 col9\" >1.000000</td>\n",
       "      <td id=\"T_56b5a_row9_col10\" class=\"data row9 col10\" >0.460853</td>\n",
       "      <td id=\"T_56b5a_row9_col11\" class=\"data row9 col11\" >0.543993</td>\n",
       "    </tr>\n",
       "    <tr>\n",
       "      <th id=\"T_56b5a_level0_row10\" class=\"row_heading level0 row10\" >10</th>\n",
       "      <td id=\"T_56b5a_row10_col0\" class=\"data row10 col0\" >0.289946</td>\n",
       "      <td id=\"T_56b5a_row10_col1\" class=\"data row10 col1\" >-0.391679</td>\n",
       "      <td id=\"T_56b5a_row10_col2\" class=\"data row10 col2\" >0.383248</td>\n",
       "      <td id=\"T_56b5a_row10_col3\" class=\"data row10 col3\" >-0.121515</td>\n",
       "      <td id=\"T_56b5a_row10_col4\" class=\"data row10 col4\" >0.188933</td>\n",
       "      <td id=\"T_56b5a_row10_col5\" class=\"data row10 col5\" >-0.355501</td>\n",
       "      <td id=\"T_56b5a_row10_col6\" class=\"data row10 col6\" >0.261515</td>\n",
       "      <td id=\"T_56b5a_row10_col7\" class=\"data row10 col7\" >-0.232471</td>\n",
       "      <td id=\"T_56b5a_row10_col8\" class=\"data row10 col8\" >0.464741</td>\n",
       "      <td id=\"T_56b5a_row10_col9\" class=\"data row10 col9\" >0.460853</td>\n",
       "      <td id=\"T_56b5a_row10_col10\" class=\"data row10 col10\" >1.000000</td>\n",
       "      <td id=\"T_56b5a_row10_col11\" class=\"data row10 col11\" >0.374044</td>\n",
       "    </tr>\n",
       "    <tr>\n",
       "      <th id=\"T_56b5a_level0_row11\" class=\"row_heading level0 row11\" >11</th>\n",
       "      <td id=\"T_56b5a_row11_col0\" class=\"data row11 col0\" >0.455621</td>\n",
       "      <td id=\"T_56b5a_row11_col1\" class=\"data row11 col1\" >-0.412995</td>\n",
       "      <td id=\"T_56b5a_row11_col2\" class=\"data row11 col2\" >0.603800</td>\n",
       "      <td id=\"T_56b5a_row11_col3\" class=\"data row11 col3\" >-0.053929</td>\n",
       "      <td id=\"T_56b5a_row11_col4\" class=\"data row11 col4\" >0.590879</td>\n",
       "      <td id=\"T_56b5a_row11_col5\" class=\"data row11 col5\" >-0.613808</td>\n",
       "      <td id=\"T_56b5a_row11_col6\" class=\"data row11 col6\" >0.602339</td>\n",
       "      <td id=\"T_56b5a_row11_col7\" class=\"data row11 col7\" >-0.496996</td>\n",
       "      <td id=\"T_56b5a_row11_col8\" class=\"data row11 col8\" >0.488676</td>\n",
       "      <td id=\"T_56b5a_row11_col9\" class=\"data row11 col9\" >0.543993</td>\n",
       "      <td id=\"T_56b5a_row11_col10\" class=\"data row11 col10\" >0.374044</td>\n",
       "      <td id=\"T_56b5a_row11_col11\" class=\"data row11 col11\" >1.000000</td>\n",
       "    </tr>\n",
       "  </tbody>\n",
       "</table>\n"
      ],
      "text/plain": [
       "<pandas.io.formats.style.Styler at 0x2290dcb33a0>"
      ]
     },
     "execution_count": 126,
     "metadata": {},
     "output_type": "execute_result"
    }
   ],
   "source": [
    "df_X = pd.DataFrame(X)\n",
    "corr = df_X.corr()\n",
    "corr.style.background_gradient(cmap='coolwarm')"
   ]
  },
  {
   "cell_type": "markdown",
   "id": "23e5d5b6",
   "metadata": {},
   "source": [
    "The correlation matrix shows a high correlation (more than 0.9) between feature 8 and 9. Therefore, it is possible that removing feature 9 makes VIF scores of 8 lower. \n",
    "\n",
    "In addition, we will delete feature 2 and 6 (numpy indexing) as it has high p-value. Let us take a look at the model again:"
   ]
  },
  {
   "cell_type": "code",
   "execution_count": 128,
   "id": "d5ecfa68",
   "metadata": {},
   "outputs": [
    {
     "name": "stdout",
     "output_type": "stream",
     "text": [
      "                            OLS Regression Results                            \n",
      "==============================================================================\n",
      "Dep. Variable:                      y   R-squared:                       0.727\n",
      "Model:                            OLS   Adj. R-squared:                  0.722\n",
      "Method:                 Least Squares   F-statistic:                     146.9\n",
      "Date:                Tue, 22 Feb 2022   Prob (F-statistic):          8.23e-134\n",
      "Time:                        22:20:36   Log-Likelihood:                -1511.5\n",
      "No. Observations:                 506   AIC:                             3043.\n",
      "Df Residuals:                     496   BIC:                             3085.\n",
      "Df Model:                           9                                         \n",
      "Covariance Type:            nonrobust                                         \n",
      "==============================================================================\n",
      "                 coef    std err          t      P>|t|      [0.025      0.975]\n",
      "------------------------------------------------------------------------------\n",
      "const         39.9841      4.945      8.085      0.000      30.268      49.700\n",
      "x1            -0.1185      0.033     -3.559      0.000      -0.184      -0.053\n",
      "x2             0.0366      0.014      2.695      0.007       0.010       0.063\n",
      "x3             3.1394      0.870      3.610      0.000       1.431       4.848\n",
      "x4           -21.3757      3.501     -6.106      0.000     -28.254     -14.497\n",
      "x5             3.8506      0.411      9.368      0.000       3.043       4.658\n",
      "x6            -1.4508      0.189     -7.674      0.000      -1.822      -1.079\n",
      "x7             0.1046      0.041      2.569      0.010       0.025       0.185\n",
      "x8            -1.0018      0.130     -7.677      0.000      -1.258      -0.745\n",
      "x9            -0.5535      0.048    -11.537      0.000      -0.648      -0.459\n",
      "==============================================================================\n",
      "Omnibus:                      160.486   Durbin-Watson:                   1.085\n",
      "Prob(Omnibus):                  0.000   Jarque-Bera (JB):              623.744\n",
      "Skew:                           1.400   Prob(JB):                    3.59e-136\n",
      "Kurtosis:                       7.663   Cond. No.                         774.\n",
      "==============================================================================\n",
      "\n",
      "Notes:\n",
      "[1] Standard Errors assume that the covariance matrix of the errors is correctly specified.\n"
     ]
    }
   ],
   "source": [
    "X_clean_v1 = np.delete(X, [2, 6, 9], axis=1)\n",
    "\n",
    "X_sm = sm.add_constant(X_clean_v1)\n",
    "regressor = sm.OLS(y, X_sm) \n",
    "regressor = regressor.fit()\n",
    "\n",
    "print(regressor.summary())"
   ]
  },
  {
   "cell_type": "code",
   "execution_count": 129,
   "id": "db04a18c",
   "metadata": {},
   "outputs": [
    {
     "data": {
      "text/plain": [
       "array([1.76425722, 2.1540511 , 1.04918546, 3.53821529, 1.79323868,\n",
       "       3.40711284, 2.70102654, 1.71583638, 2.52324615])"
      ]
     },
     "execution_count": 129,
     "metadata": {},
     "output_type": "execute_result"
    }
   ],
   "source": [
    "#calculate VIF_scores again after cleaning X\n",
    "VIF_scores = _get_VIF(X_clean_v1)\n",
    "VIF_scores"
   ]
  },
  {
   "cell_type": "code",
   "execution_count": 130,
   "id": "fc71e77b",
   "metadata": {},
   "outputs": [],
   "source": [
    "#now we can see that the accuracy is almost the same. \n",
    "#The reason is that when a feature is not important, its coef is almost zero. And, if there is multi-colinearity, the coef \n",
    "#is being divided among correlated features. \n",
    "\n",
    "#However, removing redundant features can make interpretation easier!"
   ]
  },
  {
   "cell_type": "markdown",
   "id": "e1b5c32e",
   "metadata": {},
   "source": [
    "(9) Add interaction between `lstat` and `age` <br>\n",
    "(here, we are using the unclean version of X, and not the one after removing features with high VPF or high p-value)"
   ]
  },
  {
   "cell_type": "code",
   "execution_count": 133,
   "id": "870a650d",
   "metadata": {},
   "outputs": [
    {
     "data": {
      "text/html": [
       "<div>\n",
       "<style scoped>\n",
       "    .dataframe tbody tr th:only-of-type {\n",
       "        vertical-align: middle;\n",
       "    }\n",
       "\n",
       "    .dataframe tbody tr th {\n",
       "        vertical-align: top;\n",
       "    }\n",
       "\n",
       "    .dataframe thead th {\n",
       "        text-align: right;\n",
       "    }\n",
       "</style>\n",
       "<table border=\"1\" class=\"dataframe\">\n",
       "  <thead>\n",
       "    <tr style=\"text-align: right;\">\n",
       "      <th></th>\n",
       "      <th>crim</th>\n",
       "      <th>zn</th>\n",
       "      <th>indus</th>\n",
       "      <th>chas</th>\n",
       "      <th>nox</th>\n",
       "      <th>rm</th>\n",
       "      <th>age</th>\n",
       "      <th>dis</th>\n",
       "      <th>rad</th>\n",
       "      <th>tax</th>\n",
       "      <th>ptratio</th>\n",
       "      <th>lstat</th>\n",
       "      <th>interation</th>\n",
       "    </tr>\n",
       "  </thead>\n",
       "  <tbody>\n",
       "    <tr>\n",
       "      <th>1</th>\n",
       "      <td>0.00632</td>\n",
       "      <td>18.0</td>\n",
       "      <td>2.31</td>\n",
       "      <td>0</td>\n",
       "      <td>0.538</td>\n",
       "      <td>6.575</td>\n",
       "      <td>65.2</td>\n",
       "      <td>4.0900</td>\n",
       "      <td>1</td>\n",
       "      <td>296</td>\n",
       "      <td>15.3</td>\n",
       "      <td>4.98</td>\n",
       "      <td>324.696</td>\n",
       "    </tr>\n",
       "    <tr>\n",
       "      <th>2</th>\n",
       "      <td>0.02731</td>\n",
       "      <td>0.0</td>\n",
       "      <td>7.07</td>\n",
       "      <td>0</td>\n",
       "      <td>0.469</td>\n",
       "      <td>6.421</td>\n",
       "      <td>78.9</td>\n",
       "      <td>4.9671</td>\n",
       "      <td>2</td>\n",
       "      <td>242</td>\n",
       "      <td>17.8</td>\n",
       "      <td>9.14</td>\n",
       "      <td>721.146</td>\n",
       "    </tr>\n",
       "    <tr>\n",
       "      <th>3</th>\n",
       "      <td>0.02729</td>\n",
       "      <td>0.0</td>\n",
       "      <td>7.07</td>\n",
       "      <td>0</td>\n",
       "      <td>0.469</td>\n",
       "      <td>7.185</td>\n",
       "      <td>61.1</td>\n",
       "      <td>4.9671</td>\n",
       "      <td>2</td>\n",
       "      <td>242</td>\n",
       "      <td>17.8</td>\n",
       "      <td>4.03</td>\n",
       "      <td>246.233</td>\n",
       "    </tr>\n",
       "    <tr>\n",
       "      <th>4</th>\n",
       "      <td>0.03237</td>\n",
       "      <td>0.0</td>\n",
       "      <td>2.18</td>\n",
       "      <td>0</td>\n",
       "      <td>0.458</td>\n",
       "      <td>6.998</td>\n",
       "      <td>45.8</td>\n",
       "      <td>6.0622</td>\n",
       "      <td>3</td>\n",
       "      <td>222</td>\n",
       "      <td>18.7</td>\n",
       "      <td>2.94</td>\n",
       "      <td>134.652</td>\n",
       "    </tr>\n",
       "    <tr>\n",
       "      <th>5</th>\n",
       "      <td>0.06905</td>\n",
       "      <td>0.0</td>\n",
       "      <td>2.18</td>\n",
       "      <td>0</td>\n",
       "      <td>0.458</td>\n",
       "      <td>7.147</td>\n",
       "      <td>54.2</td>\n",
       "      <td>6.0622</td>\n",
       "      <td>3</td>\n",
       "      <td>222</td>\n",
       "      <td>18.7</td>\n",
       "      <td>5.33</td>\n",
       "      <td>288.886</td>\n",
       "    </tr>\n",
       "    <tr>\n",
       "      <th>...</th>\n",
       "      <td>...</td>\n",
       "      <td>...</td>\n",
       "      <td>...</td>\n",
       "      <td>...</td>\n",
       "      <td>...</td>\n",
       "      <td>...</td>\n",
       "      <td>...</td>\n",
       "      <td>...</td>\n",
       "      <td>...</td>\n",
       "      <td>...</td>\n",
       "      <td>...</td>\n",
       "      <td>...</td>\n",
       "      <td>...</td>\n",
       "    </tr>\n",
       "    <tr>\n",
       "      <th>502</th>\n",
       "      <td>0.06263</td>\n",
       "      <td>0.0</td>\n",
       "      <td>11.93</td>\n",
       "      <td>0</td>\n",
       "      <td>0.573</td>\n",
       "      <td>6.593</td>\n",
       "      <td>69.1</td>\n",
       "      <td>2.4786</td>\n",
       "      <td>1</td>\n",
       "      <td>273</td>\n",
       "      <td>21.0</td>\n",
       "      <td>9.67</td>\n",
       "      <td>668.197</td>\n",
       "    </tr>\n",
       "    <tr>\n",
       "      <th>503</th>\n",
       "      <td>0.04527</td>\n",
       "      <td>0.0</td>\n",
       "      <td>11.93</td>\n",
       "      <td>0</td>\n",
       "      <td>0.573</td>\n",
       "      <td>6.120</td>\n",
       "      <td>76.7</td>\n",
       "      <td>2.2875</td>\n",
       "      <td>1</td>\n",
       "      <td>273</td>\n",
       "      <td>21.0</td>\n",
       "      <td>9.08</td>\n",
       "      <td>696.436</td>\n",
       "    </tr>\n",
       "    <tr>\n",
       "      <th>504</th>\n",
       "      <td>0.06076</td>\n",
       "      <td>0.0</td>\n",
       "      <td>11.93</td>\n",
       "      <td>0</td>\n",
       "      <td>0.573</td>\n",
       "      <td>6.976</td>\n",
       "      <td>91.0</td>\n",
       "      <td>2.1675</td>\n",
       "      <td>1</td>\n",
       "      <td>273</td>\n",
       "      <td>21.0</td>\n",
       "      <td>5.64</td>\n",
       "      <td>513.240</td>\n",
       "    </tr>\n",
       "    <tr>\n",
       "      <th>505</th>\n",
       "      <td>0.10959</td>\n",
       "      <td>0.0</td>\n",
       "      <td>11.93</td>\n",
       "      <td>0</td>\n",
       "      <td>0.573</td>\n",
       "      <td>6.794</td>\n",
       "      <td>89.3</td>\n",
       "      <td>2.3889</td>\n",
       "      <td>1</td>\n",
       "      <td>273</td>\n",
       "      <td>21.0</td>\n",
       "      <td>6.48</td>\n",
       "      <td>578.664</td>\n",
       "    </tr>\n",
       "    <tr>\n",
       "      <th>506</th>\n",
       "      <td>0.04741</td>\n",
       "      <td>0.0</td>\n",
       "      <td>11.93</td>\n",
       "      <td>0</td>\n",
       "      <td>0.573</td>\n",
       "      <td>6.030</td>\n",
       "      <td>80.8</td>\n",
       "      <td>2.5050</td>\n",
       "      <td>1</td>\n",
       "      <td>273</td>\n",
       "      <td>21.0</td>\n",
       "      <td>7.88</td>\n",
       "      <td>636.704</td>\n",
       "    </tr>\n",
       "  </tbody>\n",
       "</table>\n",
       "<p>506 rows × 13 columns</p>\n",
       "</div>"
      ],
      "text/plain": [
       "        crim    zn  indus  chas    nox     rm   age     dis  rad  tax  \\\n",
       "1    0.00632  18.0   2.31     0  0.538  6.575  65.2  4.0900    1  296   \n",
       "2    0.02731   0.0   7.07     0  0.469  6.421  78.9  4.9671    2  242   \n",
       "3    0.02729   0.0   7.07     0  0.469  7.185  61.1  4.9671    2  242   \n",
       "4    0.03237   0.0   2.18     0  0.458  6.998  45.8  6.0622    3  222   \n",
       "5    0.06905   0.0   2.18     0  0.458  7.147  54.2  6.0622    3  222   \n",
       "..       ...   ...    ...   ...    ...    ...   ...     ...  ...  ...   \n",
       "502  0.06263   0.0  11.93     0  0.573  6.593  69.1  2.4786    1  273   \n",
       "503  0.04527   0.0  11.93     0  0.573  6.120  76.7  2.2875    1  273   \n",
       "504  0.06076   0.0  11.93     0  0.573  6.976  91.0  2.1675    1  273   \n",
       "505  0.10959   0.0  11.93     0  0.573  6.794  89.3  2.3889    1  273   \n",
       "506  0.04741   0.0  11.93     0  0.573  6.030  80.8  2.5050    1  273   \n",
       "\n",
       "     ptratio  lstat  interation  \n",
       "1       15.3   4.98     324.696  \n",
       "2       17.8   9.14     721.146  \n",
       "3       17.8   4.03     246.233  \n",
       "4       18.7   2.94     134.652  \n",
       "5       18.7   5.33     288.886  \n",
       "..       ...    ...         ...  \n",
       "502     21.0   9.67     668.197  \n",
       "503     21.0   9.08     696.436  \n",
       "504     21.0   5.64     513.240  \n",
       "505     21.0   6.48     578.664  \n",
       "506     21.0   7.88     636.704  \n",
       "\n",
       "[506 rows x 13 columns]"
      ]
     },
     "execution_count": 133,
     "metadata": {},
     "output_type": "execute_result"
    }
   ],
   "source": [
    "X_df = df.iloc[:,:-1]\n",
    "y_df = df.iloc[:,-1]\n",
    "\n",
    "X_df['interation'] = X_df['age'] * X_df['lstat']\n",
    "X_df"
   ]
  },
  {
   "cell_type": "code",
   "execution_count": 136,
   "id": "dc2ac175",
   "metadata": {},
   "outputs": [
    {
     "name": "stdout",
     "output_type": "stream",
     "text": [
      "                            OLS Regression Results                            \n",
      "==============================================================================\n",
      "Dep. Variable:                      y   R-squared:                       0.728\n",
      "Model:                            OLS   Adj. R-squared:                  0.722\n",
      "Method:                 Least Squares   F-statistic:                     132.2\n",
      "Date:                Tue, 22 Feb 2022   Prob (F-statistic):          7.69e-133\n",
      "Time:                        22:33:51   Log-Likelihood:                -1511.2\n",
      "No. Observations:                 506   AIC:                             3044.\n",
      "Df Residuals:                     495   BIC:                             3091.\n",
      "Df Model:                          10                                         \n",
      "Covariance Type:            nonrobust                                         \n",
      "==============================================================================\n",
      "                 coef    std err          t      P>|t|      [0.025      0.975]\n",
      "------------------------------------------------------------------------------\n",
      "const         41.1792      5.189      7.936      0.000      30.985      51.374\n",
      "x1            -0.1208      0.033     -3.611      0.000      -0.187      -0.055\n",
      "x2             0.0352      0.014      2.574      0.010       0.008       0.062\n",
      "x3             3.1276      0.870      3.594      0.000       1.418       4.837\n",
      "x4           -22.1390      3.642     -6.079      0.000     -29.295     -14.983\n",
      "x5             3.7727      0.424      8.905      0.000       2.940       4.605\n",
      "x6            -1.4165      0.194     -7.287      0.000      -1.798      -1.035\n",
      "x7             0.1079      0.041      2.634      0.009       0.027       0.188\n",
      "x8            -1.0122      0.131     -7.711      0.000      -1.270      -0.754\n",
      "x9            -0.6372      0.120     -5.324      0.000      -0.872      -0.402\n",
      "x10            0.0008      0.001      0.764      0.445      -0.001       0.003\n",
      "==============================================================================\n",
      "Omnibus:                      159.161   Durbin-Watson:                   1.094\n",
      "Prob(Omnibus):                  0.000   Jarque-Bera (JB):              608.497\n",
      "Skew:                           1.394   Prob(JB):                    7.35e-133\n",
      "Kurtosis:                       7.592   Cond. No.                     3.43e+04\n",
      "==============================================================================\n",
      "\n",
      "Notes:\n",
      "[1] Standard Errors assume that the covariance matrix of the errors is correctly specified.\n",
      "[2] The condition number is large, 3.43e+04. This might indicate that there are\n",
      "strong multicollinearity or other numerical problems.\n"
     ]
    }
   ],
   "source": [
    "X = X_df.to_numpy()\n",
    "y = y_df.to_numpy()\n",
    "\n",
    "\n",
    "#clean it\n",
    "X_clean_v1 = np.delete(X, [2, 6, 9], axis=1)\n",
    "\n",
    "#let us see the result:\n",
    "X_sm = sm.add_constant(X_clean_v1)\n",
    "\n",
    "regressor = sm.OLS(y, X_sm) \n",
    "regressor = regressor.fit()\n",
    "\n",
    "print(regressor.summary())\n"
   ]
  },
  {
   "cell_type": "markdown",
   "id": "f44421ec",
   "metadata": {},
   "source": [
    "Did we see any difference in R_squared score? No. That means there might be no interaction between the features `age` and `lstat` (or should we scale data first?!?)"
   ]
  },
  {
   "cell_type": "markdown",
   "id": "c6c2cf17",
   "metadata": {},
   "source": [
    "(10) Recall that the relationship between y and `lstat` was not linear, and it was quadratic-ish! So, let us apply regression while considering $X^{2}$ feature:"
   ]
  },
  {
   "cell_type": "code",
   "execution_count": 143,
   "id": "c93e84df",
   "metadata": {},
   "outputs": [],
   "source": [
    "X = df['lstat'].to_numpy()\n",
    "y = df.iloc[:,-1].to_numpy()"
   ]
  },
  {
   "cell_type": "code",
   "execution_count": 144,
   "id": "bdb38ad0",
   "metadata": {},
   "outputs": [
    {
     "data": {
      "text/plain": [
       "array([[ 1.    ,  4.98  , 24.8004],\n",
       "       [ 1.    ,  9.14  , 83.5396],\n",
       "       [ 1.    ,  4.03  , 16.2409],\n",
       "       ...,\n",
       "       [ 1.    ,  5.64  , 31.8096],\n",
       "       [ 1.    ,  6.48  , 41.9904],\n",
       "       [ 1.    ,  7.88  , 62.0944]])"
      ]
     },
     "execution_count": 144,
     "metadata": {},
     "output_type": "execute_result"
    }
   ],
   "source": [
    "from sklearn.preprocessing import PolynomialFeatures\n",
    "X_poly = PolynomialFeatures(degree=2).fit_transform(X.reshape(-1,1))\n",
    "X_poly"
   ]
  },
  {
   "cell_type": "code",
   "execution_count": 145,
   "id": "c582d0f4",
   "metadata": {},
   "outputs": [
    {
     "name": "stdout",
     "output_type": "stream",
     "text": [
      "                            OLS Regression Results                            \n",
      "==============================================================================\n",
      "Dep. Variable:                      y   R-squared:                       0.641\n",
      "Model:                            OLS   Adj. R-squared:                  0.639\n",
      "Method:                 Least Squares   F-statistic:                     448.5\n",
      "Date:                Tue, 22 Feb 2022   Prob (F-statistic):          1.56e-112\n",
      "Time:                        23:10:50   Log-Likelihood:                -1581.3\n",
      "No. Observations:                 506   AIC:                             3169.\n",
      "Df Residuals:                     503   BIC:                             3181.\n",
      "Df Model:                           2                                         \n",
      "Covariance Type:            nonrobust                                         \n",
      "==============================================================================\n",
      "                 coef    std err          t      P>|t|      [0.025      0.975]\n",
      "------------------------------------------------------------------------------\n",
      "const         42.8620      0.872     49.149      0.000      41.149      44.575\n",
      "x1            -2.3328      0.124    -18.843      0.000      -2.576      -2.090\n",
      "x2             0.0435      0.004     11.628      0.000       0.036       0.051\n",
      "==============================================================================\n",
      "Omnibus:                      107.006   Durbin-Watson:                   0.921\n",
      "Prob(Omnibus):                  0.000   Jarque-Bera (JB):              228.388\n",
      "Skew:                           1.128   Prob(JB):                     2.55e-50\n",
      "Kurtosis:                       5.397   Cond. No.                     1.13e+03\n",
      "==============================================================================\n",
      "\n",
      "Notes:\n",
      "[1] Standard Errors assume that the covariance matrix of the errors is correctly specified.\n",
      "[2] The condition number is large, 1.13e+03. This might indicate that there are\n",
      "strong multicollinearity or other numerical problems.\n"
     ]
    }
   ],
   "source": [
    "regressor = sm.OLS(y, X_poly) \n",
    "regressor = regressor.fit()\n",
    "\n",
    "print(regressor.summary())"
   ]
  },
  {
   "cell_type": "markdown",
   "id": "12f0c276",
   "metadata": {},
   "source": [
    "**Remarks:** <br>\n",
    "* The p-value are all close to zero, which suggest the features are related to response variable. <br>\n",
    "* the R-squared value is increased by ~20%. "
   ]
  },
  {
   "cell_type": "code",
   "execution_count": 148,
   "id": "9eb9799f",
   "metadata": {},
   "outputs": [
    {
     "data": {
      "image/png": "[encoded data removed]",
      "text/plain": [
       "<Figure size 432x288 with 1 Axes>"
      ]
     },
     "metadata": {
      "needs_background": "light"
     },
     "output_type": "display_data"
    }
   ],
   "source": [
    "#let us plot it again....\n",
    "\n",
    "plt.scatter(X, y, color='b', label='data')\n",
    "plt.scatter(X, regressor.predict(X_poly), color='r', label='fitted model')\n",
    "\n",
    "plt.xlabel('feature: lstat')\n",
    "plt.ylabel('response variable')\n",
    "\n",
    "plt.legend()\n",
    "plt.show()"
   ]
  },
  {
   "cell_type": "code",
   "execution_count": 149,
   "id": "3dac587c",
   "metadata": {},
   "outputs": [],
   "source": [
    "#let us calculate VIF scores:"
   ]
  },
  {
   "cell_type": "code",
   "execution_count": 150,
   "id": "ff1a29da",
   "metadata": {},
   "outputs": [
    {
     "data": {
      "text/plain": [
       "array([12.93656618, 12.93656618])"
      ]
     },
     "execution_count": 150,
     "metadata": {},
     "output_type": "execute_result"
    }
   ],
   "source": [
    "_get_VIF(X_poly[:,1:])"
   ]
  },
  {
   "cell_type": "markdown",
   "id": "f452b809",
   "metadata": {},
   "source": [
    "Now we can see VIF score is even more than 10; however, we noticed an increas in R-squared value after adding X^2; \n",
    "\n",
    "The question is: should we trust VIF and always remove a feature with high VIF? Ok, let us drop original feature and just keep its squared version:"
   ]
  },
  {
   "cell_type": "code",
   "execution_count": 151,
   "id": "36af0344",
   "metadata": {},
   "outputs": [
    {
     "name": "stdout",
     "output_type": "stream",
     "text": [
      "                            OLS Regression Results                            \n",
      "==============================================================================\n",
      "Dep. Variable:                      y   R-squared:                       0.387\n",
      "Model:                            OLS   Adj. R-squared:                  0.386\n",
      "Method:                 Least Squares   F-statistic:                     318.3\n",
      "Date:                Tue, 22 Feb 2022   Prob (F-statistic):           1.50e-55\n",
      "Time:                        23:19:15   Log-Likelihood:                -1716.4\n",
      "No. Observations:                 506   AIC:                             3437.\n",
      "Df Residuals:                     504   BIC:                             3445.\n",
      "Df Model:                           1                                         \n",
      "Covariance Type:            nonrobust                                         \n",
      "==============================================================================\n",
      "                 coef    std err          t      P>|t|      [0.025      0.975]\n",
      "------------------------------------------------------------------------------\n",
      "const         27.6474      0.430     64.308      0.000      26.803      28.492\n",
      "x1            -0.0242      0.001    -17.842      0.000      -0.027      -0.022\n",
      "==============================================================================\n",
      "Omnibus:                      148.413   Durbin-Watson:                   0.848\n",
      "Prob(Omnibus):                  0.000   Jarque-Bera (JB):              323.708\n",
      "Skew:                           1.568   Prob(JB):                     5.10e-71\n",
      "Kurtosis:                       5.349   Cond. No.                         425.\n",
      "==============================================================================\n",
      "\n",
      "Notes:\n",
      "[1] Standard Errors assume that the covariance matrix of the errors is correctly specified.\n"
     ]
    }
   ],
   "source": [
    "regressor = sm.OLS(y, X_poly[:,[0,2]]) #here we are skipping [:,1] as that corresponds to original feature \n",
    "regressor = regressor.fit()\n",
    "\n",
    "print(regressor.summary())"
   ]
  },
  {
   "cell_type": "markdown",
   "id": "9fffa47a",
   "metadata": {},
   "source": [
    "**now, we can see that we should have kepts the original feature. So, if that is the case, how should we treat feature with high VIF value? should they be ignored? (we just saw that such consideration does not work)... ???**"
   ]
  },
  {
   "cell_type": "markdown",
   "id": "fdaefd70",
   "metadata": {},
   "source": [
    "**possible solution (needs further explanation)** <br>\n",
    "link: [stackoverflow](https://stats.stackexchange.com/questions/23538/quadratic-term-and-variance-inflation-factor-in-ols-estimation) <br>\n",
    "\n",
    "Collinearity only affects variance estimates of your parameters. You can avoid collinearity by data transformation. Let's do it:"
   ]
  },
  {
   "cell_type": "code",
   "execution_count": 152,
   "id": "a1569e79",
   "metadata": {},
   "outputs": [
    {
     "name": "stdout",
     "output_type": "stream",
     "text": [
      "                            OLS Regression Results                            \n",
      "==============================================================================\n",
      "Dep. Variable:                      y   R-squared:                       0.641\n",
      "Model:                            OLS   Adj. R-squared:                  0.639\n",
      "Method:                 Least Squares   F-statistic:                     448.5\n",
      "Date:                Tue, 22 Feb 2022   Prob (F-statistic):          1.56e-112\n",
      "Time:                        23:34:55   Log-Likelihood:                -1581.3\n",
      "No. Observations:                 506   AIC:                             3169.\n",
      "Df Residuals:                     503   BIC:                             3181.\n",
      "Df Model:                           2                                         \n",
      "Covariance Type:            nonrobust                                         \n",
      "==============================================================================\n",
      "                 coef    std err          t      P>|t|      [0.025      0.975]\n",
      "------------------------------------------------------------------------------\n",
      "const         20.3165      0.311     65.357      0.000      19.706      20.927\n",
      "x1            -8.7807      0.300    -29.273      0.000      -9.370      -8.191\n",
      "x2             2.2163      0.191     11.628      0.000       1.842       2.591\n",
      "==============================================================================\n",
      "Omnibus:                      107.006   Durbin-Watson:                   0.921\n",
      "Prob(Omnibus):                  0.000   Jarque-Bera (JB):              228.388\n",
      "Skew:                           1.128   Prob(JB):                     2.55e-50\n",
      "Kurtosis:                       5.397   Cond. No.                         3.16\n",
      "==============================================================================\n",
      "\n",
      "Notes:\n",
      "[1] Standard Errors assume that the covariance matrix of the errors is correctly specified.\n"
     ]
    }
   ],
   "source": [
    "X = df['lstat'].to_numpy()\n",
    "y = df.iloc[:,-1].to_numpy()\n",
    "\n",
    "X_scaled = StandardScaler().fit_transform(X.reshape(-1,1))\n",
    "X_poly = PolynomialFeatures(degree=2).fit_transform(X_scaled)\n",
    "\n",
    "regressor = sm.OLS(y, X_poly)\n",
    "regressor = regressor.fit()\n",
    "\n",
    "print(regressor.summary())"
   ]
  },
  {
   "cell_type": "code",
   "execution_count": 153,
   "id": "cdc738c1",
   "metadata": {},
   "outputs": [
    {
     "data": {
      "text/plain": [
       "array([1.49212526, 1.49212526])"
      ]
     },
     "execution_count": 153,
     "metadata": {},
     "output_type": "execute_result"
    }
   ],
   "source": [
    "_get_VIF(X_poly[:,1:])"
   ]
  },
  {
   "cell_type": "markdown",
   "id": "a80812c8",
   "metadata": {},
   "source": [
    "**NOTE:** now we can see the VIF values are low. So, we recommend to scale your data even in linear regression!Because, it makes sense to have low VIF values (Feel free to go back and review the previous questions and try to scale X first)"
   ]
  },
  {
   "cell_type": "markdown",
   "id": "cd02ab3c",
   "metadata": {},
   "source": [
    "(11) Handling categorical feature"
   ]
  },
  {
   "cell_type": "code",
   "execution_count": 157,
   "id": "f861ae82",
   "metadata": {},
   "outputs": [
    {
     "data": {
      "text/html": [
       "<div>\n",
       "<style scoped>\n",
       "    .dataframe tbody tr th:only-of-type {\n",
       "        vertical-align: middle;\n",
       "    }\n",
       "\n",
       "    .dataframe tbody tr th {\n",
       "        vertical-align: top;\n",
       "    }\n",
       "\n",
       "    .dataframe thead th {\n",
       "        text-align: right;\n",
       "    }\n",
       "</style>\n",
       "<table border=\"1\" class=\"dataframe\">\n",
       "  <thead>\n",
       "    <tr style=\"text-align: right;\">\n",
       "      <th></th>\n",
       "      <th>Sales</th>\n",
       "      <th>CompPrice</th>\n",
       "      <th>Income</th>\n",
       "      <th>Advertising</th>\n",
       "      <th>Population</th>\n",
       "      <th>Price</th>\n",
       "      <th>ShelveLoc</th>\n",
       "      <th>Age</th>\n",
       "      <th>Education</th>\n",
       "      <th>Urban</th>\n",
       "      <th>US</th>\n",
       "    </tr>\n",
       "  </thead>\n",
       "  <tbody>\n",
       "    <tr>\n",
       "      <th>1</th>\n",
       "      <td>9.50</td>\n",
       "      <td>138</td>\n",
       "      <td>73</td>\n",
       "      <td>11</td>\n",
       "      <td>276</td>\n",
       "      <td>120</td>\n",
       "      <td>Bad</td>\n",
       "      <td>42</td>\n",
       "      <td>17</td>\n",
       "      <td>Yes</td>\n",
       "      <td>Yes</td>\n",
       "    </tr>\n",
       "    <tr>\n",
       "      <th>2</th>\n",
       "      <td>11.22</td>\n",
       "      <td>111</td>\n",
       "      <td>48</td>\n",
       "      <td>16</td>\n",
       "      <td>260</td>\n",
       "      <td>83</td>\n",
       "      <td>Good</td>\n",
       "      <td>65</td>\n",
       "      <td>10</td>\n",
       "      <td>Yes</td>\n",
       "      <td>Yes</td>\n",
       "    </tr>\n",
       "    <tr>\n",
       "      <th>3</th>\n",
       "      <td>10.06</td>\n",
       "      <td>113</td>\n",
       "      <td>35</td>\n",
       "      <td>10</td>\n",
       "      <td>269</td>\n",
       "      <td>80</td>\n",
       "      <td>Medium</td>\n",
       "      <td>59</td>\n",
       "      <td>12</td>\n",
       "      <td>Yes</td>\n",
       "      <td>Yes</td>\n",
       "    </tr>\n",
       "  </tbody>\n",
       "</table>\n",
       "</div>"
      ],
      "text/plain": [
       "   Sales  CompPrice  Income  Advertising  Population  Price ShelveLoc  Age  \\\n",
       "1   9.50        138      73           11         276    120       Bad   42   \n",
       "2  11.22        111      48           16         260     83      Good   65   \n",
       "3  10.06        113      35           10         269     80    Medium   59   \n",
       "\n",
       "   Education Urban   US  \n",
       "1         17   Yes  Yes  \n",
       "2         10   Yes  Yes  \n",
       "3         12   Yes  Yes  "
      ]
     },
     "execution_count": 157,
     "metadata": {},
     "output_type": "execute_result"
    }
   ],
   "source": [
    "df = pd.read_csv('./datasets/Carseats.csv', index_col = 0)\n",
    "df.head(3)"
   ]
  },
  {
   "cell_type": "code",
   "execution_count": 160,
   "id": "1642128c",
   "metadata": {},
   "outputs": [
    {
     "data": {
      "text/plain": [
       "array([[<AxesSubplot:title={'center':'Sales'}>,\n",
       "        <AxesSubplot:title={'center':'CompPrice'}>,\n",
       "        <AxesSubplot:title={'center':'Income'}>],\n",
       "       [<AxesSubplot:title={'center':'Advertising'}>,\n",
       "        <AxesSubplot:title={'center':'Population'}>,\n",
       "        <AxesSubplot:title={'center':'Price'}>],\n",
       "       [<AxesSubplot:title={'center':'Age'}>,\n",
       "        <AxesSubplot:title={'center':'Education'}>, <AxesSubplot:>]],\n",
       "      dtype=object)"
      ]
     },
     "execution_count": 160,
     "metadata": {},
     "output_type": "execute_result"
    },
    {
     "data": {
      "image/png": "[encoded data removed]",
      "text/plain": [
       "<Figure size 720x720 with 9 Axes>"
      ]
     },
     "metadata": {
      "needs_background": "light"
     },
     "output_type": "display_data"
    }
   ],
   "source": [
    "#let us take a quick look at distribution of features\n",
    "df.hist(figsize=(10,10))"
   ]
  },
  {
   "cell_type": "code",
   "execution_count": 162,
   "id": "f35d22df",
   "metadata": {},
   "outputs": [
    {
     "data": {
      "text/plain": [
       "['US', 'Urban', 'ShelveLoc']"
      ]
     },
     "execution_count": 162,
     "metadata": {},
     "output_type": "execute_result"
    }
   ],
   "source": [
    "#how about the categorical features ShelveLoc, 'Urban',and 'US'?\n",
    "cat_features = list(set(df.columns) - set(df._get_numeric_data()))\n",
    "cat_features"
   ]
  },
  {
   "cell_type": "code",
   "execution_count": 180,
   "id": "ec7cfbd4",
   "metadata": {},
   "outputs": [
    {
     "data": {
      "image/png": "[encoded data removed]",
      "text/plain": [
       "<Figure size 432x288 with 1 Axes>"
      ]
     },
     "metadata": {
      "needs_background": "light"
     },
     "output_type": "display_data"
    },
    {
     "data": {
      "image/png": "[encoded data removed]",
      "text/plain": [
       "<Figure size 432x288 with 1 Axes>"
      ]
     },
     "metadata": {
      "needs_background": "light"
     },
     "output_type": "display_data"
    },
    {
     "data": {
      "image/png": "[encoded data removed]",
      "text/plain": [
       "<Figure size 432x288 with 1 Axes>"
      ]
     },
     "metadata": {
      "needs_background": "light"
     },
     "output_type": "display_data"
    }
   ],
   "source": [
    "from collections import Counter\n",
    "\n",
    "for feature in cat_features:\n",
    "    tags_counts = Counter(df[feature])\n",
    "    \n",
    "    plt.bar(list(tags_counts.keys()), tags_counts.values())\n",
    "    plt.show()"
   ]
  },
  {
   "cell_type": "code",
   "execution_count": null,
   "id": "2fd0eb9c",
   "metadata": {},
   "outputs": [],
   "source": []
  },
  {
   "cell_type": "code",
   "execution_count": 207,
   "id": "abd34f42",
   "metadata": {},
   "outputs": [
    {
     "data": {
      "text/plain": [
       "array([[  0.,   1.,   0., ..., 120.,  42.,  17.],\n",
       "       [  0.,   1.,   0., ...,  83.,  65.,  10.],\n",
       "       [  0.,   1.,   0., ...,  80.,  59.,  12.],\n",
       "       ...,\n",
       "       [  0.,   1.,   0., ..., 159.,  40.,  18.],\n",
       "       [  0.,   1.,   0., ...,  95.,  50.,  12.],\n",
       "       [  0.,   1.,   0., ..., 120.,  49.,  16.]])"
      ]
     },
     "execution_count": 207,
     "metadata": {},
     "output_type": "execute_result"
    }
   ],
   "source": [
    "#now let us use one-hot-encoding before applying linear regression\n",
    "from sklearn.compose import ColumnTransformer\n",
    "from sklearn.preprocessing import OneHotEncoder\n",
    "\n",
    "\n",
    "ct = ColumnTransformer([('ohe', OneHotEncoder(),cat_features)], remainder='passthrough')\n",
    "X = ct.fit_transform(df.iloc[:,1:]) #note that the first column of df is actually the response variable\n",
    "X"
   ]
  },
  {
   "cell_type": "code",
   "execution_count": 208,
   "id": "eeed07fe",
   "metadata": {},
   "outputs": [
    {
     "data": {
      "text/plain": [
       "array(['ohe__US_No', 'ohe__US_Yes', 'ohe__Urban_No', 'ohe__Urban_Yes',\n",
       "       'ohe__ShelveLoc_Bad', 'ohe__ShelveLoc_Good',\n",
       "       'ohe__ShelveLoc_Medium', 'remainder__CompPrice',\n",
       "       'remainder__Income', 'remainder__Advertising',\n",
       "       'remainder__Population', 'remainder__Price', 'remainder__Age',\n",
       "       'remainder__Education'], dtype=object)"
      ]
     },
     "execution_count": 208,
     "metadata": {},
     "output_type": "execute_result"
    }
   ],
   "source": [
    "#see the name of features in the output\n",
    "ct.get_feature_names_out()"
   ]
  },
  {
   "cell_type": "code",
   "execution_count": 209,
   "id": "a0c3b421",
   "metadata": {},
   "outputs": [],
   "source": [
    "y = df.iloc[:,0]"
   ]
  },
  {
   "cell_type": "code",
   "execution_count": 210,
   "id": "f2139a28",
   "metadata": {},
   "outputs": [
    {
     "name": "stdout",
     "output_type": "stream",
     "text": [
      "                            OLS Regression Results                            \n",
      "==============================================================================\n",
      "Dep. Variable:                  Sales   R-squared:                       0.873\n",
      "Model:                            OLS   Adj. R-squared:                  0.870\n",
      "Method:                 Least Squares   F-statistic:                     243.4\n",
      "Date:                Wed, 23 Feb 2022   Prob (F-statistic):          1.60e-166\n",
      "Time:                        11:32:12   Log-Likelihood:                -568.99\n",
      "No. Observations:                 400   AIC:                             1162.\n",
      "Df Residuals:                     388   BIC:                             1210.\n",
      "Df Model:                          11                                         \n",
      "Covariance Type:            nonrobust                                         \n",
      "==============================================================================\n",
      "                 coef    std err          t      P>|t|      [0.025      0.975]\n",
      "------------------------------------------------------------------------------\n",
      "x1             3.0542      0.232     13.141      0.000       2.597       3.511\n",
      "x2             2.8701      0.235     12.196      0.000       2.407       3.333\n",
      "x3             2.9007      0.228     12.702      0.000       2.452       3.350\n",
      "x4             3.0236      0.229     13.208      0.000       2.573       3.474\n",
      "x5            -0.2942      0.170     -1.734      0.084      -0.628       0.039\n",
      "x6             4.5560      0.172     26.506      0.000       4.218       4.894\n",
      "x7             1.6625      0.161     10.319      0.000       1.346       1.979\n",
      "x8             0.0928      0.004     22.378      0.000       0.085       0.101\n",
      "x9             0.0158      0.002      8.565      0.000       0.012       0.019\n",
      "x10            0.1231      0.011     11.066      0.000       0.101       0.145\n",
      "x11            0.0002      0.000      0.561      0.575      -0.001       0.001\n",
      "x12           -0.0954      0.003    -35.700      0.000      -0.101      -0.090\n",
      "x13           -0.0460      0.003    -14.472      0.000      -0.052      -0.040\n",
      "x14           -0.0211      0.020     -1.070      0.285      -0.060       0.018\n",
      "==============================================================================\n",
      "Omnibus:                        0.811   Durbin-Watson:                   2.013\n",
      "Prob(Omnibus):                  0.667   Jarque-Bera (JB):                0.765\n",
      "Skew:                           0.107   Prob(JB):                        0.682\n",
      "Kurtosis:                       2.994   Cond. No.                     6.22e+18\n",
      "==============================================================================\n",
      "\n",
      "Notes:\n",
      "[1] Standard Errors assume that the covariance matrix of the errors is correctly specified.\n",
      "[2] The smallest eigenvalue is 1.26e-30. This might indicate that there are\n",
      "strong multicollinearity problems or that the design matrix is singular.\n"
     ]
    }
   ],
   "source": [
    "regressor = sm.OLS(y, X).fit()\n",
    "print(regressor.summary())"
   ]
  },
  {
   "cell_type": "markdown",
   "id": "961f67ed",
   "metadata": {},
   "source": [
    "**Remarks:**<br>\n",
    "we can see large p-value (i.e. > 0.05) in x5, x11 and x14.... For now, we prefer to remove only x11 and x14. Because p-value of x5 is close to threshold 0.05 (common threshold for p-value) and it is one of the categories of `ohe__ShelveLoc`. "
   ]
  },
  {
   "cell_type": "code",
   "execution_count": 211,
   "id": "19353a8e",
   "metadata": {},
   "outputs": [
    {
     "name": "stdout",
     "output_type": "stream",
     "text": [
      "                            OLS Regression Results                            \n",
      "==============================================================================\n",
      "Dep. Variable:                  Sales   R-squared:                       0.873\n",
      "Model:                            OLS   Adj. R-squared:                  0.870\n",
      "Method:                 Least Squares   F-statistic:                     297.6\n",
      "Date:                Wed, 23 Feb 2022   Prob (F-statistic):          1.20e-168\n",
      "Time:                        11:32:13   Log-Likelihood:                -569.82\n",
      "No. Observations:                 400   AIC:                             1160.\n",
      "Df Residuals:                     390   BIC:                             1200.\n",
      "Df Model:                           9                                         \n",
      "Covariance Type:            nonrobust                                         \n",
      "==============================================================================\n",
      "                 coef    std err          t      P>|t|      [0.025      0.975]\n",
      "------------------------------------------------------------------------------\n",
      "x1             2.9755      0.194     15.316      0.000       2.594       3.357\n",
      "x2             2.7886      0.211     13.234      0.000       2.374       3.203\n",
      "x3             2.8205      0.195     14.484      0.000       2.438       3.203\n",
      "x4             2.9435      0.199     14.762      0.000       2.552       3.336\n",
      "x5            -0.3474      0.149     -2.336      0.020      -0.640      -0.055\n",
      "x6             4.5046      0.155     29.080      0.000       4.200       4.809\n",
      "x7             1.6069      0.142     11.304      0.000       1.327       1.886\n",
      "x8             0.0925      0.004     22.407      0.000       0.084       0.101\n",
      "x9             0.0159      0.002      8.621      0.000       0.012       0.019\n",
      "x10            0.1247      0.011     11.810      0.000       0.104       0.145\n",
      "x11           -0.0953      0.003    -35.722      0.000      -0.101      -0.090\n",
      "x12           -0.0462      0.003    -14.528      0.000      -0.052      -0.040\n",
      "==============================================================================\n",
      "Omnibus:                        0.610   Durbin-Watson:                   2.007\n",
      "Prob(Omnibus):                  0.737   Jarque-Bera (JB):                0.639\n",
      "Skew:                           0.094   Prob(JB):                        0.727\n",
      "Kurtosis:                       2.944   Cond. No.                     3.85e+18\n",
      "==============================================================================\n",
      "\n",
      "Notes:\n",
      "[1] Standard Errors assume that the covariance matrix of the errors is correctly specified.\n",
      "[2] The smallest eigenvalue is  1e-30. This might indicate that there are\n",
      "strong multicollinearity problems or that the design matrix is singular.\n"
     ]
    }
   ],
   "source": [
    "X = np.delete(X, obj=[10,13], axis=1)\n",
    "regressor = sm.OLS(y, X).fit()\n",
    "print(regressor.summary())"
   ]
  },
  {
   "cell_type": "code",
   "execution_count": 212,
   "id": "b1912f5d",
   "metadata": {},
   "outputs": [],
   "source": [
    "#now we can see the p=value for x5 is not small any more. Now, let us checkout colinearity..."
   ]
  },
  {
   "cell_type": "code",
   "execution_count": 213,
   "id": "1656c4da",
   "metadata": {},
   "outputs": [
    {
     "data": {
      "text/plain": [
       "array([1.00000000e+06, 1.00000000e+06, 1.00000000e+06, 1.00000000e+06,\n",
       "       1.00000000e+06, 1.00000000e+06, 1.00000000e+06, 1.13998701e+00,\n",
       "       1.00024674e+00, 1.28703466e+00, 1.12345894e+00, 1.00033909e+00])"
      ]
     },
     "execution_count": 213,
     "metadata": {},
     "output_type": "execute_result"
    }
   ],
   "source": [
    "#need to be answered!!!\n",
    "X_scaled = StandardScaler().fit_transform(X)\n",
    "_get_VIF(X_scaled)"
   ]
  },
  {
   "cell_type": "code",
   "execution_count": 214,
   "id": "dd18188d",
   "metadata": {},
   "outputs": [],
   "source": [
    "#why am I getting big VIF for dummy variables? (used to encode categorical feature) \n",
    "#because if we have other encoded tags, we can predict the remaining one!\n",
    "#so, let us drop the first tag as we do encoding..."
   ]
  },
  {
   "cell_type": "code",
   "execution_count": 215,
   "id": "be2bc47b",
   "metadata": {},
   "outputs": [
    {
     "name": "stdout",
     "output_type": "stream",
     "text": [
      "                                 OLS Regression Results                                \n",
      "=======================================================================================\n",
      "Dep. Variable:                  Sales   R-squared (uncentered):                   0.981\n",
      "Model:                            OLS   Adj. R-squared (uncentered):              0.980\n",
      "Method:                 Least Squares   F-statistic:                              1801.\n",
      "Date:                Wed, 23 Feb 2022   Prob (F-statistic):                        0.00\n",
      "Time:                        11:32:16   Log-Likelihood:                         -609.87\n",
      "No. Observations:                 400   AIC:                                      1242.\n",
      "Df Residuals:                     389   BIC:                                      1286.\n",
      "Df Model:                          11                                                  \n",
      "Covariance Type:            nonrobust                                                  \n",
      "==============================================================================\n",
      "                 coef    std err          t      P>|t|      [0.025      0.975]\n",
      "------------------------------------------------------------------------------\n",
      "x1            -0.0333      0.165     -0.202      0.840      -0.357       0.291\n",
      "x2             0.2296      0.124      1.847      0.066      -0.015       0.474\n",
      "x3             5.0276      0.168     29.914      0.000       4.697       5.358\n",
      "x4             2.1366      0.138     15.497      0.000       1.866       2.408\n",
      "x5             0.1159      0.004     31.356      0.000       0.109       0.123\n",
      "x6             0.0209      0.002     10.738      0.000       0.017       0.025\n",
      "x7             0.1162      0.012      9.462      0.000       0.092       0.140\n",
      "x8             0.0012      0.000      3.190      0.002       0.000       0.002\n",
      "x9            -0.0950      0.003    -32.156      0.000      -0.101      -0.089\n",
      "x10           -0.0356      0.003    -10.795      0.000      -0.042      -0.029\n",
      "x11            0.0688      0.019      3.608      0.000       0.031       0.106\n",
      "==============================================================================\n",
      "Omnibus:                        0.981   Durbin-Watson:                   2.075\n",
      "Prob(Omnibus):                  0.612   Jarque-Bera (JB):                1.009\n",
      "Skew:                          -0.007   Prob(JB):                        0.604\n",
      "Kurtosis:                       2.754   Cond. No.                     1.20e+03\n",
      "==============================================================================\n",
      "\n",
      "Notes:\n",
      "[1] R² is computed without centering (uncentered) since the model does not contain a constant.\n",
      "[2] Standard Errors assume that the covariance matrix of the errors is correctly specified.\n",
      "[3] The condition number is large, 1.2e+03. This might indicate that there are\n",
      "strong multicollinearity or other numerical problems.\n"
     ]
    }
   ],
   "source": [
    "ct = ColumnTransformer([('ohe', OneHotEncoder(drop='first'),cat_features)], remainder='passthrough')\n",
    "X = ct.fit_transform(df.iloc[:,1:]) #note that the first column of df is actually the response variable\n",
    "y = df.iloc[:,0]\n",
    "regressor = sm.OLS(y, X).fit()\n",
    "print(regressor.summary())"
   ]
  },
  {
   "cell_type": "markdown",
   "id": "a190c907",
   "metadata": {},
   "source": [
    "Reducing number of dummy variables by dropping one of them (e.g. in case of binary, we can just keep 1, if it is not 1, it means it is 0!!!) increased the r2_score! (please note that this appoach leads to unsymmetric dummy variables which may cause problem (??? see scikit-learn)). \n",
    "\n",
    "We can see that the p-value is not large anymore for the last feature. Let us check out VIF:"
   ]
  },
  {
   "cell_type": "code",
   "execution_count": 216,
   "id": "20d237ca",
   "metadata": {},
   "outputs": [
    {
     "data": {
      "text/plain": [
       "array([1.32477648, 1.00049212, 1.1292939 , 1.13174355, 1.14583405,\n",
       "       1.0005818 , 1.3795381 , 1.01640417, 1.13906471, 1.00042423,\n",
       "       1.00065819])"
      ]
     },
     "execution_count": 216,
     "metadata": {},
     "output_type": "execute_result"
    }
   ],
   "source": [
    "X_scaled = StandardScaler().fit_transform(X)\n",
    "_get_VIF(X_scaled)"
   ]
  },
  {
   "cell_type": "markdown",
   "id": "773b9c96",
   "metadata": {},
   "source": [
    "now we can see the VIF scores are low!... All good :)"
   ]
  },
  {
   "cell_type": "markdown",
   "id": "498d1390",
   "metadata": {},
   "source": [
    "## Exercises"
   ]
  },
  {
   "cell_type": "code",
   "execution_count": null,
   "id": "a2952e78",
   "metadata": {},
   "outputs": [],
   "source": []
  }
 ],
 "metadata": {
  "kernelspec": {
   "display_name": "Python 3 (ipykernel)",
   "language": "python",
   "name": "python3"
  },
  "language_info": {
   "codemirror_mode": {
    "name": "ipython",
    "version": 3
   },
   "file_extension": ".py",
   "mimetype": "text/x-python",
   "name": "python",
   "nbconvert_exporter": "python",
   "pygments_lexer": "ipython3",
   "version": "3.8.5"
  }
 },
 "nbformat": 4,
 "nbformat_minor": 5
}
