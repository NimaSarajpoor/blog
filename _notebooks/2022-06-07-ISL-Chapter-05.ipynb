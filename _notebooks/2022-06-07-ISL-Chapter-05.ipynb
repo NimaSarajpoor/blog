{
 "cells": [
  {
   "cell_type": "markdown",
   "id": "0f6f6f43",
   "metadata": {},
   "source": [
    "This notebook covers **chapter 05: Resampling Methods** of the book [ISL](https://www.statlearning.com/).\n",
    "\n",
    "**NOTE:**\n",
    "Most of these ideas are not directly applicable to unsupervised learning. In unsupervised learning, we do not have labels, and therefore, there are other approaches to measure the validity of clusters."
   ]
  },
  {
   "cell_type": "markdown",
   "id": "16a3f6a5",
   "metadata": {},
   "source": [
    "The idea is to resample again and again from a data set to obtain additional information about the fitted model!"
   ]
  },
  {
   "cell_type": "markdown",
   "id": "d1e86628",
   "metadata": {},
   "source": [
    "**Resampling Methods**\n",
    "* **Cross-Validation**\n",
    "    * Validation set\n",
    "    * Leave-One-Out Cross-Validation (LOOCV)\n",
    "    * k-Fold Cross-Validtion (poplular!)\n",
    "* **bootstrap**\n",
    "    * h"
   ]
  },
  {
   "cell_type": "markdown",
   "id": "222cd60b",
   "metadata": {},
   "source": [
    "## import libraries"
   ]
  },
  {
   "cell_type": "code",
   "execution_count": 97,
   "id": "cf4863a1",
   "metadata": {},
   "outputs": [],
   "source": [
    "import numpy as np \n",
    "import pandas as pd\n",
    "import matplotlib.pyplot as plt \n",
    "\n",
    "from sklearn.linear_model import LinearRegression\n",
    "from sklearn.metrics import mean_squared_error\n",
    "from sklearn.preprocessing import PolynomialFeatures\n",
    "from sklearn.model_selection import KFold\n",
    "\n",
    "from sklearn.model_selection import train_test_split\n",
    "from sklearn.model_selection import LeaveOneOut"
   ]
  },
  {
   "cell_type": "markdown",
   "id": "026eeda5",
   "metadata": {},
   "source": [
    "## data"
   ]
  },
  {
   "cell_type": "code",
   "execution_count": 4,
   "id": "d0d1bdd2",
   "metadata": {},
   "outputs": [
    {
     "data": {
      "text/html": [
       "<div>\n",
       "<style scoped>\n",
       "    .dataframe tbody tr th:only-of-type {\n",
       "        vertical-align: middle;\n",
       "    }\n",
       "\n",
       "    .dataframe tbody tr th {\n",
       "        vertical-align: top;\n",
       "    }\n",
       "\n",
       "    .dataframe thead th {\n",
       "        text-align: right;\n",
       "    }\n",
       "</style>\n",
       "<table border=\"1\" class=\"dataframe\">\n",
       "  <thead>\n",
       "    <tr style=\"text-align: right;\">\n",
       "      <th></th>\n",
       "      <th>mpg</th>\n",
       "      <th>cylinders</th>\n",
       "      <th>displacement</th>\n",
       "      <th>horsepower</th>\n",
       "      <th>weight</th>\n",
       "      <th>acceleration</th>\n",
       "      <th>year</th>\n",
       "      <th>origin</th>\n",
       "      <th>name</th>\n",
       "    </tr>\n",
       "  </thead>\n",
       "  <tbody>\n",
       "    <tr>\n",
       "      <th>1</th>\n",
       "      <td>18.0</td>\n",
       "      <td>8</td>\n",
       "      <td>307.0</td>\n",
       "      <td>130</td>\n",
       "      <td>3504</td>\n",
       "      <td>12.0</td>\n",
       "      <td>70</td>\n",
       "      <td>1</td>\n",
       "      <td>chevrolet chevelle malibu</td>\n",
       "    </tr>\n",
       "    <tr>\n",
       "      <th>2</th>\n",
       "      <td>15.0</td>\n",
       "      <td>8</td>\n",
       "      <td>350.0</td>\n",
       "      <td>165</td>\n",
       "      <td>3693</td>\n",
       "      <td>11.5</td>\n",
       "      <td>70</td>\n",
       "      <td>1</td>\n",
       "      <td>buick skylark 320</td>\n",
       "    </tr>\n",
       "    <tr>\n",
       "      <th>3</th>\n",
       "      <td>18.0</td>\n",
       "      <td>8</td>\n",
       "      <td>318.0</td>\n",
       "      <td>150</td>\n",
       "      <td>3436</td>\n",
       "      <td>11.0</td>\n",
       "      <td>70</td>\n",
       "      <td>1</td>\n",
       "      <td>plymouth satellite</td>\n",
       "    </tr>\n",
       "    <tr>\n",
       "      <th>4</th>\n",
       "      <td>16.0</td>\n",
       "      <td>8</td>\n",
       "      <td>304.0</td>\n",
       "      <td>150</td>\n",
       "      <td>3433</td>\n",
       "      <td>12.0</td>\n",
       "      <td>70</td>\n",
       "      <td>1</td>\n",
       "      <td>amc rebel sst</td>\n",
       "    </tr>\n",
       "    <tr>\n",
       "      <th>5</th>\n",
       "      <td>17.0</td>\n",
       "      <td>8</td>\n",
       "      <td>302.0</td>\n",
       "      <td>140</td>\n",
       "      <td>3449</td>\n",
       "      <td>10.5</td>\n",
       "      <td>70</td>\n",
       "      <td>1</td>\n",
       "      <td>ford torino</td>\n",
       "    </tr>\n",
       "    <tr>\n",
       "      <th>...</th>\n",
       "      <td>...</td>\n",
       "      <td>...</td>\n",
       "      <td>...</td>\n",
       "      <td>...</td>\n",
       "      <td>...</td>\n",
       "      <td>...</td>\n",
       "      <td>...</td>\n",
       "      <td>...</td>\n",
       "      <td>...</td>\n",
       "    </tr>\n",
       "    <tr>\n",
       "      <th>393</th>\n",
       "      <td>27.0</td>\n",
       "      <td>4</td>\n",
       "      <td>140.0</td>\n",
       "      <td>86</td>\n",
       "      <td>2790</td>\n",
       "      <td>15.6</td>\n",
       "      <td>82</td>\n",
       "      <td>1</td>\n",
       "      <td>ford mustang gl</td>\n",
       "    </tr>\n",
       "    <tr>\n",
       "      <th>394</th>\n",
       "      <td>44.0</td>\n",
       "      <td>4</td>\n",
       "      <td>97.0</td>\n",
       "      <td>52</td>\n",
       "      <td>2130</td>\n",
       "      <td>24.6</td>\n",
       "      <td>82</td>\n",
       "      <td>2</td>\n",
       "      <td>vw pickup</td>\n",
       "    </tr>\n",
       "    <tr>\n",
       "      <th>395</th>\n",
       "      <td>32.0</td>\n",
       "      <td>4</td>\n",
       "      <td>135.0</td>\n",
       "      <td>84</td>\n",
       "      <td>2295</td>\n",
       "      <td>11.6</td>\n",
       "      <td>82</td>\n",
       "      <td>1</td>\n",
       "      <td>dodge rampage</td>\n",
       "    </tr>\n",
       "    <tr>\n",
       "      <th>396</th>\n",
       "      <td>28.0</td>\n",
       "      <td>4</td>\n",
       "      <td>120.0</td>\n",
       "      <td>79</td>\n",
       "      <td>2625</td>\n",
       "      <td>18.6</td>\n",
       "      <td>82</td>\n",
       "      <td>1</td>\n",
       "      <td>ford ranger</td>\n",
       "    </tr>\n",
       "    <tr>\n",
       "      <th>397</th>\n",
       "      <td>31.0</td>\n",
       "      <td>4</td>\n",
       "      <td>119.0</td>\n",
       "      <td>82</td>\n",
       "      <td>2720</td>\n",
       "      <td>19.4</td>\n",
       "      <td>82</td>\n",
       "      <td>1</td>\n",
       "      <td>chevy s-10</td>\n",
       "    </tr>\n",
       "  </tbody>\n",
       "</table>\n",
       "<p>392 rows × 9 columns</p>\n",
       "</div>"
      ],
      "text/plain": [
       "      mpg  cylinders  displacement  horsepower  weight  acceleration  year  \\\n",
       "1    18.0          8         307.0         130    3504          12.0    70   \n",
       "2    15.0          8         350.0         165    3693          11.5    70   \n",
       "3    18.0          8         318.0         150    3436          11.0    70   \n",
       "4    16.0          8         304.0         150    3433          12.0    70   \n",
       "5    17.0          8         302.0         140    3449          10.5    70   \n",
       "..    ...        ...           ...         ...     ...           ...   ...   \n",
       "393  27.0          4         140.0          86    2790          15.6    82   \n",
       "394  44.0          4          97.0          52    2130          24.6    82   \n",
       "395  32.0          4         135.0          84    2295          11.6    82   \n",
       "396  28.0          4         120.0          79    2625          18.6    82   \n",
       "397  31.0          4         119.0          82    2720          19.4    82   \n",
       "\n",
       "     origin                       name  \n",
       "1         1  chevrolet chevelle malibu  \n",
       "2         1          buick skylark 320  \n",
       "3         1         plymouth satellite  \n",
       "4         1              amc rebel sst  \n",
       "5         1                ford torino  \n",
       "..      ...                        ...  \n",
       "393       1            ford mustang gl  \n",
       "394       2                  vw pickup  \n",
       "395       1              dodge rampage  \n",
       "396       1                ford ranger  \n",
       "397       1                 chevy s-10  \n",
       "\n",
       "[392 rows x 9 columns]"
      ]
     },
     "execution_count": 4,
     "metadata": {},
     "output_type": "execute_result"
    }
   ],
   "source": [
    "# Auto_2.csv data\n",
    "# problem: predicting mpg using horsepower\n",
    "\n",
    "data = pd.read_csv(\"./datasets/Auto_2.csv\", index_col=0)\n",
    "data"
   ]
  },
  {
   "cell_type": "code",
   "execution_count": 10,
   "id": "a40a3383",
   "metadata": {},
   "outputs": [],
   "source": [
    "features_name = ['horsepower']\n",
    "target_name = ['mpg']"
   ]
  },
  {
   "cell_type": "code",
   "execution_count": 17,
   "id": "6f59030f",
   "metadata": {},
   "outputs": [
    {
     "data": {
      "image/png": "[encoded data removed]",
      "text/plain": [
       "<Figure size 432x288 with 1 Axes>"
      ]
     },
     "metadata": {
      "needs_background": "light"
     },
     "output_type": "display_data"
    }
   ],
   "source": [
    "# visualization\n",
    "\n",
    "X = data[features_name].to_numpy(dtype=np.float64)\n",
    "y = data[target_name].to_numpy(dtype=np.float64)\n",
    "\n",
    "plt.scatter(X, y)\n",
    "plt.title(\"Auto_2 data\")\n",
    "plt.xlabel('horsepower')\n",
    "plt.ylabel('mpg')\n",
    "plt.show()"
   ]
  },
  {
   "cell_type": "markdown",
   "id": "78fb390b",
   "metadata": {},
   "source": [
    "It  seems there is a quadratic (or maybe with higher degree) relationship between the feature `horsepower` and `mpg`. Let us see if we can find it out."
   ]
  },
  {
   "cell_type": "code",
   "execution_count": 26,
   "id": "7953268f",
   "metadata": {},
   "outputs": [
    {
     "name": "stdout",
     "output_type": "stream",
     "text": [
      "shape of X:  (392, 1)\n",
      "shape of y:  (392,)\n"
     ]
    }
   ],
   "source": [
    "X = data[features_name].to_numpy(dtype=np.float64)\n",
    "y = data[target_name].to_numpy(dtype=np.float64).ravel()\n",
    "\n",
    "print('shape of X: ', X.shape)\n",
    "print('shape of y: ', y.shape)"
   ]
  },
  {
   "cell_type": "markdown",
   "id": "6d648649",
   "metadata": {},
   "source": [
    "## Cross Validation"
   ]
  },
  {
   "cell_type": "markdown",
   "id": "364f004a",
   "metadata": {},
   "source": [
    "The idea is simple: creating a `train set` and `validation set` from a data set to examine the performance of fitted model on validation set. But, there are different ways on how to get those train / test sets, and how to perform evaluation."
   ]
  },
  {
   "cell_type": "markdown",
   "id": "332f5d32",
   "metadata": {},
   "source": [
    "### I. Validation Set"
   ]
  },
  {
   "cell_type": "markdown",
   "id": "146e4baa",
   "metadata": {},
   "source": [
    "In validation set, the data set is partitioned into two parts, train set and validation set, e.g. 70% train, and 30% validation test. (Note that this is `train_test_split` in scikit-learn!). Then, we fit the model on train set, and then evaluate its performance on test set."
   ]
  },
  {
   "cell_type": "code",
   "execution_count": 40,
   "id": "b3d92aaf",
   "metadata": {},
   "outputs": [
    {
     "name": "stdout",
     "output_type": "stream",
     "text": [
      "i-->0--1--2--3--4--5--6--7--8--9--Done!\n"
     ]
    }
   ],
   "source": [
    "MSE = []\n",
    "n_itr = 10\n",
    "max_degree = 10\n",
    "\n",
    "print('i', end='-->')\n",
    "for i in range(n_itr):\n",
    "    print(i, end='--')\n",
    "    MSE_i = []\n",
    "    seed = i \n",
    "    for j in range(1, max_degree + 1):\n",
    "        X_poly = PolynomialFeatures(degree=j).fit_transform(X)\n",
    "        X_train, X_test, y_train, y_test = train_test_split(X_poly, y, test_size=0.25, random_state=seed)\n",
    "        \n",
    "        model = LinearRegression().fit(X_train, y_train)\n",
    "        y_test_pred = model.predict(X_test)\n",
    "        mse = mean_squared_error(y_test, y_test_pred)\n",
    "        MSE_i.append(mse)\n",
    "    \n",
    "    MSE.append(MSE_i)\n",
    "\n",
    "print('Done!')"
   ]
  },
  {
   "cell_type": "code",
   "execution_count": 72,
   "id": "e68784b5",
   "metadata": {},
   "outputs": [
    {
     "data": {
      "image/png": "[encoded data removed]",
      "text/plain": [
       "<Figure size 504x288 with 1 Axes>"
      ]
     },
     "metadata": {
      "needs_background": "light"
     },
     "output_type": "display_data"
    }
   ],
   "source": [
    "# Reproducing Fig.5.2 (right)\n",
    "# Note that the splitting of data and different size of train set can result in different figures.\n",
    "\n",
    "plt.figure(figsize=(7, 4))\n",
    "for i in range(n_itr):\n",
    "    plt.plot(MSE[i], label=f'seed: {i}')\n",
    "\n",
    "xticks = list(range(0, max_degree))\n",
    "xlabels = list(range(1, max_degree + 1))\n",
    "plt.xticks(ticks=xticks, labels=xlabels)\n",
    "\n",
    "plt.xlabel('Polynomical feature degree')\n",
    "plt.ylabel('MSE')\n",
    "plt.legend(bbox_to_anchor=(1.01, 0, 0.2, 0.7))\n",
    "plt.show()"
   ]
  },
  {
   "cell_type": "markdown",
   "id": "d25758e3",
   "metadata": {},
   "source": [
    "Let us take a look degree 6. According to seed 8, MSE is high; howeber, MSE is lowest in seed 9! In other ways, different randomized seperation of train/validation sets can results in different outcomes! "
   ]
  },
  {
   "cell_type": "markdown",
   "id": "8a3202f7",
   "metadata": {},
   "source": [
    "**Advantage:** \n",
    "* Easy!\n",
    "\n",
    "**Disadvantage:** \n",
    "* The splitting part is happening once, and therefore, there is a high chance that our model does not capture the underlying structure of data. In other words, if we repeat this process several times, there is a high chance that we get different MSE curves (for different DoF). \n",
    "\n",
    "* In this approach, we are losing a chunk of data and therefore, the fitted model may not be fitted well. So, it may performs worse compared to when it is trained using the whole data. So, it can overestimate the test error!"
   ]
  },
  {
   "cell_type": "markdown",
   "id": "ffcac545",
   "metadata": {},
   "source": [
    "### II. LOOCV"
   ]
  },
  {
   "cell_type": "markdown",
   "id": "978ade60",
   "metadata": {},
   "source": [
    "For a data set with m observations, this approach creates m datasets such that the `i-th` data set contains all observations except the `i-th` one! The idea is to fit a model on `m-1` observation but hold out one and then evaluate the fitted model on that held-out observation. By doing this process for each of those m observations, we will get m values for  MSE, and thus: $MSE_{tot} = avg(MSEs)$"
   ]
  },
  {
   "cell_type": "markdown",
   "id": "cc984f75",
   "metadata": {},
   "source": [
    "**Advantage:**\n",
    "* It has far less bias compared to `Validation Set` approach. It is repeated `m` times, and each time we fit the model with help of almost all observations (we are just excluding one observation each time). Therefore, it does not overestimate the test error.\n",
    "* Since this method performs on each of those m observations, the result will remain the same.\n",
    "\n",
    "**Disadvantage:**\n",
    "* Computing time: For large data sets and / or comlex models that require high computing time, this method is heavily time consuming. "
   ]
  },
  {
   "cell_type": "code",
   "execution_count": 88,
   "id": "4da7102d",
   "metadata": {},
   "outputs": [],
   "source": [
    "MSE = []\n",
    "max_degree = 10\n",
    "\n",
    "for deg in range(1, max_degree + 1):\n",
    "    sum_mse = 0\n",
    "    loocv = LeaveOneOut()\n",
    "    X_poly = PolynomialFeatures(degree=deg).fit_transform(X)\n",
    "    \n",
    "    for train_IDX, test_idx in loocv.split(X_poly):\n",
    "        regressor = LinearRegression().fit(X_poly[train_IDX], y[train_IDX])\n",
    "        y_test_pred = regressor.predict(X_poly[test_idx])\n",
    "    \n",
    "        sum_mse += mean_squared_error(y[test_idx], y_test_pred)\n",
    "    \n",
    "    avg_sme = sum_mse / X_poly.shape[0]\n",
    "    MSE.append(avg_sme)"
   ]
  },
  {
   "cell_type": "code",
   "execution_count": 91,
   "id": "1179db30",
   "metadata": {},
   "outputs": [
    {
     "data": {
      "image/png": "[encoded data removed]",
      "text/plain": [
       "<Figure size 504x288 with 1 Axes>"
      ]
     },
     "metadata": {
      "needs_background": "light"
     },
     "output_type": "display_data"
    }
   ],
   "source": [
    "plt.figure(figsize=(7, 4))\n",
    "plt.plot(MSE, label='LOOCV')\n",
    "\n",
    "xticks = list(range(0, max_degree))\n",
    "xlabels = list(range(1, max_degree + 1))\n",
    "plt.xticks(ticks=xticks, labels=xlabels)\n",
    "\n",
    "plt.xlabel('Polynomical feature degree')\n",
    "plt.ylabel('MSE')\n",
    "plt.legend()\n",
    "plt.show()"
   ]
  },
  {
   "cell_type": "markdown",
   "id": "7f378ac4",
   "metadata": {},
   "source": [
    "### III. K-Fold Cross-Validation"
   ]
  },
  {
   "cell_type": "markdown",
   "id": "54a12679",
   "metadata": {},
   "source": [
    "This can be a trade-off betweem `Validation Set` and `LOOCV`. In this approach, we divide a data set into k (usually equally-sized) groups. Then, we hold out one group as a validation set, and fit the model on the remaining data. We do this for `k` iteration, and in each iteration we hold out one of those `k` groups. The MSE is the average of MSE on test set."
   ]
  },
  {
   "cell_type": "code",
   "execution_count": 100,
   "id": "4d5c9ed8",
   "metadata": {},
   "outputs": [],
   "source": [
    "cv = 10\n",
    "n_itr = 10\n",
    "\n",
    "MSE = []\n",
    "for i in range(n_itr):\n",
    "    MSE_i = []\n",
    "    for deg in range(1, 11):\n",
    "        X_poly = PolynomialFeatures(degree=deg).fit_transform(X)\n",
    "        \n",
    "        mse = 0\n",
    "        kf = KFold(n_splits=cv, shuffle=True, random_state=i)\n",
    "        for train_index, test_index in kf.split(X_poly):\n",
    "            regressor = LinearRegression().fit(X_poly[train_index], y[train_index])\n",
    "            y_test_pred = regressor.predict(X_poly[test_index])\n",
    "            mse += mean_squared_error(y[test_index], y_test_pred)\n",
    "\n",
    "        mse_avg = mse / cv\n",
    "        MSE_i.append(mse_avg)\n",
    "    \n",
    "    MSE.append(MSE_i)"
   ]
  },
  {
   "cell_type": "code",
   "execution_count": 102,
   "id": "4d441120",
   "metadata": {},
   "outputs": [
    {
     "data": {
      "image/png": "[encoded data removed]",
      "text/plain": [
       "<Figure size 432x288 with 1 Axes>"
      ]
     },
     "metadata": {
      "needs_background": "light"
     },
     "output_type": "display_data"
    }
   ],
   "source": [
    "for i in range(n_itr):\n",
    "    plt.plot(MSE[i])\n",
    "    \n",
    "plt.xlabel('Polynomical feature degree')\n",
    "plt.ylabel('MSE')\n",
    "plt.show()"
   ]
  },
  {
   "cell_type": "markdown",
   "id": "9ff0fc05",
   "metadata": {},
   "source": [
    "Now we can see the curves are close to each other. This shows that our decision based on a particular partitioning of data set (into k-folds) can be trusted."
   ]
  },
  {
   "cell_type": "markdown",
   "id": "45499ffd",
   "metadata": {},
   "source": [
    "`K-Fold` is also good for  bias-variance trade-off. There is no doubt that LOOCV has less bias as it uses almost all data for training the model. However, since LOOCV is using almost all information in each iteration, it can result in a high-variance model. So, it cannot understand the underlying structure of  data. \n",
    "<br>\n",
    "k-fold, on the other hand, is good for creating a trade-off between bias and variance. Since it is not using all the data, it is better in avoiding variance as it tries to capture the overal behavior of data rather than creating a model that is fitted well to almost all seen data."
   ]
  },
  {
   "cell_type": "markdown",
   "id": "3a279542",
   "metadata": {},
   "source": [
    "**NOTE:**\n",
    "<br>\n",
    "In classification, we have the indicator `I`, which is 1 for correct prediction, and 0 for incorrect one. So, the cv concepts can be easily extended to classification topic as well.\n",
    "\n",
    "\n",
    "**off-topic note:**\n",
    "<br>\n",
    "what is quadratic logistic regression? It is a logistic regression on feature X_poly, the outcome of Polynomical feature engineering.\n",
    "\n",
    "\n",
    "**off-topic note:**\n",
    "<br>\n",
    "In KNN, higher value of `k`, means less flexibility (and thus less variance) but higher bias. (Think about highest value for k... what is that? It is all neighbors, so the out come of KNN will remain the same from one test point to another. This shows that we have lowest flexibility and highest bias!. The variance is also 0 as it does not change!!)"
   ]
  },
  {
   "cell_type": "markdown",
   "id": "cbdc366e",
   "metadata": {},
   "source": [
    "## Bootstrapping\n",
    "\n",
    "In nutshell, it is sampling n items from n observations, with replacement! So, one set of samples might have more than one of the same observation. We can then calculate the standard deviation of the variable of our interest using the `B` sets of samples created through bootstrapping."
   ]
  },
  {
   "cell_type": "markdown",
   "id": "61d49ebb",
   "metadata": {},
   "source": [
    "The idea is simple and thus, we avoid providing further details here."
   ]
  },
  {
   "cell_type": "code",
   "execution_count": null,
   "id": "7c49f947",
   "metadata": {},
   "outputs": [],
   "source": []
  }
 ],
 "metadata": {
  "kernelspec": {
   "display_name": "Python 3 (ipykernel)",
   "language": "python",
   "name": "python3"
  },
  "language_info": {
   "codemirror_mode": {
    "name": "ipython",
    "version": 3
   },
   "file_extension": ".py",
   "mimetype": "text/x-python",
   "name": "python",
   "nbconvert_exporter": "python",
   "pygments_lexer": "ipython3",
   "version": "3.8.5"
  }
 },
 "nbformat": 4,
 "nbformat_minor": 5
}
